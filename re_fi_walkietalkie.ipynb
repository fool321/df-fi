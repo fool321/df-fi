{
  "nbformat": 4,
  "nbformat_minor": 0,
  "metadata": {
    "colab": {
      "name": "Re_Fi_WalkieTalkie.ipynb",
      "provenance": [],
      "machine_shape": "hm",
      "authorship_tag": "ABX9TyNFm+fBPoK7cjetyxh+5fYM",
      "include_colab_link": true
    },
    "kernelspec": {
      "name": "python3",
      "display_name": "Python 3"
    },
    "language_info": {
      "name": "python"
    },
    "accelerator": "GPU"
  },
  "cells": [
    {
      "cell_type": "markdown",
      "metadata": {
        "id": "view-in-github",
        "colab_type": "text"
      },
      "source": [
        "<a href=\"https://colab.research.google.com/gist/fool321/c4a735dbf5144da084283a423d3d8f29/re_fi_walkietalkie.ipynb\" target=\"_parent\"><img src=\"https://colab.research.google.com/assets/colab-badge.svg\" alt=\"Open In Colab\"/></a>"
      ]
    },
    {
      "cell_type": "markdown",
      "metadata": {
        "id": "f-s8BbnBjUNa"
      },
      "source": [
        "# Re_Fi_WalkieTalkie\n",
        "This notebook divided into 3 part:\n",
        "1. Data Load\n",
        "2. Model Build\n",
        "3. Model Evaluation\n",
        "\n"
      ]
    },
    {
      "cell_type": "markdown",
      "metadata": {
        "id": "OcRMY7DsjUNe"
      },
      "source": [
        "## Data Load \n",
        "Load data from Walkie-Talkie dataset"
      ]
    },
    {
      "cell_type": "markdown",
      "metadata": {
        "id": "T42XQDh_jUNe"
      },
      "source": [
        "### mount data"
      ]
    },
    {
      "cell_type": "code",
      "metadata": {
        "colab": {
          "base_uri": "https://localhost:8080/"
        },
        "id": "62rRhPlgjUNe",
        "outputId": "620597a7-469c-4a97-e9b7-f673395c6802"
      },
      "source": [
        "# mount data\n",
        "from google.colab import drive\n",
        "import os,sys\n",
        "drive.mount('/content/drive/',force_remount=\"True\")"
      ],
      "execution_count": 1,
      "outputs": [
        {
          "output_type": "stream",
          "text": [
            "Mounted at /content/drive/\n"
          ],
          "name": "stdout"
        }
      ]
    },
    {
      "cell_type": "code",
      "metadata": {
        "id": "2uRUXATzjUNe"
      },
      "source": [
        "# according to the path of data file\n",
        "os.chdir('drive/MyDrive/df-fi/')\n",
        "os.chdir('df-fi/src')\n",
        "sys.path.append('/content/drive/My Drive/df-fi/df-fi/src')"
      ],
      "execution_count": 2,
      "outputs": []
    },
    {
      "cell_type": "code",
      "metadata": {
        "colab": {
          "base_uri": "https://localhost:8080/",
          "height": 35
        },
        "id": "Cv4JximhjUNf",
        "outputId": "4ad58e01-b6b1-42d8-bee6-0852b049cac9"
      },
      "source": [
        "%pwd"
      ],
      "execution_count": 3,
      "outputs": [
        {
          "output_type": "execute_result",
          "data": {
            "application/vnd.google.colaboratory.intrinsic+json": {
              "type": "string"
            },
            "text/plain": [
              "'/content/drive/MyDrive/df-fi/df-fi/src'"
            ]
          },
          "metadata": {
            "tags": []
          },
          "execution_count": 3
        }
      ]
    },
    {
      "cell_type": "markdown",
      "metadata": {
        "id": "EeMks5xejUNf"
      },
      "source": [
        "### Load data"
      ]
    },
    {
      "cell_type": "code",
      "metadata": {
        "id": "532nVLxGjUNf"
      },
      "source": [
        "from keras import backend as K\n",
        "from Model_NoDef import DFNet\n",
        "import random,os\n",
        "from keras.utils import np_utils\n",
        "from keras.optimizers import Adamax\n",
        "import numpy as np\n",
        "import pickle as pickle\n",
        "from keras.applications.resnet50 import ResNet50\n",
        "from keras.preprocessing import image\n",
        "from keras.applications.resnet50 import preprocess_input, decode_predictions"
      ],
      "execution_count": 8,
      "outputs": []
    },
    {
      "cell_type": "code",
      "metadata": {
        "id": "8LH31mfKjUNf"
      },
      "source": [
        "def LoadDataWalkieTalkieCW_py3():\n",
        "\n",
        "    print(\"Loading Walkie-Talkie dataset for closed-world scenario\")\n",
        "    # Point to the directory storing data\n",
        "    dataset_dir = '../../../di-fi-data/data/WalkieTalkie/'\n",
        "\n",
        "    # X represents a sequence of traffic directions\n",
        "    # y represents a sequence of corresponding label (website's label)\n",
        "\n",
        "    # Load training data\n",
        "    with open(dataset_dir + 'X_train_WalkieTalkie.pkl', 'rb') as handle:\n",
        "        X_train = np.array(pickle.load(handle,encoding='bytes'))\n",
        "    with open(dataset_dir + 'y_train_WalkieTalkie.pkl', 'rb') as handle:\n",
        "        y_train = np.array(pickle.load(handle,encoding='bytes'))\n",
        "\n",
        "    # Load validation data\n",
        "    with open(dataset_dir + 'X_valid_WalkieTalkie.pkl', 'rb') as handle:\n",
        "        X_valid = np.array(pickle.load(handle,encoding='bytes'))\n",
        "    with open(dataset_dir + 'y_valid_WalkieTalkie.pkl', 'rb') as handle:\n",
        "        y_valid = np.array(pickle.load(handle,encoding='bytes'))\n",
        "\n",
        "    # Load testing data\n",
        "    with open(dataset_dir + 'X_test_WalkieTalkie.pkl', 'rb') as handle:\n",
        "        X_test = np.array(pickle.load(handle,encoding='bytes'))\n",
        "    with open(dataset_dir + 'y_test_WalkieTalkie.pkl', 'rb') as handle:\n",
        "        y_test = np.array(pickle.load(handle,encoding='bytes'))\n",
        "\n",
        "    print(\"Data dimensions:\")\n",
        "    print(\"X: Training data's shape : \", X_train.shape)\n",
        "    print(\"y: Training data's shape : \", y_train.shape)\n",
        "    print(\"X: Validation data's shape : \", X_valid.shape)\n",
        "    print(\"y: Validation data's shape : \", y_valid.shape)\n",
        "    print(\"X: Testing data's shape : \", X_test.shape)\n",
        "    print(\"y: Testing data's shape : \", y_test.shape)\n",
        "\n",
        "    return X_train, y_train, X_valid, y_valid, X_test, y_test"
      ],
      "execution_count": 9,
      "outputs": []
    },
    {
      "cell_type": "code",
      "metadata": {
        "colab": {
          "base_uri": "https://localhost:8080/"
        },
        "id": "IMejQiR3jUNf",
        "outputId": "3ecfa72a-4ab0-44a6-d8bd-de21e004bbad"
      },
      "source": [
        "random.seed(0)\n",
        "os.environ['TF_CPP_MIN_LOG_LEVEL'] = '3'\n",
        "\n",
        "description = \"Training and evaluating DF model for closed-world scenario on Walkie-Talkie dataset\"\n",
        "\n",
        "print(description)\n",
        "# Training the Re-Fi model\n",
        "\n",
        "BATCH_SIZE = 128 # Batch size\n",
        "VERBOSE = 2 # Output display mode\n",
        "LENGTH = 5000 # Packet sequence length\n",
        "OPTIMIZER = Adamax(learning_rate=0.002, beta_1=0.9, beta_2=0.999, epsilon=1e-08, decay=0.0) # Optimizer\n",
        "NB_CLASSES = 100 # number of outputs = number of classes\n",
        "INPUT_SHAPE = (LENGTH,1)\n",
        "\n",
        "NB_EPOCH = 30   # Number of training epoch\n",
        "print(\"Number of Epoch: \", NB_EPOCH)\n",
        "print(\"NB_CLASSES: \",NB_CLASSES)\n"
      ],
      "execution_count": 10,
      "outputs": [
        {
          "output_type": "stream",
          "text": [
            "Training and evaluating DF model for closed-world scenario on Walkie-Talkie dataset\n",
            "Number of Epoch:  30\n",
            "NB_CLASSES:  100\n"
          ],
          "name": "stdout"
        }
      ]
    },
    {
      "cell_type": "code",
      "metadata": {
        "colab": {
          "base_uri": "https://localhost:8080/"
        },
        "id": "kuZ3fplejUNg",
        "outputId": "53466ad5-ca1d-4cb9-cbb0-ee9d4098600f"
      },
      "source": [
        "# Data: shuffled and split between train and test sets\n",
        "print (\"Loading and preparing data for training, and evaluating the model\")\n",
        "X_train, y_train, X_valid, y_valid, X_test, y_test = LoadDataWalkieTalkieCW_py3()"
      ],
      "execution_count": 11,
      "outputs": [
        {
          "output_type": "stream",
          "text": [
            "Loading and preparing data for training, and evaluating the model\n",
            "Loading Walkie-Talkie dataset for closed-world scenario\n",
            "Data dimensions:\n",
            "X: Training data's shape :  (80000, 5000)\n",
            "y: Training data's shape :  (80000,)\n",
            "X: Validation data's shape :  (5000, 5000)\n",
            "y: Validation data's shape :  (5000,)\n",
            "X: Testing data's shape :  (5000, 5000)\n",
            "y: Testing data's shape :  (5000,)\n"
          ],
          "name": "stdout"
        }
      ]
    },
    {
      "cell_type": "code",
      "metadata": {
        "colab": {
          "base_uri": "https://localhost:8080/"
        },
        "id": "lNWV2Dp3jUNg",
        "outputId": "252e3501-6728-4960-cec6-ba18e09c8c83"
      },
      "source": [
        "print (\"number of training examples = \" + str(X_train.shape[0]))\n",
        "print (\"number of test examples = \" + str(X_test.shape[0]))\n",
        "print (\"X_train shape: \" + str(X_train.shape))\n",
        "print (\"Y_train shape: \" + str(y_train.shape))\n",
        "print (\"X_test shape: \" + str(X_test.shape))\n",
        "print (\"Y_test shape: \" + str(y_test.shape))"
      ],
      "execution_count": 12,
      "outputs": [
        {
          "output_type": "stream",
          "text": [
            "number of training examples = 80000\n",
            "number of test examples = 5000\n",
            "X_train shape: (80000, 5000)\n",
            "Y_train shape: (80000,)\n",
            "X_test shape: (5000, 5000)\n",
            "Y_test shape: (5000,)\n"
          ],
          "name": "stdout"
        }
      ]
    },
    {
      "cell_type": "code",
      "metadata": {
        "colab": {
          "base_uri": "https://localhost:8080/"
        },
        "id": "6zZZeND0jUNg",
        "outputId": "8abfa5ca-bde4-48b0-b153-ebe2e8bb8ac8"
      },
      "source": [
        "# Convert data as float32 type\n",
        "X_train = X_train.astype('float32')\n",
        "X_valid = X_valid.astype('float32')\n",
        "X_test = X_test.astype('float32')\n",
        "y_train = y_train.astype('float32')\n",
        "y_valid = y_valid.astype('float32')\n",
        "y_test = y_test.astype('float32')\n",
        "\n",
        "# we need a [Length x 1] x n shape as input to the CNN (Tensorflow)\n",
        "X_train = X_train[:, :,np.newaxis]\n",
        "X_valid = X_valid[:, :,np.newaxis]\n",
        "X_test = X_test[:, :,np.newaxis]\n",
        "\n",
        "print((X_train.shape[0], 'train samples'))\n",
        "print((X_valid.shape[0], 'validation samples'))\n",
        "print((X_test.shape[0], 'test samples'))\n",
        "\n",
        "# Convert class vectors to categorical classes matrices\n",
        "y_train = np_utils.to_categorical(y_train, NB_CLASSES)\n",
        "y_valid = np_utils.to_categorical(y_valid, NB_CLASSES)\n",
        "y_test = np_utils.to_categorical(y_test, NB_CLASSES)\n",
        "\n",
        "# Building and training model\n",
        "print (\"Building and training DF model\")"
      ],
      "execution_count": 13,
      "outputs": [
        {
          "output_type": "stream",
          "text": [
            "(80000, 'train samples')\n",
            "(5000, 'validation samples')\n",
            "(5000, 'test samples')\n",
            "Building and training DF model\n"
          ],
          "name": "stdout"
        }
      ]
    },
    {
      "cell_type": "markdown",
      "metadata": {
        "id": "m_Hof0qSjUNg"
      },
      "source": [
        "## Model Build\n",
        "Re_Fi model for Walkie-Talkie dataset"
      ]
    },
    {
      "cell_type": "code",
      "metadata": {
        "id": "ND81HAKDjUNg"
      },
      "source": [
        "from keras.models import Sequential\n",
        "from keras.layers import Conv1D, MaxPooling1D, BatchNormalization,Layer,GlobalAvgPool1D\n",
        "from keras.layers.core import Activation, Flatten, Dense, Dropout\n",
        "from keras.layers.advanced_activations import ELU\n",
        "from keras.initializers import glorot_uniform\n",
        "import tensorflow as tf\n",
        "\n",
        "\n",
        "class Residual(tf.keras.Model): \n",
        "  \n",
        "    def __init__(self, num_channels, use_1x1conv=False, strides=1):\n",
        "        super().__init__()\n",
        "        kernel_size = 3\n",
        "        self.conv1 = Conv1D(num_channels, padding='same',\n",
        "                                            kernel_size=kernel_size, strides=strides)\n",
        "        self.conv2 = Conv1D(num_channels, kernel_size=kernel_size,\n",
        "                                            padding='same')\n",
        "        self.conv3 = None\n",
        "        if use_1x1conv:\n",
        "            self.conv3 = Conv1D(num_channels, kernel_size=1,\n",
        "                                                strides=strides)\n",
        "        self.bn1 = BatchNormalization(axis=-1)\n",
        "        self.bn2 = BatchNormalization(axis=-1)\n",
        "\n",
        "    def call(self, X):\n",
        "        Y = tf.keras.activations.relu(self.bn1(self.conv1(X)))\n",
        "        Y = self.bn2(self.conv2(Y))\n",
        "        if self.conv3 is not None:\n",
        "            X = self.conv3(X)\n",
        "        Y += X\n",
        "        return tf.keras.activations.relu(Y)\n",
        "\n",
        "class ResnetBlock(Layer):\n",
        "    def __init__(self, num_channels, num_residuals, first_block=False,\n",
        "                  **kwargs):\n",
        "        super(ResnetBlock, self).__init__(**kwargs)\n",
        "        self.residual_layers = []\n",
        "        for i in range(num_residuals):\n",
        "            if i == 0 and not first_block:\n",
        "                self.residual_layers.append(\n",
        "                    Residual(num_channels, use_1x1conv=True, strides=2))\n",
        "            else:\n",
        "                self.residual_layers.append(Residual(num_channels))\n",
        "\n",
        "    def call(self, X):\n",
        "        for layer in self.residual_layers.layers:\n",
        "            X = layer(X)\n",
        "        return X\n",
        "\n"
      ],
      "execution_count": 14,
      "outputs": []
    },
    {
      "cell_type": "code",
      "metadata": {
        "id": "njqc_JO3jUNh"
      },
      "source": [
        "class resNet:\n",
        "    def build(input_shape, classes):\n",
        "        model = Sequential()\n",
        "\n",
        "        filter_num = ['None', 32, 64, 128, 256] # 输出通道\n",
        "        kernel_size = ['None', 8, 8, 8, 8] # 卷积层大小\n",
        "        conv_stride_size = ['None', 1, 1, 1, 1] # 步幅\n",
        "        pool_stride_size = ['None', 4, 4, 4, 4]\n",
        "        pool_size = ['None', 8, 8, 8, 8]\n",
        "  \n",
        "        # Block1\n",
        "        model.add(Conv1D(filters=filter_num[1], kernel_size=kernel_size[1], input_shape=input_shape,\n",
        "                         strides=conv_stride_size[1], padding='same',\n",
        "                         name='block1_conv1'))\n",
        "        model.add(BatchNormalization(axis=-1))\n",
        "        model.add(ELU(alpha=1.0, name='block1_adv_act1'))\n",
        "        model.add(Conv1D(filters=filter_num[1], kernel_size=kernel_size[1],\n",
        "                         strides=conv_stride_size[1], padding='same',\n",
        "                         name='block1_conv2'))\n",
        "        model.add(BatchNormalization(axis=-1))\n",
        "        model.add(ELU(alpha=1.0, name='block1_adv_act2'))\n",
        "        model.add(MaxPooling1D(pool_size=pool_size[1], strides=pool_stride_size[1],\n",
        "                               padding='same', name='block1_pool'))\n",
        "        model.add(Dropout(0.1, name='block1_dropout'))\n",
        "\n",
        "        # block2\n",
        "        model.add(Conv1D(filters=filter_num[2], kernel_size=kernel_size[2],\n",
        "                         strides=conv_stride_size[2], padding='same',\n",
        "                         name='block2_conv1'))\n",
        "        model.add(BatchNormalization())\n",
        "        model.add(Activation('relu', name='block2_act1'))\n",
        "\n",
        "        model.add(Conv1D(filters=filter_num[2], kernel_size=kernel_size[2],\n",
        "                         strides=conv_stride_size[2], padding='same',\n",
        "                         name='block2_conv2'))\n",
        "        model.add(BatchNormalization())\n",
        "        model.add(Activation('relu', name='block2_act2'))\n",
        "        model.add(MaxPooling1D(pool_size=pool_size[2], strides=pool_stride_size[3],\n",
        "                               padding='same', name='block2_pool'))\n",
        "        model.add(Dropout(0.1, name='block2_dropout'))\n",
        "        \n",
        "        # block3\n",
        "        model.add(Conv1D(filters=filter_num[3], kernel_size=kernel_size[2],\n",
        "                         strides=conv_stride_size[2], padding='same',\n",
        "                         name='block3_conv1'))\n",
        "        model.add(BatchNormalization())\n",
        "        model.add(Activation('relu', name='block3_act1'))\n",
        "\n",
        "        model.add(Conv1D(filters=filter_num[3], kernel_size=kernel_size[2],\n",
        "                         strides=conv_stride_size[2], padding='same',\n",
        "                         name='block3_conv2'))\n",
        "        model.add(BatchNormalization())\n",
        "        model.add(Activation('relu', name='block3_act2'))\n",
        "        model.add(MaxPooling1D(pool_size=pool_size[3], strides=pool_stride_size[3],\n",
        "                               padding='same', name='block3_pool'))\n",
        "        model.add(Dropout(0.1, name='block3_dropout'))\n",
        "\n",
        "        # resnet\n",
        "        model.add(ResnetBlock(128, 2,first_block=True))\n",
        "        model.add(ResnetBlock(256, 2))\n",
        "        \n",
        "        # time1 fully connected\n",
        "        model.add(Flatten(name='flatten'))\n",
        "\n",
        "        model.add(Dense(512, kernel_initializer=glorot_uniform(seed=0), name='fc1'))\n",
        "        model.add(BatchNormalization())\n",
        "        model.add(Activation('relu', name='fc1_act'))\n",
        "        model.add(Dropout(0.7, name='fc1_dropout'))\n",
        "\n",
        "        # time2\n",
        "        model.add(Dense(512, kernel_initializer=glorot_uniform(seed=0), name='fc2'))\n",
        "        model.add(BatchNormalization())\n",
        "        model.add(Activation('relu', name='fc2_act'))\n",
        "        model.add(Dropout(0.5, name='fc2_dropout'))\n",
        "\n",
        "        # prediction\n",
        "        model.add(Dense(classes, kernel_initializer=glorot_uniform(seed=0), name='fc3'))\n",
        "        model.add(Activation('softmax', name=\"softmax\"))\n",
        "        return model\n"
      ],
      "execution_count": 15,
      "outputs": []
    },
    {
      "cell_type": "markdown",
      "metadata": {
        "id": "9Ri2WmP8jUNh"
      },
      "source": [
        "build model"
      ]
    },
    {
      "cell_type": "code",
      "metadata": {
        "colab": {
          "base_uri": "https://localhost:8080/"
        },
        "id": "qNuvYPhIjUNh",
        "outputId": "688447d6-dee4-4d39-dac7-6394db76dc84"
      },
      "source": [
        "model = resNet.build(input_shape=INPUT_SHAPE, classes=NB_CLASSES)\n",
        "model.summary()"
      ],
      "execution_count": 16,
      "outputs": [
        {
          "output_type": "stream",
          "text": [
            "Model: \"sequential\"\n",
            "_________________________________________________________________\n",
            "Layer (type)                 Output Shape              Param #   \n",
            "=================================================================\n",
            "block1_conv1 (Conv1D)        (None, 5000, 32)          288       \n",
            "_________________________________________________________________\n",
            "batch_normalization (BatchNo (None, 5000, 32)          128       \n",
            "_________________________________________________________________\n",
            "block1_adv_act1 (ELU)        (None, 5000, 32)          0         \n",
            "_________________________________________________________________\n",
            "block1_conv2 (Conv1D)        (None, 5000, 32)          8224      \n",
            "_________________________________________________________________\n",
            "batch_normalization_1 (Batch (None, 5000, 32)          128       \n",
            "_________________________________________________________________\n",
            "block1_adv_act2 (ELU)        (None, 5000, 32)          0         \n",
            "_________________________________________________________________\n",
            "block1_pool (MaxPooling1D)   (None, 1250, 32)          0         \n",
            "_________________________________________________________________\n",
            "block1_dropout (Dropout)     (None, 1250, 32)          0         \n",
            "_________________________________________________________________\n",
            "block2_conv1 (Conv1D)        (None, 1250, 64)          16448     \n",
            "_________________________________________________________________\n",
            "batch_normalization_2 (Batch (None, 1250, 64)          256       \n",
            "_________________________________________________________________\n",
            "block2_act1 (Activation)     (None, 1250, 64)          0         \n",
            "_________________________________________________________________\n",
            "block2_conv2 (Conv1D)        (None, 1250, 64)          32832     \n",
            "_________________________________________________________________\n",
            "batch_normalization_3 (Batch (None, 1250, 64)          256       \n",
            "_________________________________________________________________\n",
            "block2_act2 (Activation)     (None, 1250, 64)          0         \n",
            "_________________________________________________________________\n",
            "block2_pool (MaxPooling1D)   (None, 313, 64)           0         \n",
            "_________________________________________________________________\n",
            "block2_dropout (Dropout)     (None, 313, 64)           0         \n",
            "_________________________________________________________________\n",
            "block3_conv1 (Conv1D)        (None, 313, 128)          65664     \n",
            "_________________________________________________________________\n",
            "batch_normalization_4 (Batch (None, 313, 128)          512       \n",
            "_________________________________________________________________\n",
            "block3_act1 (Activation)     (None, 313, 128)          0         \n",
            "_________________________________________________________________\n",
            "block3_conv2 (Conv1D)        (None, 313, 128)          131200    \n",
            "_________________________________________________________________\n",
            "batch_normalization_5 (Batch (None, 313, 128)          512       \n",
            "_________________________________________________________________\n",
            "block3_act2 (Activation)     (None, 313, 128)          0         \n",
            "_________________________________________________________________\n",
            "block3_pool (MaxPooling1D)   (None, 79, 128)           0         \n",
            "_________________________________________________________________\n",
            "block3_dropout (Dropout)     (None, 79, 128)           0         \n",
            "_________________________________________________________________\n",
            "resnet_block (ResnetBlock)   (None, 79, 128)           199168    \n",
            "_________________________________________________________________\n",
            "resnet_block_1 (ResnetBlock) (None, 40, 256)           726272    \n",
            "_________________________________________________________________\n",
            "flatten (Flatten)            (None, 10240)             0         \n",
            "_________________________________________________________________\n",
            "fc1 (Dense)                  (None, 512)               5243392   \n",
            "_________________________________________________________________\n",
            "batch_normalization_14 (Batc (None, 512)               2048      \n",
            "_________________________________________________________________\n",
            "fc1_act (Activation)         (None, 512)               0         \n",
            "_________________________________________________________________\n",
            "fc1_dropout (Dropout)        (None, 512)               0         \n",
            "_________________________________________________________________\n",
            "fc2 (Dense)                  (None, 512)               262656    \n",
            "_________________________________________________________________\n",
            "batch_normalization_15 (Batc (None, 512)               2048      \n",
            "_________________________________________________________________\n",
            "fc2_act (Activation)         (None, 512)               0         \n",
            "_________________________________________________________________\n",
            "fc2_dropout (Dropout)        (None, 512)               0         \n",
            "_________________________________________________________________\n",
            "fc3 (Dense)                  (None, 100)               51300     \n",
            "_________________________________________________________________\n",
            "softmax (Activation)         (None, 100)               0         \n",
            "=================================================================\n",
            "Total params: 6,743,332\n",
            "Trainable params: 6,737,316\n",
            "Non-trainable params: 6,016\n",
            "_________________________________________________________________\n"
          ],
          "name": "stdout"
        }
      ]
    },
    {
      "cell_type": "markdown",
      "metadata": {
        "id": "HK6bFDCmjUNh"
      },
      "source": [
        "compile model"
      ]
    },
    {
      "cell_type": "code",
      "metadata": {
        "colab": {
          "base_uri": "https://localhost:8080/"
        },
        "id": "VtJKwvYMjUNi",
        "outputId": "9a3101a3-9cb9-4781-e6dd-b616d8c2391f"
      },
      "source": [
        "model.compile(loss=\"categorical_crossentropy\", optimizer=OPTIMIZER,\n",
        "\tmetrics=[\"accuracy\"])\n",
        "print (\"Model compiled\")"
      ],
      "execution_count": 17,
      "outputs": [
        {
          "output_type": "stream",
          "text": [
            "Model compiled\n"
          ],
          "name": "stdout"
        }
      ]
    },
    {
      "cell_type": "markdown",
      "metadata": {
        "id": "FGM7sVWHjUNi"
      },
      "source": [
        "Start training"
      ]
    },
    {
      "cell_type": "code",
      "metadata": {
        "colab": {
          "base_uri": "https://localhost:8080/"
        },
        "id": "l9IXotWijUNi",
        "outputId": "391d75b4-691a-48ce-c811-42de562c2fc1"
      },
      "source": [
        "# Start training\n",
        "history = model.fit(X_train, y_train,\n",
        "\t\tbatch_size=BATCH_SIZE, epochs=NB_EPOCH,\n",
        "\t\tverbose=VERBOSE, validation_data=(X_valid, y_valid))\n",
        "\n",
        "# Start evaluating model with testing data\n",
        "score_test = model.evaluate(X_test, y_test, verbose=VERBOSE)\n",
        "print((\"Testing accuracy:\", score_test[1]))\n",
        "\n",
        "# Top N prediction\n",
        "top_N = 2 # Specify top_N = n; n is top-n prediction\n",
        "print(\"Start evaluating Top-%s Accuracy\"%top_N)\n",
        "result = model.predict(X_test, verbose=2)\n",
        "count = 0\n",
        "total = 0\n",
        "actual_y = y_test\n",
        "for i in range(len(result)):\n",
        "    prob_vec = sorted(result[i])\n",
        "    highest_probs = prob_vec[-top_N:] # pick two highest probabilities in softmax\n",
        "    top_list = []\n",
        "    for prob in highest_probs:\n",
        "        top_list.append(list(result[i]).index(prob))\n",
        "    actual_label = list(actual_y[i]).index(1) # convert from one-hot-vector back to actual label\n",
        "    if actual_label in top_list:\n",
        "        count = count + 1\n",
        "    total = total + 1\n",
        "\n",
        "print(\"Top-%s Accuracy: %f \"%(top_N, float(count)/total))"
      ],
      "execution_count": 19,
      "outputs": [
        {
          "output_type": "stream",
          "text": [
            "Epoch 1/30\n",
            "625/625 - 57s - loss: 1.1068 - accuracy: 0.4562 - val_loss: 0.8543 - val_accuracy: 0.4796\n",
            "Epoch 2/30\n",
            "625/625 - 57s - loss: 0.9624 - accuracy: 0.4712 - val_loss: 0.8226 - val_accuracy: 0.4850\n",
            "Epoch 3/30\n",
            "625/625 - 57s - loss: 0.8823 - accuracy: 0.4802 - val_loss: 0.7787 - val_accuracy: 0.4908\n",
            "Epoch 4/30\n",
            "625/625 - 57s - loss: 0.8397 - accuracy: 0.4810 - val_loss: 0.7754 - val_accuracy: 0.4882\n",
            "Epoch 5/30\n",
            "625/625 - 57s - loss: 0.8065 - accuracy: 0.4884 - val_loss: 0.7801 - val_accuracy: 0.4904\n",
            "Epoch 6/30\n",
            "625/625 - 57s - loss: 0.7883 - accuracy: 0.4905 - val_loss: 0.7606 - val_accuracy: 0.4926\n",
            "Epoch 7/30\n",
            "625/625 - 57s - loss: 0.7747 - accuracy: 0.4927 - val_loss: 0.7590 - val_accuracy: 0.4918\n",
            "Epoch 8/30\n",
            "625/625 - 57s - loss: 0.7639 - accuracy: 0.4942 - val_loss: 0.7598 - val_accuracy: 0.4926\n",
            "Epoch 9/30\n",
            "625/625 - 57s - loss: 0.7575 - accuracy: 0.4955 - val_loss: 0.7493 - val_accuracy: 0.4936\n",
            "Epoch 10/30\n",
            "625/625 - 57s - loss: 0.7558 - accuracy: 0.4891 - val_loss: 0.7455 - val_accuracy: 0.4938\n",
            "Epoch 11/30\n",
            "625/625 - 57s - loss: 0.7470 - accuracy: 0.4967 - val_loss: 0.7461 - val_accuracy: 0.4944\n",
            "Epoch 12/30\n",
            "625/625 - 57s - loss: 0.7451 - accuracy: 0.4970 - val_loss: 0.7529 - val_accuracy: 0.4930\n",
            "Epoch 13/30\n",
            "625/625 - 57s - loss: 0.7412 - accuracy: 0.4969 - val_loss: 0.7433 - val_accuracy: 0.4944\n",
            "Epoch 14/30\n",
            "625/625 - 57s - loss: 0.7407 - accuracy: 0.4938 - val_loss: 0.7423 - val_accuracy: 0.4944\n",
            "Epoch 15/30\n",
            "625/625 - 57s - loss: 0.7383 - accuracy: 0.4937 - val_loss: 0.7391 - val_accuracy: 0.4950\n",
            "Epoch 16/30\n",
            "625/625 - 57s - loss: 0.7372 - accuracy: 0.4927 - val_loss: 0.7341 - val_accuracy: 0.4954\n",
            "Epoch 17/30\n",
            "625/625 - 57s - loss: 0.7347 - accuracy: 0.4927 - val_loss: 0.7368 - val_accuracy: 0.4958\n",
            "Epoch 18/30\n",
            "625/625 - 57s - loss: 0.7337 - accuracy: 0.4949 - val_loss: 0.7345 - val_accuracy: 0.4954\n",
            "Epoch 19/30\n",
            "625/625 - 57s - loss: 0.7317 - accuracy: 0.4936 - val_loss: 0.7346 - val_accuracy: 0.4948\n",
            "Epoch 20/30\n",
            "625/625 - 57s - loss: 0.7300 - accuracy: 0.4968 - val_loss: 0.7339 - val_accuracy: 0.4946\n",
            "Epoch 21/30\n",
            "625/625 - 57s - loss: 0.7291 - accuracy: 0.4959 - val_loss: 0.7277 - val_accuracy: 0.4960\n",
            "Epoch 22/30\n",
            "625/625 - 57s - loss: 0.7290 - accuracy: 0.4919 - val_loss: 0.7335 - val_accuracy: 0.4954\n",
            "Epoch 23/30\n",
            "625/625 - 57s - loss: 0.7271 - accuracy: 0.4928 - val_loss: 0.7297 - val_accuracy: 0.4960\n",
            "Epoch 24/30\n",
            "625/625 - 57s - loss: 0.7257 - accuracy: 0.4961 - val_loss: 0.7300 - val_accuracy: 0.4960\n",
            "Epoch 25/30\n",
            "625/625 - 57s - loss: 0.7249 - accuracy: 0.4955 - val_loss: 0.7344 - val_accuracy: 0.4946\n",
            "Epoch 26/30\n",
            "625/625 - 57s - loss: 0.7234 - accuracy: 0.4988 - val_loss: 0.7313 - val_accuracy: 0.4956\n",
            "Epoch 27/30\n",
            "625/625 - 57s - loss: 0.7240 - accuracy: 0.4949 - val_loss: 0.7331 - val_accuracy: 0.4952\n",
            "Epoch 28/30\n",
            "625/625 - 57s - loss: 0.7232 - accuracy: 0.4955 - val_loss: 0.7379 - val_accuracy: 0.4954\n",
            "Epoch 29/30\n",
            "625/625 - 57s - loss: 0.7234 - accuracy: 0.4968 - val_loss: 0.7286 - val_accuracy: 0.4960\n",
            "Epoch 30/30\n",
            "625/625 - 57s - loss: 0.7219 - accuracy: 0.4976 - val_loss: 0.7288 - val_accuracy: 0.4962\n",
            "157/157 - 2s - loss: 0.7216 - accuracy: 0.4968\n",
            "('Testing accuracy:', 0.4968000054359436)\n",
            "Start evaluating Top-2 Accuracy\n",
            "157/157 - 3s\n",
            "Top-2 Accuracy: 0.993400 \n"
          ],
          "name": "stdout"
        }
      ]
    },
    {
      "cell_type": "markdown",
      "metadata": {
        "id": "ZKnRTqLejUNi"
      },
      "source": [
        "save model"
      ]
    },
    {
      "cell_type": "code",
      "metadata": {
        "colab": {
          "base_uri": "https://localhost:8080/"
        },
        "id": "eoaRgtkJjUNj",
        "outputId": "1bfdff41-f6c4-4a4a-a281-a759a487fd10"
      },
      "source": [
        "model.save('saved_model/WalkieTalkie_model')"
      ],
      "execution_count": 20,
      "outputs": [
        {
          "output_type": "stream",
          "text": [
            "WARNING:absl:Found untraced functions such as conv1d_layer_call_and_return_conditional_losses, conv1d_layer_call_fn, conv1d_1_layer_call_and_return_conditional_losses, conv1d_1_layer_call_fn, conv1d_2_layer_call_and_return_conditional_losses while saving (showing 5 of 45). These functions will not be directly callable after loading.\n"
          ],
          "name": "stderr"
        },
        {
          "output_type": "stream",
          "text": [
            "INFO:tensorflow:Assets written to: saved_model/WalkieTalkie_model/assets\n"
          ],
          "name": "stdout"
        },
        {
          "output_type": "stream",
          "text": [
            "INFO:tensorflow:Assets written to: saved_model/WalkieTalkie_model/assets\n"
          ],
          "name": "stderr"
        }
      ]
    },
    {
      "cell_type": "markdown",
      "metadata": {
        "id": "Zz_pqQfDjUNj"
      },
      "source": [
        "## Model Evaluation"
      ]
    },
    {
      "cell_type": "code",
      "metadata": {
        "colab": {
          "base_uri": "https://localhost:8080/"
        },
        "id": "zJ2zcT1qm67h",
        "outputId": "03471ba2-fc91-48d6-d830-a4be650f1aa4"
      },
      "source": [
        "# show GPU info\n",
        "! /opt/bin/nvidia-smi"
      ],
      "execution_count": 21,
      "outputs": [
        {
          "output_type": "stream",
          "text": [
            "Thu Jun 17 03:43:53 2021       \n",
            "+-----------------------------------------------------------------------------+\n",
            "| NVIDIA-SMI 460.32.03    Driver Version: 460.32.03    CUDA Version: 11.2     |\n",
            "|-------------------------------+----------------------+----------------------+\n",
            "| GPU  Name        Persistence-M| Bus-Id        Disp.A | Volatile Uncorr. ECC |\n",
            "| Fan  Temp  Perf  Pwr:Usage/Cap|         Memory-Usage | GPU-Util  Compute M. |\n",
            "|                               |                      |               MIG M. |\n",
            "|===============================+======================+======================|\n",
            "|   0  Tesla P100-PCIE...  Off  | 00000000:00:04.0 Off |                    0 |\n",
            "| N/A   55C    P0    40W / 250W |   6701MiB / 16280MiB |      0%      Default |\n",
            "|                               |                      |                  N/A |\n",
            "+-------------------------------+----------------------+----------------------+\n",
            "                                                                               \n",
            "+-----------------------------------------------------------------------------+\n",
            "| Processes:                                                                  |\n",
            "|  GPU   GI   CI        PID   Type   Process name                  GPU Memory |\n",
            "|        ID   ID                                                   Usage      |\n",
            "|=============================================================================|\n",
            "+-----------------------------------------------------------------------------+\n"
          ],
          "name": "stdout"
        }
      ]
    },
    {
      "cell_type": "code",
      "metadata": {
        "colab": {
          "base_uri": "https://localhost:8080/",
          "height": 1000
        },
        "id": "4Q5eMQECjUNj",
        "outputId": "0128ba42-6273-45f2-c039-d9906003931b"
      },
      "source": [
        "from IPython.display import SVG\n",
        "from keras.utils.vis_utils import model_to_dot\n",
        "\n",
        "SVG(model_to_dot(model, show_shapes= True, show_layer_names=True, dpi=65).create(prog='dot', format='svg'))"
      ],
      "execution_count": 22,
      "outputs": [
        {
          "output_type": "execute_result",
          "data": {
            "text/plain": [
              "<IPython.core.display.SVG object>"
            ],
            "image/svg+xml": "<svg height=\"2822pt\" viewBox=\"0.00 0.00 454.00 3126.00\" width=\"410pt\" xmlns=\"http://www.w3.org/2000/svg\" xmlns:xlink=\"http://www.w3.org/1999/xlink\">\n<g class=\"graph\" id=\"graph0\" transform=\"scale(.9028 .9028) rotate(0) translate(4 3122)\">\n<title>G</title>\n<polygon fill=\"#ffffff\" points=\"-4,4 -4,-3122 450,-3122 450,4 -4,4\" stroke=\"transparent\"/>\n<!-- 139852762616720 -->\n<g class=\"node\" id=\"node1\">\n<title>139852762616720</title>\n<polygon fill=\"none\" points=\"30,-3071.5 30,-3117.5 416,-3117.5 416,-3071.5 30,-3071.5\" stroke=\"#000000\"/>\n<text fill=\"#000000\" font-family=\"Times,serif\" font-size=\"14.00\" text-anchor=\"middle\" x=\"134.5\" y=\"-3090.8\">block1_conv1_input: InputLayer</text>\n<polyline fill=\"none\" points=\"239,-3071.5 239,-3117.5 \" stroke=\"#000000\"/>\n<text fill=\"#000000\" font-family=\"Times,serif\" font-size=\"14.00\" text-anchor=\"middle\" x=\"268\" y=\"-3102.3\">input:</text>\n<polyline fill=\"none\" points=\"239,-3094.5 297,-3094.5 \" stroke=\"#000000\"/>\n<text fill=\"#000000\" font-family=\"Times,serif\" font-size=\"14.00\" text-anchor=\"middle\" x=\"268\" y=\"-3079.3\">output:</text>\n<polyline fill=\"none\" points=\"297,-3071.5 297,-3117.5 \" stroke=\"#000000\"/>\n<text fill=\"#000000\" font-family=\"Times,serif\" font-size=\"14.00\" text-anchor=\"middle\" x=\"356.5\" y=\"-3102.3\">[(None, 5000, 1)]</text>\n<polyline fill=\"none\" points=\"297,-3094.5 416,-3094.5 \" stroke=\"#000000\"/>\n<text fill=\"#000000\" font-family=\"Times,serif\" font-size=\"14.00\" text-anchor=\"middle\" x=\"356.5\" y=\"-3079.3\">[(None, 5000, 1)]</text>\n</g>\n<!-- 139852981645136 -->\n<g class=\"node\" id=\"node2\">\n<title>139852981645136</title>\n<polygon fill=\"none\" points=\"56.5,-2988.5 56.5,-3034.5 389.5,-3034.5 389.5,-2988.5 56.5,-2988.5\" stroke=\"#000000\"/>\n<text fill=\"#000000\" font-family=\"Times,serif\" font-size=\"14.00\" text-anchor=\"middle\" x=\"135.5\" y=\"-3007.8\">block1_conv1: Conv1D</text>\n<polyline fill=\"none\" points=\"214.5,-2988.5 214.5,-3034.5 \" stroke=\"#000000\"/>\n<text fill=\"#000000\" font-family=\"Times,serif\" font-size=\"14.00\" text-anchor=\"middle\" x=\"243.5\" y=\"-3019.3\">input:</text>\n<polyline fill=\"none\" points=\"214.5,-3011.5 272.5,-3011.5 \" stroke=\"#000000\"/>\n<text fill=\"#000000\" font-family=\"Times,serif\" font-size=\"14.00\" text-anchor=\"middle\" x=\"243.5\" y=\"-2996.3\">output:</text>\n<polyline fill=\"none\" points=\"272.5,-2988.5 272.5,-3034.5 \" stroke=\"#000000\"/>\n<text fill=\"#000000\" font-family=\"Times,serif\" font-size=\"14.00\" text-anchor=\"middle\" x=\"331\" y=\"-3019.3\">(None, 5000, 1)</text>\n<polyline fill=\"none\" points=\"272.5,-3011.5 389.5,-3011.5 \" stroke=\"#000000\"/>\n<text fill=\"#000000\" font-family=\"Times,serif\" font-size=\"14.00\" text-anchor=\"middle\" x=\"331\" y=\"-2996.3\">(None, 5000, 32)</text>\n</g>\n<!-- 139852762616720&#45;&gt;139852981645136 -->\n<g class=\"edge\" id=\"edge1\">\n<title>139852762616720-&gt;139852981645136</title>\n<path d=\"M223,-3071.3799C223,-3063.1745 223,-3053.7679 223,-3044.8786\" fill=\"none\" stroke=\"#000000\"/>\n<polygon fill=\"#000000\" points=\"226.5001,-3044.784 223,-3034.784 219.5001,-3044.784 226.5001,-3044.784\" stroke=\"#000000\"/>\n</g>\n<!-- 139852758486672 -->\n<g class=\"node\" id=\"node3\">\n<title>139852758486672</title>\n<polygon fill=\"none\" points=\"7.5,-2905.5 7.5,-2951.5 438.5,-2951.5 438.5,-2905.5 7.5,-2905.5\" stroke=\"#000000\"/>\n<text fill=\"#000000\" font-family=\"Times,serif\" font-size=\"14.00\" text-anchor=\"middle\" x=\"135.5\" y=\"-2924.8\">batch_normalization: BatchNormalization</text>\n<polyline fill=\"none\" points=\"263.5,-2905.5 263.5,-2951.5 \" stroke=\"#000000\"/>\n<text fill=\"#000000\" font-family=\"Times,serif\" font-size=\"14.00\" text-anchor=\"middle\" x=\"292.5\" y=\"-2936.3\">input:</text>\n<polyline fill=\"none\" points=\"263.5,-2928.5 321.5,-2928.5 \" stroke=\"#000000\"/>\n<text fill=\"#000000\" font-family=\"Times,serif\" font-size=\"14.00\" text-anchor=\"middle\" x=\"292.5\" y=\"-2913.3\">output:</text>\n<polyline fill=\"none\" points=\"321.5,-2905.5 321.5,-2951.5 \" stroke=\"#000000\"/>\n<text fill=\"#000000\" font-family=\"Times,serif\" font-size=\"14.00\" text-anchor=\"middle\" x=\"380\" y=\"-2936.3\">(None, 5000, 32)</text>\n<polyline fill=\"none\" points=\"321.5,-2928.5 438.5,-2928.5 \" stroke=\"#000000\"/>\n<text fill=\"#000000\" font-family=\"Times,serif\" font-size=\"14.00\" text-anchor=\"middle\" x=\"380\" y=\"-2913.3\">(None, 5000, 32)</text>\n</g>\n<!-- 139852981645136&#45;&gt;139852758486672 -->\n<g class=\"edge\" id=\"edge2\">\n<title>139852981645136-&gt;139852758486672</title>\n<path d=\"M223,-2988.3799C223,-2980.1745 223,-2970.7679 223,-2961.8786\" fill=\"none\" stroke=\"#000000\"/>\n<polygon fill=\"#000000\" points=\"226.5001,-2961.784 223,-2951.784 219.5001,-2961.784 226.5001,-2961.784\" stroke=\"#000000\"/>\n</g>\n<!-- 139852758726608 -->\n<g class=\"node\" id=\"node4\">\n<title>139852758726608</title>\n<polygon fill=\"none\" points=\"59.5,-2822.5 59.5,-2868.5 386.5,-2868.5 386.5,-2822.5 59.5,-2822.5\" stroke=\"#000000\"/>\n<text fill=\"#000000\" font-family=\"Times,serif\" font-size=\"14.00\" text-anchor=\"middle\" x=\"135.5\" y=\"-2841.8\">block1_adv_act1: ELU</text>\n<polyline fill=\"none\" points=\"211.5,-2822.5 211.5,-2868.5 \" stroke=\"#000000\"/>\n<text fill=\"#000000\" font-family=\"Times,serif\" font-size=\"14.00\" text-anchor=\"middle\" x=\"240.5\" y=\"-2853.3\">input:</text>\n<polyline fill=\"none\" points=\"211.5,-2845.5 269.5,-2845.5 \" stroke=\"#000000\"/>\n<text fill=\"#000000\" font-family=\"Times,serif\" font-size=\"14.00\" text-anchor=\"middle\" x=\"240.5\" y=\"-2830.3\">output:</text>\n<polyline fill=\"none\" points=\"269.5,-2822.5 269.5,-2868.5 \" stroke=\"#000000\"/>\n<text fill=\"#000000\" font-family=\"Times,serif\" font-size=\"14.00\" text-anchor=\"middle\" x=\"328\" y=\"-2853.3\">(None, 5000, 32)</text>\n<polyline fill=\"none\" points=\"269.5,-2845.5 386.5,-2845.5 \" stroke=\"#000000\"/>\n<text fill=\"#000000\" font-family=\"Times,serif\" font-size=\"14.00\" text-anchor=\"middle\" x=\"328\" y=\"-2830.3\">(None, 5000, 32)</text>\n</g>\n<!-- 139852758486672&#45;&gt;139852758726608 -->\n<g class=\"edge\" id=\"edge3\">\n<title>139852758486672-&gt;139852758726608</title>\n<path d=\"M223,-2905.3799C223,-2897.1745 223,-2887.7679 223,-2878.8786\" fill=\"none\" stroke=\"#000000\"/>\n<polygon fill=\"#000000\" points=\"226.5001,-2878.784 223,-2868.784 219.5001,-2878.784 226.5001,-2878.784\" stroke=\"#000000\"/>\n</g>\n<!-- 139852756535952 -->\n<g class=\"node\" id=\"node5\">\n<title>139852756535952</title>\n<polygon fill=\"none\" points=\"56.5,-2739.5 56.5,-2785.5 389.5,-2785.5 389.5,-2739.5 56.5,-2739.5\" stroke=\"#000000\"/>\n<text fill=\"#000000\" font-family=\"Times,serif\" font-size=\"14.00\" text-anchor=\"middle\" x=\"135.5\" y=\"-2758.8\">block1_conv2: Conv1D</text>\n<polyline fill=\"none\" points=\"214.5,-2739.5 214.5,-2785.5 \" stroke=\"#000000\"/>\n<text fill=\"#000000\" font-family=\"Times,serif\" font-size=\"14.00\" text-anchor=\"middle\" x=\"243.5\" y=\"-2770.3\">input:</text>\n<polyline fill=\"none\" points=\"214.5,-2762.5 272.5,-2762.5 \" stroke=\"#000000\"/>\n<text fill=\"#000000\" font-family=\"Times,serif\" font-size=\"14.00\" text-anchor=\"middle\" x=\"243.5\" y=\"-2747.3\">output:</text>\n<polyline fill=\"none\" points=\"272.5,-2739.5 272.5,-2785.5 \" stroke=\"#000000\"/>\n<text fill=\"#000000\" font-family=\"Times,serif\" font-size=\"14.00\" text-anchor=\"middle\" x=\"331\" y=\"-2770.3\">(None, 5000, 32)</text>\n<polyline fill=\"none\" points=\"272.5,-2762.5 389.5,-2762.5 \" stroke=\"#000000\"/>\n<text fill=\"#000000\" font-family=\"Times,serif\" font-size=\"14.00\" text-anchor=\"middle\" x=\"331\" y=\"-2747.3\">(None, 5000, 32)</text>\n</g>\n<!-- 139852758726608&#45;&gt;139852756535952 -->\n<g class=\"edge\" id=\"edge4\">\n<title>139852758726608-&gt;139852756535952</title>\n<path d=\"M223,-2822.3799C223,-2814.1745 223,-2804.7679 223,-2795.8786\" fill=\"none\" stroke=\"#000000\"/>\n<polygon fill=\"#000000\" points=\"226.5001,-2795.784 223,-2785.784 219.5001,-2795.784 226.5001,-2795.784\" stroke=\"#000000\"/>\n</g>\n<!-- 139852761943888 -->\n<g class=\"node\" id=\"node6\">\n<title>139852761943888</title>\n<polygon fill=\"none\" points=\"0,-2656.5 0,-2702.5 446,-2702.5 446,-2656.5 0,-2656.5\" stroke=\"#000000\"/>\n<text fill=\"#000000\" font-family=\"Times,serif\" font-size=\"14.00\" text-anchor=\"middle\" x=\"135.5\" y=\"-2675.8\">batch_normalization_1: BatchNormalization</text>\n<polyline fill=\"none\" points=\"271,-2656.5 271,-2702.5 \" stroke=\"#000000\"/>\n<text fill=\"#000000\" font-family=\"Times,serif\" font-size=\"14.00\" text-anchor=\"middle\" x=\"300\" y=\"-2687.3\">input:</text>\n<polyline fill=\"none\" points=\"271,-2679.5 329,-2679.5 \" stroke=\"#000000\"/>\n<text fill=\"#000000\" font-family=\"Times,serif\" font-size=\"14.00\" text-anchor=\"middle\" x=\"300\" y=\"-2664.3\">output:</text>\n<polyline fill=\"none\" points=\"329,-2656.5 329,-2702.5 \" stroke=\"#000000\"/>\n<text fill=\"#000000\" font-family=\"Times,serif\" font-size=\"14.00\" text-anchor=\"middle\" x=\"387.5\" y=\"-2687.3\">(None, 5000, 32)</text>\n<polyline fill=\"none\" points=\"329,-2679.5 446,-2679.5 \" stroke=\"#000000\"/>\n<text fill=\"#000000\" font-family=\"Times,serif\" font-size=\"14.00\" text-anchor=\"middle\" x=\"387.5\" y=\"-2664.3\">(None, 5000, 32)</text>\n</g>\n<!-- 139852756535952&#45;&gt;139852761943888 -->\n<g class=\"edge\" id=\"edge5\">\n<title>139852756535952-&gt;139852761943888</title>\n<path d=\"M223,-2739.3799C223,-2731.1745 223,-2721.7679 223,-2712.8786\" fill=\"none\" stroke=\"#000000\"/>\n<polygon fill=\"#000000\" points=\"226.5001,-2712.784 223,-2702.784 219.5001,-2712.784 226.5001,-2712.784\" stroke=\"#000000\"/>\n</g>\n<!-- 139852761981200 -->\n<g class=\"node\" id=\"node7\">\n<title>139852761981200</title>\n<polygon fill=\"none\" points=\"59.5,-2573.5 59.5,-2619.5 386.5,-2619.5 386.5,-2573.5 59.5,-2573.5\" stroke=\"#000000\"/>\n<text fill=\"#000000\" font-family=\"Times,serif\" font-size=\"14.00\" text-anchor=\"middle\" x=\"135.5\" y=\"-2592.8\">block1_adv_act2: ELU</text>\n<polyline fill=\"none\" points=\"211.5,-2573.5 211.5,-2619.5 \" stroke=\"#000000\"/>\n<text fill=\"#000000\" font-family=\"Times,serif\" font-size=\"14.00\" text-anchor=\"middle\" x=\"240.5\" y=\"-2604.3\">input:</text>\n<polyline fill=\"none\" points=\"211.5,-2596.5 269.5,-2596.5 \" stroke=\"#000000\"/>\n<text fill=\"#000000\" font-family=\"Times,serif\" font-size=\"14.00\" text-anchor=\"middle\" x=\"240.5\" y=\"-2581.3\">output:</text>\n<polyline fill=\"none\" points=\"269.5,-2573.5 269.5,-2619.5 \" stroke=\"#000000\"/>\n<text fill=\"#000000\" font-family=\"Times,serif\" font-size=\"14.00\" text-anchor=\"middle\" x=\"328\" y=\"-2604.3\">(None, 5000, 32)</text>\n<polyline fill=\"none\" points=\"269.5,-2596.5 386.5,-2596.5 \" stroke=\"#000000\"/>\n<text fill=\"#000000\" font-family=\"Times,serif\" font-size=\"14.00\" text-anchor=\"middle\" x=\"328\" y=\"-2581.3\">(None, 5000, 32)</text>\n</g>\n<!-- 139852761943888&#45;&gt;139852761981200 -->\n<g class=\"edge\" id=\"edge6\">\n<title>139852761943888-&gt;139852761981200</title>\n<path d=\"M223,-2656.3799C223,-2648.1745 223,-2638.7679 223,-2629.8786\" fill=\"none\" stroke=\"#000000\"/>\n<polygon fill=\"#000000\" points=\"226.5001,-2629.784 223,-2619.784 219.5001,-2629.784 226.5001,-2629.784\" stroke=\"#000000\"/>\n</g>\n<!-- 139852762021584 -->\n<g class=\"node\" id=\"node8\">\n<title>139852762021584</title>\n<polygon fill=\"none\" points=\"41.5,-2490.5 41.5,-2536.5 404.5,-2536.5 404.5,-2490.5 41.5,-2490.5\" stroke=\"#000000\"/>\n<text fill=\"#000000\" font-family=\"Times,serif\" font-size=\"14.00\" text-anchor=\"middle\" x=\"135.5\" y=\"-2509.8\">block1_pool: MaxPooling1D</text>\n<polyline fill=\"none\" points=\"229.5,-2490.5 229.5,-2536.5 \" stroke=\"#000000\"/>\n<text fill=\"#000000\" font-family=\"Times,serif\" font-size=\"14.00\" text-anchor=\"middle\" x=\"258.5\" y=\"-2521.3\">input:</text>\n<polyline fill=\"none\" points=\"229.5,-2513.5 287.5,-2513.5 \" stroke=\"#000000\"/>\n<text fill=\"#000000\" font-family=\"Times,serif\" font-size=\"14.00\" text-anchor=\"middle\" x=\"258.5\" y=\"-2498.3\">output:</text>\n<polyline fill=\"none\" points=\"287.5,-2490.5 287.5,-2536.5 \" stroke=\"#000000\"/>\n<text fill=\"#000000\" font-family=\"Times,serif\" font-size=\"14.00\" text-anchor=\"middle\" x=\"346\" y=\"-2521.3\">(None, 5000, 32)</text>\n<polyline fill=\"none\" points=\"287.5,-2513.5 404.5,-2513.5 \" stroke=\"#000000\"/>\n<text fill=\"#000000\" font-family=\"Times,serif\" font-size=\"14.00\" text-anchor=\"middle\" x=\"346\" y=\"-2498.3\">(None, 1250, 32)</text>\n</g>\n<!-- 139852761981200&#45;&gt;139852762021584 -->\n<g class=\"edge\" id=\"edge7\">\n<title>139852761981200-&gt;139852762021584</title>\n<path d=\"M223,-2573.3799C223,-2565.1745 223,-2555.7679 223,-2546.8786\" fill=\"none\" stroke=\"#000000\"/>\n<polygon fill=\"#000000\" points=\"226.5001,-2546.784 223,-2536.784 219.5001,-2546.784 226.5001,-2546.784\" stroke=\"#000000\"/>\n</g>\n<!-- 139852762041424 -->\n<g class=\"node\" id=\"node9\">\n<title>139852762041424</title>\n<polygon fill=\"none\" points=\"52.5,-2407.5 52.5,-2453.5 393.5,-2453.5 393.5,-2407.5 52.5,-2407.5\" stroke=\"#000000\"/>\n<text fill=\"#000000\" font-family=\"Times,serif\" font-size=\"14.00\" text-anchor=\"middle\" x=\"135.5\" y=\"-2426.8\">block1_dropout: Dropout</text>\n<polyline fill=\"none\" points=\"218.5,-2407.5 218.5,-2453.5 \" stroke=\"#000000\"/>\n<text fill=\"#000000\" font-family=\"Times,serif\" font-size=\"14.00\" text-anchor=\"middle\" x=\"247.5\" y=\"-2438.3\">input:</text>\n<polyline fill=\"none\" points=\"218.5,-2430.5 276.5,-2430.5 \" stroke=\"#000000\"/>\n<text fill=\"#000000\" font-family=\"Times,serif\" font-size=\"14.00\" text-anchor=\"middle\" x=\"247.5\" y=\"-2415.3\">output:</text>\n<polyline fill=\"none\" points=\"276.5,-2407.5 276.5,-2453.5 \" stroke=\"#000000\"/>\n<text fill=\"#000000\" font-family=\"Times,serif\" font-size=\"14.00\" text-anchor=\"middle\" x=\"335\" y=\"-2438.3\">(None, 1250, 32)</text>\n<polyline fill=\"none\" points=\"276.5,-2430.5 393.5,-2430.5 \" stroke=\"#000000\"/>\n<text fill=\"#000000\" font-family=\"Times,serif\" font-size=\"14.00\" text-anchor=\"middle\" x=\"335\" y=\"-2415.3\">(None, 1250, 32)</text>\n</g>\n<!-- 139852762021584&#45;&gt;139852762041424 -->\n<g class=\"edge\" id=\"edge8\">\n<title>139852762021584-&gt;139852762041424</title>\n<path d=\"M223,-2490.3799C223,-2482.1745 223,-2472.7679 223,-2463.8786\" fill=\"none\" stroke=\"#000000\"/>\n<polygon fill=\"#000000\" points=\"226.5001,-2463.784 223,-2453.784 219.5001,-2463.784 226.5001,-2463.784\" stroke=\"#000000\"/>\n</g>\n<!-- 139852762019984 -->\n<g class=\"node\" id=\"node10\">\n<title>139852762019984</title>\n<polygon fill=\"none\" points=\"56.5,-2324.5 56.5,-2370.5 389.5,-2370.5 389.5,-2324.5 56.5,-2324.5\" stroke=\"#000000\"/>\n<text fill=\"#000000\" font-family=\"Times,serif\" font-size=\"14.00\" text-anchor=\"middle\" x=\"135.5\" y=\"-2343.8\">block2_conv1: Conv1D</text>\n<polyline fill=\"none\" points=\"214.5,-2324.5 214.5,-2370.5 \" stroke=\"#000000\"/>\n<text fill=\"#000000\" font-family=\"Times,serif\" font-size=\"14.00\" text-anchor=\"middle\" x=\"243.5\" y=\"-2355.3\">input:</text>\n<polyline fill=\"none\" points=\"214.5,-2347.5 272.5,-2347.5 \" stroke=\"#000000\"/>\n<text fill=\"#000000\" font-family=\"Times,serif\" font-size=\"14.00\" text-anchor=\"middle\" x=\"243.5\" y=\"-2332.3\">output:</text>\n<polyline fill=\"none\" points=\"272.5,-2324.5 272.5,-2370.5 \" stroke=\"#000000\"/>\n<text fill=\"#000000\" font-family=\"Times,serif\" font-size=\"14.00\" text-anchor=\"middle\" x=\"331\" y=\"-2355.3\">(None, 1250, 32)</text>\n<polyline fill=\"none\" points=\"272.5,-2347.5 389.5,-2347.5 \" stroke=\"#000000\"/>\n<text fill=\"#000000\" font-family=\"Times,serif\" font-size=\"14.00\" text-anchor=\"middle\" x=\"331\" y=\"-2332.3\">(None, 1250, 64)</text>\n</g>\n<!-- 139852762041424&#45;&gt;139852762019984 -->\n<g class=\"edge\" id=\"edge9\">\n<title>139852762041424-&gt;139852762019984</title>\n<path d=\"M223,-2407.3799C223,-2399.1745 223,-2389.7679 223,-2380.8786\" fill=\"none\" stroke=\"#000000\"/>\n<polygon fill=\"#000000\" points=\"226.5001,-2380.784 223,-2370.784 219.5001,-2380.784 226.5001,-2380.784\" stroke=\"#000000\"/>\n</g>\n<!-- 139852762078992 -->\n<g class=\"node\" id=\"node11\">\n<title>139852762078992</title>\n<polygon fill=\"none\" points=\"0,-2241.5 0,-2287.5 446,-2287.5 446,-2241.5 0,-2241.5\" stroke=\"#000000\"/>\n<text fill=\"#000000\" font-family=\"Times,serif\" font-size=\"14.00\" text-anchor=\"middle\" x=\"135.5\" y=\"-2260.8\">batch_normalization_2: BatchNormalization</text>\n<polyline fill=\"none\" points=\"271,-2241.5 271,-2287.5 \" stroke=\"#000000\"/>\n<text fill=\"#000000\" font-family=\"Times,serif\" font-size=\"14.00\" text-anchor=\"middle\" x=\"300\" y=\"-2272.3\">input:</text>\n<polyline fill=\"none\" points=\"271,-2264.5 329,-2264.5 \" stroke=\"#000000\"/>\n<text fill=\"#000000\" font-family=\"Times,serif\" font-size=\"14.00\" text-anchor=\"middle\" x=\"300\" y=\"-2249.3\">output:</text>\n<polyline fill=\"none\" points=\"329,-2241.5 329,-2287.5 \" stroke=\"#000000\"/>\n<text fill=\"#000000\" font-family=\"Times,serif\" font-size=\"14.00\" text-anchor=\"middle\" x=\"387.5\" y=\"-2272.3\">(None, 1250, 64)</text>\n<polyline fill=\"none\" points=\"329,-2264.5 446,-2264.5 \" stroke=\"#000000\"/>\n<text fill=\"#000000\" font-family=\"Times,serif\" font-size=\"14.00\" text-anchor=\"middle\" x=\"387.5\" y=\"-2249.3\">(None, 1250, 64)</text>\n</g>\n<!-- 139852762019984&#45;&gt;139852762078992 -->\n<g class=\"edge\" id=\"edge10\">\n<title>139852762019984-&gt;139852762078992</title>\n<path d=\"M223,-2324.3799C223,-2316.1745 223,-2306.7679 223,-2297.8786\" fill=\"none\" stroke=\"#000000\"/>\n<polygon fill=\"#000000\" points=\"226.5001,-2297.784 223,-2287.784 219.5001,-2297.784 226.5001,-2297.784\" stroke=\"#000000\"/>\n</g>\n<!-- 139852762117456 -->\n<g class=\"node\" id=\"node12\">\n<title>139852762117456</title>\n<polygon fill=\"none\" points=\"58.5,-2158.5 58.5,-2204.5 387.5,-2204.5 387.5,-2158.5 58.5,-2158.5\" stroke=\"#000000\"/>\n<text fill=\"#000000\" font-family=\"Times,serif\" font-size=\"14.00\" text-anchor=\"middle\" x=\"135.5\" y=\"-2177.8\">block2_act1: Activation</text>\n<polyline fill=\"none\" points=\"212.5,-2158.5 212.5,-2204.5 \" stroke=\"#000000\"/>\n<text fill=\"#000000\" font-family=\"Times,serif\" font-size=\"14.00\" text-anchor=\"middle\" x=\"241.5\" y=\"-2189.3\">input:</text>\n<polyline fill=\"none\" points=\"212.5,-2181.5 270.5,-2181.5 \" stroke=\"#000000\"/>\n<text fill=\"#000000\" font-family=\"Times,serif\" font-size=\"14.00\" text-anchor=\"middle\" x=\"241.5\" y=\"-2166.3\">output:</text>\n<polyline fill=\"none\" points=\"270.5,-2158.5 270.5,-2204.5 \" stroke=\"#000000\"/>\n<text fill=\"#000000\" font-family=\"Times,serif\" font-size=\"14.00\" text-anchor=\"middle\" x=\"329\" y=\"-2189.3\">(None, 1250, 64)</text>\n<polyline fill=\"none\" points=\"270.5,-2181.5 387.5,-2181.5 \" stroke=\"#000000\"/>\n<text fill=\"#000000\" font-family=\"Times,serif\" font-size=\"14.00\" text-anchor=\"middle\" x=\"329\" y=\"-2166.3\">(None, 1250, 64)</text>\n</g>\n<!-- 139852762078992&#45;&gt;139852762117456 -->\n<g class=\"edge\" id=\"edge11\">\n<title>139852762078992-&gt;139852762117456</title>\n<path d=\"M223,-2241.3799C223,-2233.1745 223,-2223.7679 223,-2214.8786\" fill=\"none\" stroke=\"#000000\"/>\n<polygon fill=\"#000000\" points=\"226.5001,-2214.784 223,-2204.784 219.5001,-2214.784 226.5001,-2214.784\" stroke=\"#000000\"/>\n</g>\n<!-- 139852761632656 -->\n<g class=\"node\" id=\"node13\">\n<title>139852761632656</title>\n<polygon fill=\"none\" points=\"56.5,-2075.5 56.5,-2121.5 389.5,-2121.5 389.5,-2075.5 56.5,-2075.5\" stroke=\"#000000\"/>\n<text fill=\"#000000\" font-family=\"Times,serif\" font-size=\"14.00\" text-anchor=\"middle\" x=\"135.5\" y=\"-2094.8\">block2_conv2: Conv1D</text>\n<polyline fill=\"none\" points=\"214.5,-2075.5 214.5,-2121.5 \" stroke=\"#000000\"/>\n<text fill=\"#000000\" font-family=\"Times,serif\" font-size=\"14.00\" text-anchor=\"middle\" x=\"243.5\" y=\"-2106.3\">input:</text>\n<polyline fill=\"none\" points=\"214.5,-2098.5 272.5,-2098.5 \" stroke=\"#000000\"/>\n<text fill=\"#000000\" font-family=\"Times,serif\" font-size=\"14.00\" text-anchor=\"middle\" x=\"243.5\" y=\"-2083.3\">output:</text>\n<polyline fill=\"none\" points=\"272.5,-2075.5 272.5,-2121.5 \" stroke=\"#000000\"/>\n<text fill=\"#000000\" font-family=\"Times,serif\" font-size=\"14.00\" text-anchor=\"middle\" x=\"331\" y=\"-2106.3\">(None, 1250, 64)</text>\n<polyline fill=\"none\" points=\"272.5,-2098.5 389.5,-2098.5 \" stroke=\"#000000\"/>\n<text fill=\"#000000\" font-family=\"Times,serif\" font-size=\"14.00\" text-anchor=\"middle\" x=\"331\" y=\"-2083.3\">(None, 1250, 64)</text>\n</g>\n<!-- 139852762117456&#45;&gt;139852761632656 -->\n<g class=\"edge\" id=\"edge12\">\n<title>139852762117456-&gt;139852761632656</title>\n<path d=\"M223,-2158.3799C223,-2150.1745 223,-2140.7679 223,-2131.8786\" fill=\"none\" stroke=\"#000000\"/>\n<polygon fill=\"#000000\" points=\"226.5001,-2131.784 223,-2121.784 219.5001,-2131.784 226.5001,-2131.784\" stroke=\"#000000\"/>\n</g>\n<!-- 139852762078928 -->\n<g class=\"node\" id=\"node14\">\n<title>139852762078928</title>\n<polygon fill=\"none\" points=\"0,-1992.5 0,-2038.5 446,-2038.5 446,-1992.5 0,-1992.5\" stroke=\"#000000\"/>\n<text fill=\"#000000\" font-family=\"Times,serif\" font-size=\"14.00\" text-anchor=\"middle\" x=\"135.5\" y=\"-2011.8\">batch_normalization_3: BatchNormalization</text>\n<polyline fill=\"none\" points=\"271,-1992.5 271,-2038.5 \" stroke=\"#000000\"/>\n<text fill=\"#000000\" font-family=\"Times,serif\" font-size=\"14.00\" text-anchor=\"middle\" x=\"300\" y=\"-2023.3\">input:</text>\n<polyline fill=\"none\" points=\"271,-2015.5 329,-2015.5 \" stroke=\"#000000\"/>\n<text fill=\"#000000\" font-family=\"Times,serif\" font-size=\"14.00\" text-anchor=\"middle\" x=\"300\" y=\"-2000.3\">output:</text>\n<polyline fill=\"none\" points=\"329,-1992.5 329,-2038.5 \" stroke=\"#000000\"/>\n<text fill=\"#000000\" font-family=\"Times,serif\" font-size=\"14.00\" text-anchor=\"middle\" x=\"387.5\" y=\"-2023.3\">(None, 1250, 64)</text>\n<polyline fill=\"none\" points=\"329,-2015.5 446,-2015.5 \" stroke=\"#000000\"/>\n<text fill=\"#000000\" font-family=\"Times,serif\" font-size=\"14.00\" text-anchor=\"middle\" x=\"387.5\" y=\"-2000.3\">(None, 1250, 64)</text>\n</g>\n<!-- 139852761632656&#45;&gt;139852762078928 -->\n<g class=\"edge\" id=\"edge13\">\n<title>139852761632656-&gt;139852762078928</title>\n<path d=\"M223,-2075.3799C223,-2067.1745 223,-2057.7679 223,-2048.8786\" fill=\"none\" stroke=\"#000000\"/>\n<polygon fill=\"#000000\" points=\"226.5001,-2048.784 223,-2038.784 219.5001,-2048.784 226.5001,-2048.784\" stroke=\"#000000\"/>\n</g>\n<!-- 139852761684560 -->\n<g class=\"node\" id=\"node15\">\n<title>139852761684560</title>\n<polygon fill=\"none\" points=\"58.5,-1909.5 58.5,-1955.5 387.5,-1955.5 387.5,-1909.5 58.5,-1909.5\" stroke=\"#000000\"/>\n<text fill=\"#000000\" font-family=\"Times,serif\" font-size=\"14.00\" text-anchor=\"middle\" x=\"135.5\" y=\"-1928.8\">block2_act2: Activation</text>\n<polyline fill=\"none\" points=\"212.5,-1909.5 212.5,-1955.5 \" stroke=\"#000000\"/>\n<text fill=\"#000000\" font-family=\"Times,serif\" font-size=\"14.00\" text-anchor=\"middle\" x=\"241.5\" y=\"-1940.3\">input:</text>\n<polyline fill=\"none\" points=\"212.5,-1932.5 270.5,-1932.5 \" stroke=\"#000000\"/>\n<text fill=\"#000000\" font-family=\"Times,serif\" font-size=\"14.00\" text-anchor=\"middle\" x=\"241.5\" y=\"-1917.3\">output:</text>\n<polyline fill=\"none\" points=\"270.5,-1909.5 270.5,-1955.5 \" stroke=\"#000000\"/>\n<text fill=\"#000000\" font-family=\"Times,serif\" font-size=\"14.00\" text-anchor=\"middle\" x=\"329\" y=\"-1940.3\">(None, 1250, 64)</text>\n<polyline fill=\"none\" points=\"270.5,-1932.5 387.5,-1932.5 \" stroke=\"#000000\"/>\n<text fill=\"#000000\" font-family=\"Times,serif\" font-size=\"14.00\" text-anchor=\"middle\" x=\"329\" y=\"-1917.3\">(None, 1250, 64)</text>\n</g>\n<!-- 139852762078928&#45;&gt;139852761684560 -->\n<g class=\"edge\" id=\"edge14\">\n<title>139852762078928-&gt;139852761684560</title>\n<path d=\"M223,-1992.3799C223,-1984.1745 223,-1974.7679 223,-1965.8786\" fill=\"none\" stroke=\"#000000\"/>\n<polygon fill=\"#000000\" points=\"226.5001,-1965.784 223,-1955.784 219.5001,-1965.784 226.5001,-1965.784\" stroke=\"#000000\"/>\n</g>\n<!-- 139852761702224 -->\n<g class=\"node\" id=\"node16\">\n<title>139852761702224</title>\n<polygon fill=\"none\" points=\"41.5,-1826.5 41.5,-1872.5 404.5,-1872.5 404.5,-1826.5 41.5,-1826.5\" stroke=\"#000000\"/>\n<text fill=\"#000000\" font-family=\"Times,serif\" font-size=\"14.00\" text-anchor=\"middle\" x=\"135.5\" y=\"-1845.8\">block2_pool: MaxPooling1D</text>\n<polyline fill=\"none\" points=\"229.5,-1826.5 229.5,-1872.5 \" stroke=\"#000000\"/>\n<text fill=\"#000000\" font-family=\"Times,serif\" font-size=\"14.00\" text-anchor=\"middle\" x=\"258.5\" y=\"-1857.3\">input:</text>\n<polyline fill=\"none\" points=\"229.5,-1849.5 287.5,-1849.5 \" stroke=\"#000000\"/>\n<text fill=\"#000000\" font-family=\"Times,serif\" font-size=\"14.00\" text-anchor=\"middle\" x=\"258.5\" y=\"-1834.3\">output:</text>\n<polyline fill=\"none\" points=\"287.5,-1826.5 287.5,-1872.5 \" stroke=\"#000000\"/>\n<text fill=\"#000000\" font-family=\"Times,serif\" font-size=\"14.00\" text-anchor=\"middle\" x=\"346\" y=\"-1857.3\">(None, 1250, 64)</text>\n<polyline fill=\"none\" points=\"287.5,-1849.5 404.5,-1849.5 \" stroke=\"#000000\"/>\n<text fill=\"#000000\" font-family=\"Times,serif\" font-size=\"14.00\" text-anchor=\"middle\" x=\"346\" y=\"-1834.3\">(None, 313, 64)</text>\n</g>\n<!-- 139852761684560&#45;&gt;139852761702224 -->\n<g class=\"edge\" id=\"edge15\">\n<title>139852761684560-&gt;139852761702224</title>\n<path d=\"M223,-1909.3799C223,-1901.1745 223,-1891.7679 223,-1882.8786\" fill=\"none\" stroke=\"#000000\"/>\n<polygon fill=\"#000000\" points=\"226.5001,-1882.784 223,-1872.784 219.5001,-1882.784 226.5001,-1882.784\" stroke=\"#000000\"/>\n</g>\n<!-- 139852761684176 -->\n<g class=\"node\" id=\"node17\">\n<title>139852761684176</title>\n<polygon fill=\"none\" points=\"56,-1743.5 56,-1789.5 390,-1789.5 390,-1743.5 56,-1743.5\" stroke=\"#000000\"/>\n<text fill=\"#000000\" font-family=\"Times,serif\" font-size=\"14.00\" text-anchor=\"middle\" x=\"139\" y=\"-1762.8\">block2_dropout: Dropout</text>\n<polyline fill=\"none\" points=\"222,-1743.5 222,-1789.5 \" stroke=\"#000000\"/>\n<text fill=\"#000000\" font-family=\"Times,serif\" font-size=\"14.00\" text-anchor=\"middle\" x=\"251\" y=\"-1774.3\">input:</text>\n<polyline fill=\"none\" points=\"222,-1766.5 280,-1766.5 \" stroke=\"#000000\"/>\n<text fill=\"#000000\" font-family=\"Times,serif\" font-size=\"14.00\" text-anchor=\"middle\" x=\"251\" y=\"-1751.3\">output:</text>\n<polyline fill=\"none\" points=\"280,-1743.5 280,-1789.5 \" stroke=\"#000000\"/>\n<text fill=\"#000000\" font-family=\"Times,serif\" font-size=\"14.00\" text-anchor=\"middle\" x=\"335\" y=\"-1774.3\">(None, 313, 64)</text>\n<polyline fill=\"none\" points=\"280,-1766.5 390,-1766.5 \" stroke=\"#000000\"/>\n<text fill=\"#000000\" font-family=\"Times,serif\" font-size=\"14.00\" text-anchor=\"middle\" x=\"335\" y=\"-1751.3\">(None, 313, 64)</text>\n</g>\n<!-- 139852761702224&#45;&gt;139852761684176 -->\n<g class=\"edge\" id=\"edge16\">\n<title>139852761702224-&gt;139852761684176</title>\n<path d=\"M223,-1826.3799C223,-1818.1745 223,-1808.7679 223,-1799.8786\" fill=\"none\" stroke=\"#000000\"/>\n<polygon fill=\"#000000\" points=\"226.5001,-1799.784 223,-1789.784 219.5001,-1799.784 226.5001,-1799.784\" stroke=\"#000000\"/>\n</g>\n<!-- 139852761700624 -->\n<g class=\"node\" id=\"node18\">\n<title>139852761700624</title>\n<polygon fill=\"none\" points=\"56.5,-1660.5 56.5,-1706.5 389.5,-1706.5 389.5,-1660.5 56.5,-1660.5\" stroke=\"#000000\"/>\n<text fill=\"#000000\" font-family=\"Times,serif\" font-size=\"14.00\" text-anchor=\"middle\" x=\"135.5\" y=\"-1679.8\">block3_conv1: Conv1D</text>\n<polyline fill=\"none\" points=\"214.5,-1660.5 214.5,-1706.5 \" stroke=\"#000000\"/>\n<text fill=\"#000000\" font-family=\"Times,serif\" font-size=\"14.00\" text-anchor=\"middle\" x=\"243.5\" y=\"-1691.3\">input:</text>\n<polyline fill=\"none\" points=\"214.5,-1683.5 272.5,-1683.5 \" stroke=\"#000000\"/>\n<text fill=\"#000000\" font-family=\"Times,serif\" font-size=\"14.00\" text-anchor=\"middle\" x=\"243.5\" y=\"-1668.3\">output:</text>\n<polyline fill=\"none\" points=\"272.5,-1660.5 272.5,-1706.5 \" stroke=\"#000000\"/>\n<text fill=\"#000000\" font-family=\"Times,serif\" font-size=\"14.00\" text-anchor=\"middle\" x=\"331\" y=\"-1691.3\">(None, 313, 64)</text>\n<polyline fill=\"none\" points=\"272.5,-1683.5 389.5,-1683.5 \" stroke=\"#000000\"/>\n<text fill=\"#000000\" font-family=\"Times,serif\" font-size=\"14.00\" text-anchor=\"middle\" x=\"331\" y=\"-1668.3\">(None, 313, 128)</text>\n</g>\n<!-- 139852761684176&#45;&gt;139852761700624 -->\n<g class=\"edge\" id=\"edge17\">\n<title>139852761684176-&gt;139852761700624</title>\n<path d=\"M223,-1743.3799C223,-1735.1745 223,-1725.7679 223,-1716.8786\" fill=\"none\" stroke=\"#000000\"/>\n<polygon fill=\"#000000\" points=\"226.5001,-1716.784 223,-1706.784 219.5001,-1716.784 226.5001,-1716.784\" stroke=\"#000000\"/>\n</g>\n<!-- 139852762119184 -->\n<g class=\"node\" id=\"node19\">\n<title>139852762119184</title>\n<polygon fill=\"none\" points=\"0,-1577.5 0,-1623.5 446,-1623.5 446,-1577.5 0,-1577.5\" stroke=\"#000000\"/>\n<text fill=\"#000000\" font-family=\"Times,serif\" font-size=\"14.00\" text-anchor=\"middle\" x=\"135.5\" y=\"-1596.8\">batch_normalization_4: BatchNormalization</text>\n<polyline fill=\"none\" points=\"271,-1577.5 271,-1623.5 \" stroke=\"#000000\"/>\n<text fill=\"#000000\" font-family=\"Times,serif\" font-size=\"14.00\" text-anchor=\"middle\" x=\"300\" y=\"-1608.3\">input:</text>\n<polyline fill=\"none\" points=\"271,-1600.5 329,-1600.5 \" stroke=\"#000000\"/>\n<text fill=\"#000000\" font-family=\"Times,serif\" font-size=\"14.00\" text-anchor=\"middle\" x=\"300\" y=\"-1585.3\">output:</text>\n<polyline fill=\"none\" points=\"329,-1577.5 329,-1623.5 \" stroke=\"#000000\"/>\n<text fill=\"#000000\" font-family=\"Times,serif\" font-size=\"14.00\" text-anchor=\"middle\" x=\"387.5\" y=\"-1608.3\">(None, 313, 128)</text>\n<polyline fill=\"none\" points=\"329,-1600.5 446,-1600.5 \" stroke=\"#000000\"/>\n<text fill=\"#000000\" font-family=\"Times,serif\" font-size=\"14.00\" text-anchor=\"middle\" x=\"387.5\" y=\"-1585.3\">(None, 313, 128)</text>\n</g>\n<!-- 139852761700624&#45;&gt;139852762119184 -->\n<g class=\"edge\" id=\"edge18\">\n<title>139852761700624-&gt;139852762119184</title>\n<path d=\"M223,-1660.3799C223,-1652.1745 223,-1642.7679 223,-1633.8786\" fill=\"none\" stroke=\"#000000\"/>\n<polygon fill=\"#000000\" points=\"226.5001,-1633.784 223,-1623.784 219.5001,-1633.784 226.5001,-1633.784\" stroke=\"#000000\"/>\n</g>\n<!-- 139852761631568 -->\n<g class=\"node\" id=\"node20\">\n<title>139852761631568</title>\n<polygon fill=\"none\" points=\"58.5,-1494.5 58.5,-1540.5 387.5,-1540.5 387.5,-1494.5 58.5,-1494.5\" stroke=\"#000000\"/>\n<text fill=\"#000000\" font-family=\"Times,serif\" font-size=\"14.00\" text-anchor=\"middle\" x=\"135.5\" y=\"-1513.8\">block3_act1: Activation</text>\n<polyline fill=\"none\" points=\"212.5,-1494.5 212.5,-1540.5 \" stroke=\"#000000\"/>\n<text fill=\"#000000\" font-family=\"Times,serif\" font-size=\"14.00\" text-anchor=\"middle\" x=\"241.5\" y=\"-1525.3\">input:</text>\n<polyline fill=\"none\" points=\"212.5,-1517.5 270.5,-1517.5 \" stroke=\"#000000\"/>\n<text fill=\"#000000\" font-family=\"Times,serif\" font-size=\"14.00\" text-anchor=\"middle\" x=\"241.5\" y=\"-1502.3\">output:</text>\n<polyline fill=\"none\" points=\"270.5,-1494.5 270.5,-1540.5 \" stroke=\"#000000\"/>\n<text fill=\"#000000\" font-family=\"Times,serif\" font-size=\"14.00\" text-anchor=\"middle\" x=\"329\" y=\"-1525.3\">(None, 313, 128)</text>\n<polyline fill=\"none\" points=\"270.5,-1517.5 387.5,-1517.5 \" stroke=\"#000000\"/>\n<text fill=\"#000000\" font-family=\"Times,serif\" font-size=\"14.00\" text-anchor=\"middle\" x=\"329\" y=\"-1502.3\">(None, 313, 128)</text>\n</g>\n<!-- 139852762119184&#45;&gt;139852761631568 -->\n<g class=\"edge\" id=\"edge19\">\n<title>139852762119184-&gt;139852761631568</title>\n<path d=\"M223,-1577.3799C223,-1569.1745 223,-1559.7679 223,-1550.8786\" fill=\"none\" stroke=\"#000000\"/>\n<polygon fill=\"#000000\" points=\"226.5001,-1550.784 223,-1540.784 219.5001,-1550.784 226.5001,-1550.784\" stroke=\"#000000\"/>\n</g>\n<!-- 139852761940112 -->\n<g class=\"node\" id=\"node21\">\n<title>139852761940112</title>\n<polygon fill=\"none\" points=\"56.5,-1411.5 56.5,-1457.5 389.5,-1457.5 389.5,-1411.5 56.5,-1411.5\" stroke=\"#000000\"/>\n<text fill=\"#000000\" font-family=\"Times,serif\" font-size=\"14.00\" text-anchor=\"middle\" x=\"135.5\" y=\"-1430.8\">block3_conv2: Conv1D</text>\n<polyline fill=\"none\" points=\"214.5,-1411.5 214.5,-1457.5 \" stroke=\"#000000\"/>\n<text fill=\"#000000\" font-family=\"Times,serif\" font-size=\"14.00\" text-anchor=\"middle\" x=\"243.5\" y=\"-1442.3\">input:</text>\n<polyline fill=\"none\" points=\"214.5,-1434.5 272.5,-1434.5 \" stroke=\"#000000\"/>\n<text fill=\"#000000\" font-family=\"Times,serif\" font-size=\"14.00\" text-anchor=\"middle\" x=\"243.5\" y=\"-1419.3\">output:</text>\n<polyline fill=\"none\" points=\"272.5,-1411.5 272.5,-1457.5 \" stroke=\"#000000\"/>\n<text fill=\"#000000\" font-family=\"Times,serif\" font-size=\"14.00\" text-anchor=\"middle\" x=\"331\" y=\"-1442.3\">(None, 313, 128)</text>\n<polyline fill=\"none\" points=\"272.5,-1434.5 389.5,-1434.5 \" stroke=\"#000000\"/>\n<text fill=\"#000000\" font-family=\"Times,serif\" font-size=\"14.00\" text-anchor=\"middle\" x=\"331\" y=\"-1419.3\">(None, 313, 128)</text>\n</g>\n<!-- 139852761631568&#45;&gt;139852761940112 -->\n<g class=\"edge\" id=\"edge20\">\n<title>139852761631568-&gt;139852761940112</title>\n<path d=\"M223,-1494.3799C223,-1486.1745 223,-1476.7679 223,-1467.8786\" fill=\"none\" stroke=\"#000000\"/>\n<polygon fill=\"#000000\" points=\"226.5001,-1467.784 223,-1457.784 219.5001,-1467.784 226.5001,-1467.784\" stroke=\"#000000\"/>\n</g>\n<!-- 139852761701200 -->\n<g class=\"node\" id=\"node22\">\n<title>139852761701200</title>\n<polygon fill=\"none\" points=\"0,-1328.5 0,-1374.5 446,-1374.5 446,-1328.5 0,-1328.5\" stroke=\"#000000\"/>\n<text fill=\"#000000\" font-family=\"Times,serif\" font-size=\"14.00\" text-anchor=\"middle\" x=\"135.5\" y=\"-1347.8\">batch_normalization_5: BatchNormalization</text>\n<polyline fill=\"none\" points=\"271,-1328.5 271,-1374.5 \" stroke=\"#000000\"/>\n<text fill=\"#000000\" font-family=\"Times,serif\" font-size=\"14.00\" text-anchor=\"middle\" x=\"300\" y=\"-1359.3\">input:</text>\n<polyline fill=\"none\" points=\"271,-1351.5 329,-1351.5 \" stroke=\"#000000\"/>\n<text fill=\"#000000\" font-family=\"Times,serif\" font-size=\"14.00\" text-anchor=\"middle\" x=\"300\" y=\"-1336.3\">output:</text>\n<polyline fill=\"none\" points=\"329,-1328.5 329,-1374.5 \" stroke=\"#000000\"/>\n<text fill=\"#000000\" font-family=\"Times,serif\" font-size=\"14.00\" text-anchor=\"middle\" x=\"387.5\" y=\"-1359.3\">(None, 313, 128)</text>\n<polyline fill=\"none\" points=\"329,-1351.5 446,-1351.5 \" stroke=\"#000000\"/>\n<text fill=\"#000000\" font-family=\"Times,serif\" font-size=\"14.00\" text-anchor=\"middle\" x=\"387.5\" y=\"-1336.3\">(None, 313, 128)</text>\n</g>\n<!-- 139852761940112&#45;&gt;139852761701200 -->\n<g class=\"edge\" id=\"edge21\">\n<title>139852761940112-&gt;139852761701200</title>\n<path d=\"M223,-1411.3799C223,-1403.1745 223,-1393.7679 223,-1384.8786\" fill=\"none\" stroke=\"#000000\"/>\n<polygon fill=\"#000000\" points=\"226.5001,-1384.784 223,-1374.784 219.5001,-1384.784 226.5001,-1384.784\" stroke=\"#000000\"/>\n</g>\n<!-- 139852756631504 -->\n<g class=\"node\" id=\"node23\">\n<title>139852756631504</title>\n<polygon fill=\"none\" points=\"58.5,-1245.5 58.5,-1291.5 387.5,-1291.5 387.5,-1245.5 58.5,-1245.5\" stroke=\"#000000\"/>\n<text fill=\"#000000\" font-family=\"Times,serif\" font-size=\"14.00\" text-anchor=\"middle\" x=\"135.5\" y=\"-1264.8\">block3_act2: Activation</text>\n<polyline fill=\"none\" points=\"212.5,-1245.5 212.5,-1291.5 \" stroke=\"#000000\"/>\n<text fill=\"#000000\" font-family=\"Times,serif\" font-size=\"14.00\" text-anchor=\"middle\" x=\"241.5\" y=\"-1276.3\">input:</text>\n<polyline fill=\"none\" points=\"212.5,-1268.5 270.5,-1268.5 \" stroke=\"#000000\"/>\n<text fill=\"#000000\" font-family=\"Times,serif\" font-size=\"14.00\" text-anchor=\"middle\" x=\"241.5\" y=\"-1253.3\">output:</text>\n<polyline fill=\"none\" points=\"270.5,-1245.5 270.5,-1291.5 \" stroke=\"#000000\"/>\n<text fill=\"#000000\" font-family=\"Times,serif\" font-size=\"14.00\" text-anchor=\"middle\" x=\"329\" y=\"-1276.3\">(None, 313, 128)</text>\n<polyline fill=\"none\" points=\"270.5,-1268.5 387.5,-1268.5 \" stroke=\"#000000\"/>\n<text fill=\"#000000\" font-family=\"Times,serif\" font-size=\"14.00\" text-anchor=\"middle\" x=\"329\" y=\"-1253.3\">(None, 313, 128)</text>\n</g>\n<!-- 139852761701200&#45;&gt;139852756631504 -->\n<g class=\"edge\" id=\"edge22\">\n<title>139852761701200-&gt;139852756631504</title>\n<path d=\"M223,-1328.3799C223,-1320.1745 223,-1310.7679 223,-1301.8786\" fill=\"none\" stroke=\"#000000\"/>\n<polygon fill=\"#000000\" points=\"226.5001,-1301.784 223,-1291.784 219.5001,-1301.784 226.5001,-1301.784\" stroke=\"#000000\"/>\n</g>\n<!-- 139853982237712 -->\n<g class=\"node\" id=\"node24\">\n<title>139853982237712</title>\n<polygon fill=\"none\" points=\"41.5,-1162.5 41.5,-1208.5 404.5,-1208.5 404.5,-1162.5 41.5,-1162.5\" stroke=\"#000000\"/>\n<text fill=\"#000000\" font-family=\"Times,serif\" font-size=\"14.00\" text-anchor=\"middle\" x=\"135.5\" y=\"-1181.8\">block3_pool: MaxPooling1D</text>\n<polyline fill=\"none\" points=\"229.5,-1162.5 229.5,-1208.5 \" stroke=\"#000000\"/>\n<text fill=\"#000000\" font-family=\"Times,serif\" font-size=\"14.00\" text-anchor=\"middle\" x=\"258.5\" y=\"-1193.3\">input:</text>\n<polyline fill=\"none\" points=\"229.5,-1185.5 287.5,-1185.5 \" stroke=\"#000000\"/>\n<text fill=\"#000000\" font-family=\"Times,serif\" font-size=\"14.00\" text-anchor=\"middle\" x=\"258.5\" y=\"-1170.3\">output:</text>\n<polyline fill=\"none\" points=\"287.5,-1162.5 287.5,-1208.5 \" stroke=\"#000000\"/>\n<text fill=\"#000000\" font-family=\"Times,serif\" font-size=\"14.00\" text-anchor=\"middle\" x=\"346\" y=\"-1193.3\">(None, 313, 128)</text>\n<polyline fill=\"none\" points=\"287.5,-1185.5 404.5,-1185.5 \" stroke=\"#000000\"/>\n<text fill=\"#000000\" font-family=\"Times,serif\" font-size=\"14.00\" text-anchor=\"middle\" x=\"346\" y=\"-1170.3\">(None, 79, 128)</text>\n</g>\n<!-- 139852756631504&#45;&gt;139853982237712 -->\n<g class=\"edge\" id=\"edge23\">\n<title>139852756631504-&gt;139853982237712</title>\n<path d=\"M223,-1245.3799C223,-1237.1745 223,-1227.7679 223,-1218.8786\" fill=\"none\" stroke=\"#000000\"/>\n<polygon fill=\"#000000\" points=\"226.5001,-1218.784 223,-1208.784 219.5001,-1218.784 226.5001,-1218.784\" stroke=\"#000000\"/>\n</g>\n<!-- 139852755938832 -->\n<g class=\"node\" id=\"node25\">\n<title>139852755938832</title>\n<polygon fill=\"none\" points=\"56,-1079.5 56,-1125.5 390,-1125.5 390,-1079.5 56,-1079.5\" stroke=\"#000000\"/>\n<text fill=\"#000000\" font-family=\"Times,serif\" font-size=\"14.00\" text-anchor=\"middle\" x=\"139\" y=\"-1098.8\">block3_dropout: Dropout</text>\n<polyline fill=\"none\" points=\"222,-1079.5 222,-1125.5 \" stroke=\"#000000\"/>\n<text fill=\"#000000\" font-family=\"Times,serif\" font-size=\"14.00\" text-anchor=\"middle\" x=\"251\" y=\"-1110.3\">input:</text>\n<polyline fill=\"none\" points=\"222,-1102.5 280,-1102.5 \" stroke=\"#000000\"/>\n<text fill=\"#000000\" font-family=\"Times,serif\" font-size=\"14.00\" text-anchor=\"middle\" x=\"251\" y=\"-1087.3\">output:</text>\n<polyline fill=\"none\" points=\"280,-1079.5 280,-1125.5 \" stroke=\"#000000\"/>\n<text fill=\"#000000\" font-family=\"Times,serif\" font-size=\"14.00\" text-anchor=\"middle\" x=\"335\" y=\"-1110.3\">(None, 79, 128)</text>\n<polyline fill=\"none\" points=\"280,-1102.5 390,-1102.5 \" stroke=\"#000000\"/>\n<text fill=\"#000000\" font-family=\"Times,serif\" font-size=\"14.00\" text-anchor=\"middle\" x=\"335\" y=\"-1087.3\">(None, 79, 128)</text>\n</g>\n<!-- 139853982237712&#45;&gt;139852755938832 -->\n<g class=\"edge\" id=\"edge24\">\n<title>139853982237712-&gt;139852755938832</title>\n<path d=\"M223,-1162.3799C223,-1154.1745 223,-1144.7679 223,-1135.8786\" fill=\"none\" stroke=\"#000000\"/>\n<polygon fill=\"#000000\" points=\"226.5001,-1135.784 223,-1125.784 219.5001,-1135.784 226.5001,-1135.784\" stroke=\"#000000\"/>\n</g>\n<!-- 139852975648720 -->\n<g class=\"node\" id=\"node26\">\n<title>139852975648720</title>\n<polygon fill=\"none\" points=\"54,-996.5 54,-1042.5 392,-1042.5 392,-996.5 54,-996.5\" stroke=\"#000000\"/>\n<text fill=\"#000000\" font-family=\"Times,serif\" font-size=\"14.00\" text-anchor=\"middle\" x=\"139\" y=\"-1015.8\">resnet_block: ResnetBlock</text>\n<polyline fill=\"none\" points=\"224,-996.5 224,-1042.5 \" stroke=\"#000000\"/>\n<text fill=\"#000000\" font-family=\"Times,serif\" font-size=\"14.00\" text-anchor=\"middle\" x=\"253\" y=\"-1027.3\">input:</text>\n<polyline fill=\"none\" points=\"224,-1019.5 282,-1019.5 \" stroke=\"#000000\"/>\n<text fill=\"#000000\" font-family=\"Times,serif\" font-size=\"14.00\" text-anchor=\"middle\" x=\"253\" y=\"-1004.3\">output:</text>\n<polyline fill=\"none\" points=\"282,-996.5 282,-1042.5 \" stroke=\"#000000\"/>\n<text fill=\"#000000\" font-family=\"Times,serif\" font-size=\"14.00\" text-anchor=\"middle\" x=\"337\" y=\"-1027.3\">(None, 79, 128)</text>\n<polyline fill=\"none\" points=\"282,-1019.5 392,-1019.5 \" stroke=\"#000000\"/>\n<text fill=\"#000000\" font-family=\"Times,serif\" font-size=\"14.00\" text-anchor=\"middle\" x=\"337\" y=\"-1004.3\">(None, 79, 128)</text>\n</g>\n<!-- 139852755938832&#45;&gt;139852975648720 -->\n<g class=\"edge\" id=\"edge25\">\n<title>139852755938832-&gt;139852975648720</title>\n<path d=\"M223,-1079.3799C223,-1071.1745 223,-1061.7679 223,-1052.8786\" fill=\"none\" stroke=\"#000000\"/>\n<polygon fill=\"#000000\" points=\"226.5001,-1052.784 223,-1042.784 219.5001,-1052.784 226.5001,-1052.784\" stroke=\"#000000\"/>\n</g>\n<!-- 139852458937424 -->\n<g class=\"node\" id=\"node27\">\n<title>139852458937424</title>\n<polygon fill=\"none\" points=\"46.5,-913.5 46.5,-959.5 399.5,-959.5 399.5,-913.5 46.5,-913.5\" stroke=\"#000000\"/>\n<text fill=\"#000000\" font-family=\"Times,serif\" font-size=\"14.00\" text-anchor=\"middle\" x=\"139\" y=\"-932.8\">resnet_block_1: ResnetBlock</text>\n<polyline fill=\"none\" points=\"231.5,-913.5 231.5,-959.5 \" stroke=\"#000000\"/>\n<text fill=\"#000000\" font-family=\"Times,serif\" font-size=\"14.00\" text-anchor=\"middle\" x=\"260.5\" y=\"-944.3\">input:</text>\n<polyline fill=\"none\" points=\"231.5,-936.5 289.5,-936.5 \" stroke=\"#000000\"/>\n<text fill=\"#000000\" font-family=\"Times,serif\" font-size=\"14.00\" text-anchor=\"middle\" x=\"260.5\" y=\"-921.3\">output:</text>\n<polyline fill=\"none\" points=\"289.5,-913.5 289.5,-959.5 \" stroke=\"#000000\"/>\n<text fill=\"#000000\" font-family=\"Times,serif\" font-size=\"14.00\" text-anchor=\"middle\" x=\"344.5\" y=\"-944.3\">(None, 79, 128)</text>\n<polyline fill=\"none\" points=\"289.5,-936.5 399.5,-936.5 \" stroke=\"#000000\"/>\n<text fill=\"#000000\" font-family=\"Times,serif\" font-size=\"14.00\" text-anchor=\"middle\" x=\"344.5\" y=\"-921.3\">(None, 40, 256)</text>\n</g>\n<!-- 139852975648720&#45;&gt;139852458937424 -->\n<g class=\"edge\" id=\"edge26\">\n<title>139852975648720-&gt;139852458937424</title>\n<path d=\"M223,-996.3799C223,-988.1745 223,-978.7679 223,-969.8786\" fill=\"none\" stroke=\"#000000\"/>\n<polygon fill=\"#000000\" points=\"226.5001,-969.784 223,-959.784 219.5001,-969.784 226.5001,-969.784\" stroke=\"#000000\"/>\n</g>\n<!-- 139852460760016 -->\n<g class=\"node\" id=\"node28\">\n<title>139852460760016</title>\n<polygon fill=\"none\" points=\"90,-830.5 90,-876.5 356,-876.5 356,-830.5 90,-830.5\" stroke=\"#000000\"/>\n<text fill=\"#000000\" font-family=\"Times,serif\" font-size=\"14.00\" text-anchor=\"middle\" x=\"139\" y=\"-849.8\">flatten: Flatten</text>\n<polyline fill=\"none\" points=\"188,-830.5 188,-876.5 \" stroke=\"#000000\"/>\n<text fill=\"#000000\" font-family=\"Times,serif\" font-size=\"14.00\" text-anchor=\"middle\" x=\"217\" y=\"-861.3\">input:</text>\n<polyline fill=\"none\" points=\"188,-853.5 246,-853.5 \" stroke=\"#000000\"/>\n<text fill=\"#000000\" font-family=\"Times,serif\" font-size=\"14.00\" text-anchor=\"middle\" x=\"217\" y=\"-838.3\">output:</text>\n<polyline fill=\"none\" points=\"246,-830.5 246,-876.5 \" stroke=\"#000000\"/>\n<text fill=\"#000000\" font-family=\"Times,serif\" font-size=\"14.00\" text-anchor=\"middle\" x=\"301\" y=\"-861.3\">(None, 40, 256)</text>\n<polyline fill=\"none\" points=\"246,-853.5 356,-853.5 \" stroke=\"#000000\"/>\n<text fill=\"#000000\" font-family=\"Times,serif\" font-size=\"14.00\" text-anchor=\"middle\" x=\"301\" y=\"-838.3\">(None, 10240)</text>\n</g>\n<!-- 139852458937424&#45;&gt;139852460760016 -->\n<g class=\"edge\" id=\"edge27\">\n<title>139852458937424-&gt;139852460760016</title>\n<path d=\"M223,-913.3799C223,-905.1745 223,-895.7679 223,-886.8786\" fill=\"none\" stroke=\"#000000\"/>\n<polygon fill=\"#000000\" points=\"226.5001,-886.784 223,-876.784 219.5001,-886.784 226.5001,-886.784\" stroke=\"#000000\"/>\n</g>\n<!-- 139852758434064 -->\n<g class=\"node\" id=\"node29\">\n<title>139852758434064</title>\n<polygon fill=\"none\" points=\"104.5,-747.5 104.5,-793.5 341.5,-793.5 341.5,-747.5 104.5,-747.5\" stroke=\"#000000\"/>\n<text fill=\"#000000\" font-family=\"Times,serif\" font-size=\"14.00\" text-anchor=\"middle\" x=\"143\" y=\"-766.8\">fc1: Dense</text>\n<polyline fill=\"none\" points=\"181.5,-747.5 181.5,-793.5 \" stroke=\"#000000\"/>\n<text fill=\"#000000\" font-family=\"Times,serif\" font-size=\"14.00\" text-anchor=\"middle\" x=\"210.5\" y=\"-778.3\">input:</text>\n<polyline fill=\"none\" points=\"181.5,-770.5 239.5,-770.5 \" stroke=\"#000000\"/>\n<text fill=\"#000000\" font-family=\"Times,serif\" font-size=\"14.00\" text-anchor=\"middle\" x=\"210.5\" y=\"-755.3\">output:</text>\n<polyline fill=\"none\" points=\"239.5,-747.5 239.5,-793.5 \" stroke=\"#000000\"/>\n<text fill=\"#000000\" font-family=\"Times,serif\" font-size=\"14.00\" text-anchor=\"middle\" x=\"290.5\" y=\"-778.3\">(None, 10240)</text>\n<polyline fill=\"none\" points=\"239.5,-770.5 341.5,-770.5 \" stroke=\"#000000\"/>\n<text fill=\"#000000\" font-family=\"Times,serif\" font-size=\"14.00\" text-anchor=\"middle\" x=\"290.5\" y=\"-755.3\">(None, 512)</text>\n</g>\n<!-- 139852460760016&#45;&gt;139852758434064 -->\n<g class=\"edge\" id=\"edge28\">\n<title>139852460760016-&gt;139852758434064</title>\n<path d=\"M223,-830.3799C223,-822.1745 223,-812.7679 223,-803.8786\" fill=\"none\" stroke=\"#000000\"/>\n<polygon fill=\"#000000\" points=\"226.5001,-803.784 223,-793.784 219.5001,-803.784 226.5001,-803.784\" stroke=\"#000000\"/>\n</g>\n<!-- 139851065044176 -->\n<g class=\"node\" id=\"node30\">\n<title>139851065044176</title>\n<polygon fill=\"none\" points=\"11.5,-664.5 11.5,-710.5 434.5,-710.5 434.5,-664.5 11.5,-664.5\" stroke=\"#000000\"/>\n<text fill=\"#000000\" font-family=\"Times,serif\" font-size=\"14.00\" text-anchor=\"middle\" x=\"150.5\" y=\"-683.8\">batch_normalization_14: BatchNormalization</text>\n<polyline fill=\"none\" points=\"289.5,-664.5 289.5,-710.5 \" stroke=\"#000000\"/>\n<text fill=\"#000000\" font-family=\"Times,serif\" font-size=\"14.00\" text-anchor=\"middle\" x=\"318.5\" y=\"-695.3\">input:</text>\n<polyline fill=\"none\" points=\"289.5,-687.5 347.5,-687.5 \" stroke=\"#000000\"/>\n<text fill=\"#000000\" font-family=\"Times,serif\" font-size=\"14.00\" text-anchor=\"middle\" x=\"318.5\" y=\"-672.3\">output:</text>\n<polyline fill=\"none\" points=\"347.5,-664.5 347.5,-710.5 \" stroke=\"#000000\"/>\n<text fill=\"#000000\" font-family=\"Times,serif\" font-size=\"14.00\" text-anchor=\"middle\" x=\"391\" y=\"-695.3\">(None, 512)</text>\n<polyline fill=\"none\" points=\"347.5,-687.5 434.5,-687.5 \" stroke=\"#000000\"/>\n<text fill=\"#000000\" font-family=\"Times,serif\" font-size=\"14.00\" text-anchor=\"middle\" x=\"391\" y=\"-672.3\">(None, 512)</text>\n</g>\n<!-- 139852758434064&#45;&gt;139851065044176 -->\n<g class=\"edge\" id=\"edge29\">\n<title>139852758434064-&gt;139851065044176</title>\n<path d=\"M223,-747.3799C223,-739.1745 223,-729.7679 223,-720.8786\" fill=\"none\" stroke=\"#000000\"/>\n<polygon fill=\"#000000\" points=\"226.5001,-720.784 223,-710.784 219.5001,-720.784 226.5001,-720.784\" stroke=\"#000000\"/>\n</g>\n<!-- 139851070114320 -->\n<g class=\"node\" id=\"node31\">\n<title>139851070114320</title>\n<polygon fill=\"none\" points=\"88,-581.5 88,-627.5 358,-627.5 358,-581.5 88,-581.5\" stroke=\"#000000\"/>\n<text fill=\"#000000\" font-family=\"Times,serif\" font-size=\"14.00\" text-anchor=\"middle\" x=\"150.5\" y=\"-600.8\">fc1_act: Activation</text>\n<polyline fill=\"none\" points=\"213,-581.5 213,-627.5 \" stroke=\"#000000\"/>\n<text fill=\"#000000\" font-family=\"Times,serif\" font-size=\"14.00\" text-anchor=\"middle\" x=\"242\" y=\"-612.3\">input:</text>\n<polyline fill=\"none\" points=\"213,-604.5 271,-604.5 \" stroke=\"#000000\"/>\n<text fill=\"#000000\" font-family=\"Times,serif\" font-size=\"14.00\" text-anchor=\"middle\" x=\"242\" y=\"-589.3\">output:</text>\n<polyline fill=\"none\" points=\"271,-581.5 271,-627.5 \" stroke=\"#000000\"/>\n<text fill=\"#000000\" font-family=\"Times,serif\" font-size=\"14.00\" text-anchor=\"middle\" x=\"314.5\" y=\"-612.3\">(None, 512)</text>\n<polyline fill=\"none\" points=\"271,-604.5 358,-604.5 \" stroke=\"#000000\"/>\n<text fill=\"#000000\" font-family=\"Times,serif\" font-size=\"14.00\" text-anchor=\"middle\" x=\"314.5\" y=\"-589.3\">(None, 512)</text>\n</g>\n<!-- 139851065044176&#45;&gt;139851070114320 -->\n<g class=\"edge\" id=\"edge30\">\n<title>139851065044176-&gt;139851070114320</title>\n<path d=\"M223,-664.3799C223,-656.1745 223,-646.7679 223,-637.8786\" fill=\"none\" stroke=\"#000000\"/>\n<polygon fill=\"#000000\" points=\"226.5001,-637.784 223,-627.784 219.5001,-637.784 226.5001,-637.784\" stroke=\"#000000\"/>\n</g>\n<!-- 139851070557968 -->\n<g class=\"node\" id=\"node32\">\n<title>139851070557968</title>\n<polygon fill=\"none\" points=\"78.5,-498.5 78.5,-544.5 367.5,-544.5 367.5,-498.5 78.5,-498.5\" stroke=\"#000000\"/>\n<text fill=\"#000000\" font-family=\"Times,serif\" font-size=\"14.00\" text-anchor=\"middle\" x=\"150.5\" y=\"-517.8\">fc1_dropout: Dropout</text>\n<polyline fill=\"none\" points=\"222.5,-498.5 222.5,-544.5 \" stroke=\"#000000\"/>\n<text fill=\"#000000\" font-family=\"Times,serif\" font-size=\"14.00\" text-anchor=\"middle\" x=\"251.5\" y=\"-529.3\">input:</text>\n<polyline fill=\"none\" points=\"222.5,-521.5 280.5,-521.5 \" stroke=\"#000000\"/>\n<text fill=\"#000000\" font-family=\"Times,serif\" font-size=\"14.00\" text-anchor=\"middle\" x=\"251.5\" y=\"-506.3\">output:</text>\n<polyline fill=\"none\" points=\"280.5,-498.5 280.5,-544.5 \" stroke=\"#000000\"/>\n<text fill=\"#000000\" font-family=\"Times,serif\" font-size=\"14.00\" text-anchor=\"middle\" x=\"324\" y=\"-529.3\">(None, 512)</text>\n<polyline fill=\"none\" points=\"280.5,-521.5 367.5,-521.5 \" stroke=\"#000000\"/>\n<text fill=\"#000000\" font-family=\"Times,serif\" font-size=\"14.00\" text-anchor=\"middle\" x=\"324\" y=\"-506.3\">(None, 512)</text>\n</g>\n<!-- 139851070114320&#45;&gt;139851070557968 -->\n<g class=\"edge\" id=\"edge31\">\n<title>139851070114320-&gt;139851070557968</title>\n<path d=\"M223,-581.3799C223,-573.1745 223,-563.7679 223,-554.8786\" fill=\"none\" stroke=\"#000000\"/>\n<polygon fill=\"#000000\" points=\"226.5001,-554.784 223,-544.784 219.5001,-554.784 226.5001,-554.784\" stroke=\"#000000\"/>\n</g>\n<!-- 139852461860688 -->\n<g class=\"node\" id=\"node33\">\n<title>139852461860688</title>\n<polygon fill=\"none\" points=\"112,-415.5 112,-461.5 334,-461.5 334,-415.5 112,-415.5\" stroke=\"#000000\"/>\n<text fill=\"#000000\" font-family=\"Times,serif\" font-size=\"14.00\" text-anchor=\"middle\" x=\"150.5\" y=\"-434.8\">fc2: Dense</text>\n<polyline fill=\"none\" points=\"189,-415.5 189,-461.5 \" stroke=\"#000000\"/>\n<text fill=\"#000000\" font-family=\"Times,serif\" font-size=\"14.00\" text-anchor=\"middle\" x=\"218\" y=\"-446.3\">input:</text>\n<polyline fill=\"none\" points=\"189,-438.5 247,-438.5 \" stroke=\"#000000\"/>\n<text fill=\"#000000\" font-family=\"Times,serif\" font-size=\"14.00\" text-anchor=\"middle\" x=\"218\" y=\"-423.3\">output:</text>\n<polyline fill=\"none\" points=\"247,-415.5 247,-461.5 \" stroke=\"#000000\"/>\n<text fill=\"#000000\" font-family=\"Times,serif\" font-size=\"14.00\" text-anchor=\"middle\" x=\"290.5\" y=\"-446.3\">(None, 512)</text>\n<polyline fill=\"none\" points=\"247,-438.5 334,-438.5 \" stroke=\"#000000\"/>\n<text fill=\"#000000\" font-family=\"Times,serif\" font-size=\"14.00\" text-anchor=\"middle\" x=\"290.5\" y=\"-423.3\">(None, 512)</text>\n</g>\n<!-- 139851070557968&#45;&gt;139852461860688 -->\n<g class=\"edge\" id=\"edge32\">\n<title>139851070557968-&gt;139852461860688</title>\n<path d=\"M223,-498.3799C223,-490.1745 223,-480.7679 223,-471.8786\" fill=\"none\" stroke=\"#000000\"/>\n<polygon fill=\"#000000\" points=\"226.5001,-471.784 223,-461.784 219.5001,-471.784 226.5001,-471.784\" stroke=\"#000000\"/>\n</g>\n<!-- 139852458882896 -->\n<g class=\"node\" id=\"node34\">\n<title>139852458882896</title>\n<polygon fill=\"none\" points=\"11.5,-332.5 11.5,-378.5 434.5,-378.5 434.5,-332.5 11.5,-332.5\" stroke=\"#000000\"/>\n<text fill=\"#000000\" font-family=\"Times,serif\" font-size=\"14.00\" text-anchor=\"middle\" x=\"150.5\" y=\"-351.8\">batch_normalization_15: BatchNormalization</text>\n<polyline fill=\"none\" points=\"289.5,-332.5 289.5,-378.5 \" stroke=\"#000000\"/>\n<text fill=\"#000000\" font-family=\"Times,serif\" font-size=\"14.00\" text-anchor=\"middle\" x=\"318.5\" y=\"-363.3\">input:</text>\n<polyline fill=\"none\" points=\"289.5,-355.5 347.5,-355.5 \" stroke=\"#000000\"/>\n<text fill=\"#000000\" font-family=\"Times,serif\" font-size=\"14.00\" text-anchor=\"middle\" x=\"318.5\" y=\"-340.3\">output:</text>\n<polyline fill=\"none\" points=\"347.5,-332.5 347.5,-378.5 \" stroke=\"#000000\"/>\n<text fill=\"#000000\" font-family=\"Times,serif\" font-size=\"14.00\" text-anchor=\"middle\" x=\"391\" y=\"-363.3\">(None, 512)</text>\n<polyline fill=\"none\" points=\"347.5,-355.5 434.5,-355.5 \" stroke=\"#000000\"/>\n<text fill=\"#000000\" font-family=\"Times,serif\" font-size=\"14.00\" text-anchor=\"middle\" x=\"391\" y=\"-340.3\">(None, 512)</text>\n</g>\n<!-- 139852461860688&#45;&gt;139852458882896 -->\n<g class=\"edge\" id=\"edge33\">\n<title>139852461860688-&gt;139852458882896</title>\n<path d=\"M223,-415.3799C223,-407.1745 223,-397.7679 223,-388.8786\" fill=\"none\" stroke=\"#000000\"/>\n<polygon fill=\"#000000\" points=\"226.5001,-388.784 223,-378.784 219.5001,-388.784 226.5001,-388.784\" stroke=\"#000000\"/>\n</g>\n<!-- 139851068982160 -->\n<g class=\"node\" id=\"node35\">\n<title>139851068982160</title>\n<polygon fill=\"none\" points=\"88,-249.5 88,-295.5 358,-295.5 358,-249.5 88,-249.5\" stroke=\"#000000\"/>\n<text fill=\"#000000\" font-family=\"Times,serif\" font-size=\"14.00\" text-anchor=\"middle\" x=\"150.5\" y=\"-268.8\">fc2_act: Activation</text>\n<polyline fill=\"none\" points=\"213,-249.5 213,-295.5 \" stroke=\"#000000\"/>\n<text fill=\"#000000\" font-family=\"Times,serif\" font-size=\"14.00\" text-anchor=\"middle\" x=\"242\" y=\"-280.3\">input:</text>\n<polyline fill=\"none\" points=\"213,-272.5 271,-272.5 \" stroke=\"#000000\"/>\n<text fill=\"#000000\" font-family=\"Times,serif\" font-size=\"14.00\" text-anchor=\"middle\" x=\"242\" y=\"-257.3\">output:</text>\n<polyline fill=\"none\" points=\"271,-249.5 271,-295.5 \" stroke=\"#000000\"/>\n<text fill=\"#000000\" font-family=\"Times,serif\" font-size=\"14.00\" text-anchor=\"middle\" x=\"314.5\" y=\"-280.3\">(None, 512)</text>\n<polyline fill=\"none\" points=\"271,-272.5 358,-272.5 \" stroke=\"#000000\"/>\n<text fill=\"#000000\" font-family=\"Times,serif\" font-size=\"14.00\" text-anchor=\"middle\" x=\"314.5\" y=\"-257.3\">(None, 512)</text>\n</g>\n<!-- 139852458882896&#45;&gt;139851068982160 -->\n<g class=\"edge\" id=\"edge34\">\n<title>139852458882896-&gt;139851068982160</title>\n<path d=\"M223,-332.3799C223,-324.1745 223,-314.7679 223,-305.8786\" fill=\"none\" stroke=\"#000000\"/>\n<polygon fill=\"#000000\" points=\"226.5001,-305.784 223,-295.784 219.5001,-305.784 226.5001,-305.784\" stroke=\"#000000\"/>\n</g>\n<!-- 139852758670416 -->\n<g class=\"node\" id=\"node36\">\n<title>139852758670416</title>\n<polygon fill=\"none\" points=\"78.5,-166.5 78.5,-212.5 367.5,-212.5 367.5,-166.5 78.5,-166.5\" stroke=\"#000000\"/>\n<text fill=\"#000000\" font-family=\"Times,serif\" font-size=\"14.00\" text-anchor=\"middle\" x=\"150.5\" y=\"-185.8\">fc2_dropout: Dropout</text>\n<polyline fill=\"none\" points=\"222.5,-166.5 222.5,-212.5 \" stroke=\"#000000\"/>\n<text fill=\"#000000\" font-family=\"Times,serif\" font-size=\"14.00\" text-anchor=\"middle\" x=\"251.5\" y=\"-197.3\">input:</text>\n<polyline fill=\"none\" points=\"222.5,-189.5 280.5,-189.5 \" stroke=\"#000000\"/>\n<text fill=\"#000000\" font-family=\"Times,serif\" font-size=\"14.00\" text-anchor=\"middle\" x=\"251.5\" y=\"-174.3\">output:</text>\n<polyline fill=\"none\" points=\"280.5,-166.5 280.5,-212.5 \" stroke=\"#000000\"/>\n<text fill=\"#000000\" font-family=\"Times,serif\" font-size=\"14.00\" text-anchor=\"middle\" x=\"324\" y=\"-197.3\">(None, 512)</text>\n<polyline fill=\"none\" points=\"280.5,-189.5 367.5,-189.5 \" stroke=\"#000000\"/>\n<text fill=\"#000000\" font-family=\"Times,serif\" font-size=\"14.00\" text-anchor=\"middle\" x=\"324\" y=\"-174.3\">(None, 512)</text>\n</g>\n<!-- 139851068982160&#45;&gt;139852758670416 -->\n<g class=\"edge\" id=\"edge35\">\n<title>139851068982160-&gt;139852758670416</title>\n<path d=\"M223,-249.3799C223,-241.1745 223,-231.7679 223,-222.8786\" fill=\"none\" stroke=\"#000000\"/>\n<polygon fill=\"#000000\" points=\"226.5001,-222.784 223,-212.784 219.5001,-222.784 226.5001,-222.784\" stroke=\"#000000\"/>\n</g>\n<!-- 139852773927952 -->\n<g class=\"node\" id=\"node37\">\n<title>139852773927952</title>\n<polygon fill=\"none\" points=\"112,-83.5 112,-129.5 334,-129.5 334,-83.5 112,-83.5\" stroke=\"#000000\"/>\n<text fill=\"#000000\" font-family=\"Times,serif\" font-size=\"14.00\" text-anchor=\"middle\" x=\"150.5\" y=\"-102.8\">fc3: Dense</text>\n<polyline fill=\"none\" points=\"189,-83.5 189,-129.5 \" stroke=\"#000000\"/>\n<text fill=\"#000000\" font-family=\"Times,serif\" font-size=\"14.00\" text-anchor=\"middle\" x=\"218\" y=\"-114.3\">input:</text>\n<polyline fill=\"none\" points=\"189,-106.5 247,-106.5 \" stroke=\"#000000\"/>\n<text fill=\"#000000\" font-family=\"Times,serif\" font-size=\"14.00\" text-anchor=\"middle\" x=\"218\" y=\"-91.3\">output:</text>\n<polyline fill=\"none\" points=\"247,-83.5 247,-129.5 \" stroke=\"#000000\"/>\n<text fill=\"#000000\" font-family=\"Times,serif\" font-size=\"14.00\" text-anchor=\"middle\" x=\"290.5\" y=\"-114.3\">(None, 512)</text>\n<polyline fill=\"none\" points=\"247,-106.5 334,-106.5 \" stroke=\"#000000\"/>\n<text fill=\"#000000\" font-family=\"Times,serif\" font-size=\"14.00\" text-anchor=\"middle\" x=\"290.5\" y=\"-91.3\">(None, 100)</text>\n</g>\n<!-- 139852758670416&#45;&gt;139852773927952 -->\n<g class=\"edge\" id=\"edge36\">\n<title>139852758670416-&gt;139852773927952</title>\n<path d=\"M223,-166.3799C223,-158.1745 223,-148.7679 223,-139.8786\" fill=\"none\" stroke=\"#000000\"/>\n<polygon fill=\"#000000\" points=\"226.5001,-139.784 223,-129.784 219.5001,-139.784 226.5001,-139.784\" stroke=\"#000000\"/>\n</g>\n<!-- 139852460759376 -->\n<g class=\"node\" id=\"node38\">\n<title>139852460759376</title>\n<polygon fill=\"none\" points=\"86,-.5 86,-46.5 360,-46.5 360,-.5 86,-.5\" stroke=\"#000000\"/>\n<text fill=\"#000000\" font-family=\"Times,serif\" font-size=\"14.00\" text-anchor=\"middle\" x=\"150.5\" y=\"-19.8\">softmax: Activation</text>\n<polyline fill=\"none\" points=\"215,-.5 215,-46.5 \" stroke=\"#000000\"/>\n<text fill=\"#000000\" font-family=\"Times,serif\" font-size=\"14.00\" text-anchor=\"middle\" x=\"244\" y=\"-31.3\">input:</text>\n<polyline fill=\"none\" points=\"215,-23.5 273,-23.5 \" stroke=\"#000000\"/>\n<text fill=\"#000000\" font-family=\"Times,serif\" font-size=\"14.00\" text-anchor=\"middle\" x=\"244\" y=\"-8.3\">output:</text>\n<polyline fill=\"none\" points=\"273,-.5 273,-46.5 \" stroke=\"#000000\"/>\n<text fill=\"#000000\" font-family=\"Times,serif\" font-size=\"14.00\" text-anchor=\"middle\" x=\"316.5\" y=\"-31.3\">(None, 100)</text>\n<polyline fill=\"none\" points=\"273,-23.5 360,-23.5 \" stroke=\"#000000\"/>\n<text fill=\"#000000\" font-family=\"Times,serif\" font-size=\"14.00\" text-anchor=\"middle\" x=\"316.5\" y=\"-8.3\">(None, 100)</text>\n</g>\n<!-- 139852773927952&#45;&gt;139852460759376 -->\n<g class=\"edge\" id=\"edge37\">\n<title>139852773927952-&gt;139852460759376</title>\n<path d=\"M223,-83.3799C223,-75.1745 223,-65.7679 223,-56.8786\" fill=\"none\" stroke=\"#000000\"/>\n<polygon fill=\"#000000\" points=\"226.5001,-56.784 223,-46.784 219.5001,-56.784 226.5001,-56.784\" stroke=\"#000000\"/>\n</g>\n</g>\n</svg>"
          },
          "metadata": {
            "tags": []
          },
          "execution_count": 22
        }
      ]
    },
    {
      "cell_type": "code",
      "metadata": {
        "colab": {
          "base_uri": "https://localhost:8080/",
          "height": 573
        },
        "id": "klMpJ2w1m9xm",
        "outputId": "547cc578-64c9-4e74-9700-d40b96d7941d"
      },
      "source": [
        "import matplotlib.pyplot as plt\n",
        "\n",
        "# history = model.fit(x, y, validation_split=0.25, epochs=50, batch_size=16, verbose=1)\n",
        "\n",
        "# 绘制训练 & 验证的准确率值\n",
        "plt.plot(history.history['accuracy'])\n",
        "plt.plot(history.history['val_accuracy'])\n",
        "plt.title('Model accuracy')\n",
        "plt.ylabel('Accuracy')\n",
        "plt.xlabel('Epoch')\n",
        "plt.legend(['Train', 'Test'], loc='upper left')\n",
        "plt.show()\n",
        "\n",
        "# 绘制训练 & 验证的损失值\n",
        "plt.plot(history.history['loss'])\n",
        "plt.plot(history.history['val_loss'])\n",
        "plt.title('Model loss')\n",
        "plt.ylabel('Loss')\n",
        "plt.xlabel('Epoch')\n",
        "plt.legend(['Train', 'Test'], loc='upper left')\n",
        "plt.show()"
      ],
      "execution_count": 24,
      "outputs": [
        {
          "output_type": "display_data",
          "data": {
            "image/png": "[encoded data removed]",
            "text/plain": [
              "<Figure size 432x288 with 1 Axes>"
            ]
          },
          "metadata": {
            "tags": [],
            "needs_background": "light"
          }
        },
        {
          "output_type": "display_data",
          "data": {
            "image/png": "[encoded data removed]",
            "text/plain": [
              "<Figure size 432x288 with 1 Axes>"
            ]
          },
          "metadata": {
            "tags": [],
            "needs_background": "light"
          }
        }
      ]
    }
  ]
}