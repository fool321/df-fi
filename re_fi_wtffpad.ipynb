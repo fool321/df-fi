{
  "nbformat": 4,
  "nbformat_minor": 0,
  "metadata": {
    "colab": {
      "name": "Re_Fi_WTFFPAD_test.ipynb",
      "provenance": [],
      "collapsed_sections": [],
      "machine_shape": "hm",
      "authorship_tag": "ABX9TyNj93LBUc3bkmRR1VuU3W1p",
      "include_colab_link": true
    },
    "kernelspec": {
      "name": "python3",
      "display_name": "Python 3"
    },
    "language_info": {
      "name": "python"
    },
    "accelerator": "GPU"
  },
  "cells": [
    {
      "cell_type": "markdown",
      "metadata": {
        "id": "view-in-github",
        "colab_type": "text"
      },
      "source": [
        "<a href=\"https://colab.research.google.com/gist/fool321/e44d8dc6b743a58b4ce7ad9c1773da25/re_fi_wtffpad_test.ipynb\" target=\"_parent\"><img src=\"https://colab.research.google.com/assets/colab-badge.svg\" alt=\"Open In Colab\"/></a>"
      ]
    },
    {
      "cell_type": "markdown",
      "metadata": {
        "id": "f-s8BbnBjUNa"
      },
      "source": [
        "# Re_Fi_WTFFPAD\n",
        "This notebook divided into 3 part:\n",
        "1. Data Load\n",
        "2. Model Build\n",
        "3. Model Evaluation\n",
        "\n"
      ]
    },
    {
      "cell_type": "markdown",
      "metadata": {
        "id": "OcRMY7DsjUNe"
      },
      "source": [
        "## Data Load \n",
        "Load data from WTF-PAD dataset"
      ]
    },
    {
      "cell_type": "markdown",
      "metadata": {
        "id": "T42XQDh_jUNe"
      },
      "source": [
        "### mount data"
      ]
    },
    {
      "cell_type": "code",
      "metadata": {
        "colab": {
          "base_uri": "https://localhost:8080/"
        },
        "id": "62rRhPlgjUNe",
        "outputId": "c302c066-8c23-4235-a34a-d12f435b328f"
      },
      "source": [
        "# mount data\n",
        "from google.colab import drive\n",
        "import os,sys\n",
        "drive.mount('/content/drive/',force_remount=\"True\")"
      ],
      "execution_count": 1,
      "outputs": [
        {
          "output_type": "stream",
          "text": [
            "Mounted at /content/drive/\n"
          ],
          "name": "stdout"
        }
      ]
    },
    {
      "cell_type": "code",
      "metadata": {
        "id": "2uRUXATzjUNe"
      },
      "source": [
        "# according to the path of data file\n",
        "os.chdir('drive/MyDrive/df-fi/')\n",
        "os.chdir('df-fi/src')\n",
        "sys.path.append('/content/drive/My Drive/df-fi/df-fi/src')"
      ],
      "execution_count": 2,
      "outputs": []
    },
    {
      "cell_type": "code",
      "metadata": {
        "colab": {
          "base_uri": "https://localhost:8080/",
          "height": 35
        },
        "id": "Cv4JximhjUNf",
        "outputId": "270a7996-144a-4da1-884b-e808a3b2a8d6"
      },
      "source": [
        "%pwd"
      ],
      "execution_count": 3,
      "outputs": [
        {
          "output_type": "execute_result",
          "data": {
            "application/vnd.google.colaboratory.intrinsic+json": {
              "type": "string"
            },
            "text/plain": [
              "'/content/drive/MyDrive/df-fi/df-fi/src'"
            ]
          },
          "metadata": {
            "tags": []
          },
          "execution_count": 3
        }
      ]
    },
    {
      "cell_type": "markdown",
      "metadata": {
        "id": "EeMks5xejUNf"
      },
      "source": [
        "### Load data"
      ]
    },
    {
      "cell_type": "code",
      "metadata": {
        "id": "532nVLxGjUNf"
      },
      "source": [
        "from keras import backend as K\n",
        "from Model_NoDef import DFNet\n",
        "import random,os\n",
        "from keras.utils import np_utils\n",
        "from keras.optimizers import Adamax\n",
        "import numpy as np\n",
        "import pickle as pickle\n",
        "from keras.applications.resnet50 import ResNet50\n",
        "from keras.preprocessing import image\n",
        "from keras.applications.resnet50 import preprocess_input, decode_predictions"
      ],
      "execution_count": 5,
      "outputs": []
    },
    {
      "cell_type": "code",
      "metadata": {
        "id": "8LH31mfKjUNf"
      },
      "source": [
        "def LoadDataWTFPADCW_py3():\n",
        "\n",
        "    print(\"Loading WTF-PAD dataset for closed-world scenario\")\n",
        "    # Point to the directory storing data\n",
        "    dataset_dir = '../../../di-fi-data/data/WTFPAD/'\n",
        "\n",
        "    # X represents a sequence of traffic directions\n",
        "    # y represents a sequence of corresponding label (website's label)\n",
        "\n",
        "    # Load training data\n",
        "    with open(dataset_dir + 'X_train_WTFPAD.pkl', 'rb') as handle:\n",
        "        X_train = np.array(pickle.load(handle,encoding='bytes'))\n",
        "    with open(dataset_dir + 'y_train_WTFPAD.pkl', 'rb') as handle:\n",
        "        y_train = np.array(pickle.load(handle,encoding='bytes'))\n",
        "\n",
        "    # Load validation data\n",
        "    with open(dataset_dir + 'X_valid_WTFPAD.pkl', 'rb') as handle:\n",
        "        X_valid = np.array(pickle.load(handle,encoding='bytes'))\n",
        "    with open(dataset_dir + 'y_valid_WTFPAD.pkl', 'rb') as handle:\n",
        "        y_valid = np.array(pickle.load(handle,encoding='bytes'))\n",
        "\n",
        "    # Load testing data\n",
        "    with open(dataset_dir + 'X_test_WTFPAD.pkl', 'rb') as handle:\n",
        "        X_test = np.array(pickle.load(handle,encoding='bytes'))\n",
        "    with open(dataset_dir + 'y_test_WTFPAD.pkl', 'rb') as handle:\n",
        "        y_test = np.array(pickle.load(handle,encoding='bytes'))\n",
        "\n",
        "    print(\"Data dimensions:\")\n",
        "    print(\"X: Training data's shape : \", X_train.shape)\n",
        "    print(\"y: Training data's shape : \", y_train.shape)\n",
        "    print(\"X: Validation data's shape : \", X_valid.shape)\n",
        "    print(\"y: Validation data's shape : \", y_valid.shape)\n",
        "    print(\"X: Testing data's shape : \", X_test.shape)\n",
        "    print(\"y: Testing data's shape : \", y_test.shape)\n",
        "\n",
        "    return X_train, y_train, X_valid, y_valid, X_test, y_test"
      ],
      "execution_count": 6,
      "outputs": []
    },
    {
      "cell_type": "code",
      "metadata": {
        "colab": {
          "base_uri": "https://localhost:8080/"
        },
        "id": "IMejQiR3jUNf",
        "outputId": "42016233-0dc4-4134-97ba-01da946834fd"
      },
      "source": [
        "random.seed(0)\n",
        "os.environ['TF_CPP_MIN_LOG_LEVEL'] = '3'\n",
        "\n",
        "description = \"Training and evaluating model for closed-world scenario on WTF-PAD dataset\"\n",
        "\n",
        "print(description)\n",
        "# Training the Re-Fi model\n",
        "\n",
        "BATCH_SIZE = 128 # Batch size\n",
        "VERBOSE = 2 # Output display mode\n",
        "LENGTH = 5000 # Packet sequence length\n",
        "OPTIMIZER = Adamax(learning_rate=0.002, beta_1=0.9, beta_2=0.999, epsilon=1e-08, decay=0.0) # Optimizer\n",
        "NB_CLASSES = 95 # number of outputs = number of classes\n",
        "INPUT_SHAPE = (LENGTH,1)\n",
        "\n",
        "NB_EPOCH = 40   # Number of training epoch\n",
        "print(\"Number of Epoch: \", NB_EPOCH)\n",
        "print(\"NB_CLASSES: \",NB_CLASSES)\n"
      ],
      "execution_count": 41,
      "outputs": [
        {
          "output_type": "stream",
          "text": [
            "Training and evaluating model for closed-world scenario on WTF-PAD dataset\n",
            "Number of Epoch:  40\n",
            "NB_CLASSES:  95\n"
          ],
          "name": "stdout"
        }
      ]
    },
    {
      "cell_type": "code",
      "metadata": {
        "colab": {
          "base_uri": "https://localhost:8080/"
        },
        "id": "kuZ3fplejUNg",
        "outputId": "92c04ea1-e22c-4e99-dcb7-1c6d1a9e4b63"
      },
      "source": [
        "# Data: shuffled and split between train and test sets\n",
        "print (\"Loading and preparing data for training, and evaluating the model\")\n",
        "X_train, y_train, X_valid, y_valid, X_test, y_test = LoadDataWTFPADCW_py3()"
      ],
      "execution_count": 8,
      "outputs": [
        {
          "output_type": "stream",
          "text": [
            "Loading and preparing data for training, and evaluating the model\n",
            "Loading WTF-PAD dataset for closed-world scenario\n",
            "Data dimensions:\n",
            "X: Training data's shape :  (76000, 5000)\n",
            "y: Training data's shape :  (76000,)\n",
            "X: Validation data's shape :  (9500, 5000)\n",
            "y: Validation data's shape :  (9500,)\n",
            "X: Testing data's shape :  (9500, 5000)\n",
            "y: Testing data's shape :  (9500,)\n"
          ],
          "name": "stdout"
        }
      ]
    },
    {
      "cell_type": "code",
      "metadata": {
        "colab": {
          "base_uri": "https://localhost:8080/"
        },
        "id": "lNWV2Dp3jUNg",
        "outputId": "b906f94d-1cbb-4130-d45d-42118508c8d4"
      },
      "source": [
        "print (\"number of training examples = \" + str(X_train.shape[0]))\n",
        "print (\"number of test examples = \" + str(X_test.shape[0]))\n",
        "print (\"X_train shape: \" + str(X_train.shape))\n",
        "print (\"Y_train shape: \" + str(y_train.shape))\n",
        "print (\"X_test shape: \" + str(X_test.shape))\n",
        "print (\"Y_test shape: \" + str(y_test.shape))"
      ],
      "execution_count": 9,
      "outputs": [
        {
          "output_type": "stream",
          "text": [
            "number of training examples = 76000\n",
            "number of test examples = 9500\n",
            "X_train shape: (76000, 5000)\n",
            "Y_train shape: (76000,)\n",
            "X_test shape: (9500, 5000)\n",
            "Y_test shape: (9500,)\n"
          ],
          "name": "stdout"
        }
      ]
    },
    {
      "cell_type": "code",
      "metadata": {
        "colab": {
          "base_uri": "https://localhost:8080/"
        },
        "id": "6zZZeND0jUNg",
        "outputId": "567246dc-9b9f-4caf-cade-86822e678b6a"
      },
      "source": [
        "# Convert data as float32 type\n",
        "X_train = X_train.astype('float32')\n",
        "X_valid = X_valid.astype('float32')\n",
        "X_test = X_test.astype('float32')\n",
        "y_train = y_train.astype('float32')\n",
        "y_valid = y_valid.astype('float32')\n",
        "y_test = y_test.astype('float32')\n",
        "\n",
        "# we need a [Length x 1] x n shape as input to the CNN (Tensorflow)\n",
        "X_train = X_train[:, :,np.newaxis]\n",
        "X_valid = X_valid[:, :,np.newaxis]\n",
        "X_test = X_test[:, :,np.newaxis]\n",
        "\n",
        "print((X_train.shape[0], 'train samples'))\n",
        "print((X_valid.shape[0], 'validation samples'))\n",
        "print((X_test.shape[0], 'test samples'))\n",
        "\n",
        "# Convert class vectors to categorical classes matrices\n",
        "y_train = np_utils.to_categorical(y_train, NB_CLASSES)\n",
        "y_valid = np_utils.to_categorical(y_valid, NB_CLASSES)\n",
        "y_test = np_utils.to_categorical(y_test, NB_CLASSES)\n",
        "\n",
        "# Building and training model\n",
        "print (\"Building and training model\")"
      ],
      "execution_count": 10,
      "outputs": [
        {
          "output_type": "stream",
          "text": [
            "(76000, 'train samples')\n",
            "(9500, 'validation samples')\n",
            "(9500, 'test samples')\n",
            "Building and training model\n"
          ],
          "name": "stdout"
        }
      ]
    },
    {
      "cell_type": "markdown",
      "metadata": {
        "id": "m_Hof0qSjUNg"
      },
      "source": [
        "## Model Build\n",
        "Re_Fi model for WTF-PAD dataset"
      ]
    },
    {
      "cell_type": "code",
      "metadata": {
        "id": "ND81HAKDjUNg"
      },
      "source": [
        "from keras.models import Sequential\n",
        "from keras.layers import Conv1D, MaxPooling1D, BatchNormalization,Layer,GlobalAvgPool1D\n",
        "from keras.layers.core import Activation, Flatten, Dense, Dropout\n",
        "from keras.layers.advanced_activations import ELU\n",
        "from keras.initializers import glorot_uniform\n",
        "import tensorflow as tf\n",
        "\n",
        "\n",
        "class Residual(tf.keras.Model): \n",
        "  \n",
        "    def __init__(self, num_channels, use_1x1conv=False, strides=1):\n",
        "        super().__init__()\n",
        "        kernel_size = 3\n",
        "        self.conv1 = Conv1D(num_channels, padding='same',\n",
        "                                            kernel_size=kernel_size, strides=strides)\n",
        "        self.conv2 = Conv1D(num_channels, kernel_size=kernel_size,\n",
        "                                            padding='same')\n",
        "        self.conv3 = None\n",
        "        if use_1x1conv:\n",
        "            self.conv3 = Conv1D(num_channels, kernel_size=1,\n",
        "                                                strides=strides)\n",
        "        self.bn1 = BatchNormalization(axis=-1)\n",
        "        self.bn2 = BatchNormalization(axis=-1)\n",
        "\n",
        "    def call(self, X):\n",
        "        Y = tf.keras.activations.relu(self.bn1(self.conv1(X)))\n",
        "        Y = self.bn2(self.conv2(Y))\n",
        "        if self.conv3 is not None:\n",
        "            X = self.conv3(X)\n",
        "        Y += X\n",
        "        return tf.keras.activations.relu(Y)\n",
        "\n",
        "class ResnetBlock(Layer):\n",
        "    def __init__(self, num_channels, num_residuals, first_block=False,\n",
        "                  **kwargs):\n",
        "        super(ResnetBlock, self).__init__(**kwargs)\n",
        "        self.residual_layers = []\n",
        "        for i in range(num_residuals):\n",
        "            if i == 0 and not first_block:\n",
        "                self.residual_layers.append(\n",
        "                    Residual(num_channels, use_1x1conv=True, strides=2))\n",
        "            else:\n",
        "                self.residual_layers.append(Residual(num_channels))\n",
        "\n",
        "    def call(self, X):\n",
        "        for layer in self.residual_layers.layers:\n",
        "            X = layer(X)\n",
        "        return X\n",
        "\n"
      ],
      "execution_count": 11,
      "outputs": []
    },
    {
      "cell_type": "code",
      "metadata": {
        "id": "CBjWOM3hAzJj"
      },
      "source": [
        "class resNet:\n",
        "    def build(input_shape, classes):\n",
        "        model = Sequential()\n",
        "\n",
        "        filter_num = ['None', 32, 64, 128, 256] # 输出通道\n",
        "        kernel_size = ['None', 8, 8, 8, 8] # 卷积层大小\n",
        "        conv_stride_size = ['None', 1, 1, 1, 1] # 步幅\n",
        "        pool_stride_size = ['None', 4, 4, 4, 4]\n",
        "        pool_size = ['None', 8, 8, 8, 8]\n",
        "\n",
        "        # Block1\n",
        "        model.add(Conv1D(filters=filter_num[1], kernel_size=kernel_size[1], input_shape=input_shape,\n",
        "                         strides=conv_stride_size[1], padding='same',\n",
        "                         name='block1_conv1'))\n",
        "        model.add(BatchNormalization(axis=-1))\n",
        "        model.add(ELU(alpha=1.0, name='block1_adv_act1'))\n",
        "        model.add(Conv1D(filters=filter_num[1], kernel_size=kernel_size[1],\n",
        "                         strides=conv_stride_size[1], padding='same',\n",
        "                         name='block1_conv2'))\n",
        "        model.add(BatchNormalization(axis=-1))\n",
        "        model.add(ELU(alpha=1.0, name='block1_adv_act2'))\n",
        "        model.add(MaxPooling1D(pool_size=pool_size[1], strides=pool_stride_size[1],\n",
        "                               padding='same', name='block1_pool'))\n",
        "        model.add(Dropout(0.1, name='block1_dropout'))\n",
        "\n",
        "\n",
        "        # block2\n",
        "        model.add(Conv1D(filters=filter_num[2], kernel_size=kernel_size[2],\n",
        "                         strides=conv_stride_size[2], padding='same',\n",
        "                         name='block2_conv1'))\n",
        "        model.add(BatchNormalization())\n",
        "        model.add(Activation('relu', name='block2_act1'))\n",
        "\n",
        "        model.add(Conv1D(filters=filter_num[2], kernel_size=kernel_size[2],\n",
        "                         strides=conv_stride_size[2], padding='same',\n",
        "                         name='block2_conv2'))\n",
        "        model.add(BatchNormalization())\n",
        "        model.add(Activation('relu', name='block2_act2'))\n",
        "        model.add(MaxPooling1D(pool_size=pool_size[2], strides=pool_stride_size[3],\n",
        "                               padding='same', name='block2_pool'))\n",
        "        model.add(Dropout(0.1, name='block2_dropout'))\n",
        "        \n",
        "\n",
        "        # block3\n",
        "        model.add(Conv1D(filters=filter_num[3], kernel_size=kernel_size[2],\n",
        "                         strides=conv_stride_size[2], padding='same',\n",
        "                         name='block3_conv1'))\n",
        "        model.add(BatchNormalization())\n",
        "        model.add(Activation('relu', name='block3_act1'))\n",
        "\n",
        "        model.add(Conv1D(filters=filter_num[3], kernel_size=kernel_size[2],\n",
        "                         strides=conv_stride_size[2], padding='same',\n",
        "                         name='block3_conv2'))\n",
        "        model.add(BatchNormalization())\n",
        "        model.add(Activation('relu', name='block3_act2'))\n",
        "        model.add(MaxPooling1D(pool_size=pool_size[3], strides=pool_stride_size[3],\n",
        "                               padding='same', name='block3_pool'))\n",
        "        model.add(Dropout(0.1, name='block3_dropout'))\n",
        "\n",
        "        # block4\n",
        "        model.add(Conv1D(filters=filter_num[4], kernel_size=kernel_size[2],\n",
        "                         strides=conv_stride_size[2], padding='same',\n",
        "                         name='block4_conv1'))\n",
        "        model.add(BatchNormalization())\n",
        "        model.add(Activation('relu', name='block4_act1'))\n",
        "\n",
        "        model.add(Conv1D(filters=filter_num[4], kernel_size=kernel_size[2],\n",
        "                         strides=conv_stride_size[2], padding='same',\n",
        "                         name='block4_conv2'))\n",
        "        model.add(BatchNormalization())\n",
        "        model.add(Activation('relu', name='block4_act2'))\n",
        "        model.add(MaxPooling1D(pool_size=pool_size[3], strides=pool_stride_size[3],\n",
        "                               padding='same', name='block4_pool'))\n",
        "        model.add(Dropout(0.1, name='block4_dropout'))\n",
        "\n",
        "        # resnet\n",
        "\n",
        "        model.add(ResnetBlock(256, 2, first_block=True))\n",
        "        model.add(Dropout(0.2, name='res1_dropout'))\n",
        "\n",
        "        model.add(ResnetBlock(512, 2))\n",
        "        model.add(Dropout(0.2, name='res2_dropout'))\n",
        "\n",
        "        # time1 fully connected\n",
        "        model.add(GlobalAvgPool1D())\n",
        "        model.add(Flatten(name='flatten'))\n",
        "\n",
        "        model.add(Dense(512, kernel_initializer=glorot_uniform(seed=0), name='fc1'))\n",
        "        model.add(BatchNormalization())\n",
        "        model.add(Activation('relu', name='fc1_act'))\n",
        "        model.add(Dropout(0.7, name='fc1_dropout'))\n",
        "\n",
        "        # time2\n",
        "        model.add(Dense(512, kernel_initializer=glorot_uniform(seed=0), name='fc2'))\n",
        "        model.add(BatchNormalization())\n",
        "        model.add(Activation('relu', name='fc2_act'))\n",
        "        model.add(Dropout(0.5, name='fc2_dropout'))\n",
        "\n",
        "        # prediction\n",
        "        model.add(Dense(classes, kernel_initializer=glorot_uniform(seed=0), name='fc3'))\n",
        "        model.add(Activation('softmax', name=\"softmax\"))\n",
        "        return model\n"
      ],
      "execution_count": 47,
      "outputs": []
    },
    {
      "cell_type": "markdown",
      "metadata": {
        "id": "9Ri2WmP8jUNh"
      },
      "source": [
        "build model"
      ]
    },
    {
      "cell_type": "code",
      "metadata": {
        "colab": {
          "base_uri": "https://localhost:8080/"
        },
        "id": "qNuvYPhIjUNh",
        "outputId": "9190efc1-8ed0-4fab-f6bb-f5517effa6da"
      },
      "source": [
        "model = resNet.build(input_shape=INPUT_SHAPE, classes=NB_CLASSES)\n",
        "model.summary()"
      ],
      "execution_count": 48,
      "outputs": [
        {
          "output_type": "stream",
          "text": [
            "Model: \"sequential_9\"\n",
            "_________________________________________________________________\n",
            "Layer (type)                 Output Shape              Param #   \n",
            "=================================================================\n",
            "block1_conv1 (Conv1D)        (None, 5000, 32)          288       \n",
            "_________________________________________________________________\n",
            "batch_normalization_154 (Bat (None, 5000, 32)          128       \n",
            "_________________________________________________________________\n",
            "block1_adv_act1 (ELU)        (None, 5000, 32)          0         \n",
            "_________________________________________________________________\n",
            "block1_conv2 (Conv1D)        (None, 5000, 32)          8224      \n",
            "_________________________________________________________________\n",
            "batch_normalization_155 (Bat (None, 5000, 32)          128       \n",
            "_________________________________________________________________\n",
            "block1_adv_act2 (ELU)        (None, 5000, 32)          0         \n",
            "_________________________________________________________________\n",
            "block1_pool (MaxPooling1D)   (None, 1250, 32)          0         \n",
            "_________________________________________________________________\n",
            "block1_dropout (Dropout)     (None, 1250, 32)          0         \n",
            "_________________________________________________________________\n",
            "block2_conv1 (Conv1D)        (None, 1250, 64)          16448     \n",
            "_________________________________________________________________\n",
            "batch_normalization_156 (Bat (None, 1250, 64)          256       \n",
            "_________________________________________________________________\n",
            "block2_act1 (Activation)     (None, 1250, 64)          0         \n",
            "_________________________________________________________________\n",
            "block2_conv2 (Conv1D)        (None, 1250, 64)          32832     \n",
            "_________________________________________________________________\n",
            "batch_normalization_157 (Bat (None, 1250, 64)          256       \n",
            "_________________________________________________________________\n",
            "block2_act2 (Activation)     (None, 1250, 64)          0         \n",
            "_________________________________________________________________\n",
            "block2_pool (MaxPooling1D)   (None, 313, 64)           0         \n",
            "_________________________________________________________________\n",
            "block2_dropout (Dropout)     (None, 313, 64)           0         \n",
            "_________________________________________________________________\n",
            "block3_conv1 (Conv1D)        (None, 313, 128)          65664     \n",
            "_________________________________________________________________\n",
            "batch_normalization_158 (Bat (None, 313, 128)          512       \n",
            "_________________________________________________________________\n",
            "block3_act1 (Activation)     (None, 313, 128)          0         \n",
            "_________________________________________________________________\n",
            "block3_conv2 (Conv1D)        (None, 313, 128)          131200    \n",
            "_________________________________________________________________\n",
            "batch_normalization_159 (Bat (None, 313, 128)          512       \n",
            "_________________________________________________________________\n",
            "block3_act2 (Activation)     (None, 313, 128)          0         \n",
            "_________________________________________________________________\n",
            "block3_pool (MaxPooling1D)   (None, 79, 128)           0         \n",
            "_________________________________________________________________\n",
            "block3_dropout (Dropout)     (None, 79, 128)           0         \n",
            "_________________________________________________________________\n",
            "block4_conv1 (Conv1D)        (None, 79, 256)           262400    \n",
            "_________________________________________________________________\n",
            "batch_normalization_160 (Bat (None, 79, 256)           1024      \n",
            "_________________________________________________________________\n",
            "block4_act1 (Activation)     (None, 79, 256)           0         \n",
            "_________________________________________________________________\n",
            "block4_conv2 (Conv1D)        (None, 79, 256)           524544    \n",
            "_________________________________________________________________\n",
            "batch_normalization_161 (Bat (None, 79, 256)           1024      \n",
            "_________________________________________________________________\n",
            "block4_act2 (Activation)     (None, 79, 256)           0         \n",
            "_________________________________________________________________\n",
            "block4_pool (MaxPooling1D)   (None, 20, 256)           0         \n",
            "_________________________________________________________________\n",
            "block4_dropout (Dropout)     (None, 20, 256)           0         \n",
            "_________________________________________________________________\n",
            "resnet_block_22 (ResnetBlock (None, 20, 256)           791552    \n",
            "_________________________________________________________________\n",
            "res1_dropout (Dropout)       (None, 20, 256)           0         \n",
            "_________________________________________________________________\n",
            "resnet_block_23 (ResnetBlock (None, 10, 512)           2894336   \n",
            "_________________________________________________________________\n",
            "res2_dropout (Dropout)       (None, 10, 512)           0         \n",
            "_________________________________________________________________\n",
            "global_average_pooling1d_4 ( (None, 512)               0         \n",
            "_________________________________________________________________\n",
            "flatten (Flatten)            (None, 512)               0         \n",
            "_________________________________________________________________\n",
            "fc1 (Dense)                  (None, 512)               262656    \n",
            "_________________________________________________________________\n",
            "batch_normalization_170 (Bat (None, 512)               2048      \n",
            "_________________________________________________________________\n",
            "fc1_act (Activation)         (None, 512)               0         \n",
            "_________________________________________________________________\n",
            "fc1_dropout (Dropout)        (None, 512)               0         \n",
            "_________________________________________________________________\n",
            "fc2 (Dense)                  (None, 512)               262656    \n",
            "_________________________________________________________________\n",
            "batch_normalization_171 (Bat (None, 512)               2048      \n",
            "_________________________________________________________________\n",
            "fc2_act (Activation)         (None, 512)               0         \n",
            "_________________________________________________________________\n",
            "fc2_dropout (Dropout)        (None, 512)               0         \n",
            "_________________________________________________________________\n",
            "fc3 (Dense)                  (None, 95)                48735     \n",
            "_________________________________________________________________\n",
            "softmax (Activation)         (None, 95)                0         \n",
            "=================================================================\n",
            "Total params: 5,309,471\n",
            "Trainable params: 5,299,359\n",
            "Non-trainable params: 10,112\n",
            "_________________________________________________________________\n"
          ],
          "name": "stdout"
        }
      ]
    },
    {
      "cell_type": "markdown",
      "metadata": {
        "id": "HK6bFDCmjUNh"
      },
      "source": [
        "compile model"
      ]
    },
    {
      "cell_type": "code",
      "metadata": {
        "colab": {
          "base_uri": "https://localhost:8080/"
        },
        "id": "VtJKwvYMjUNi",
        "outputId": "fc55902d-54fb-4f60-fcff-1b1cb9e174ec"
      },
      "source": [
        "model.compile(loss=\"categorical_crossentropy\", optimizer=OPTIMIZER,\n",
        "\tmetrics=[\"accuracy\"])\n",
        "print (\"Model compiled\")"
      ],
      "execution_count": 49,
      "outputs": [
        {
          "output_type": "stream",
          "text": [
            "Model compiled\n"
          ],
          "name": "stdout"
        }
      ]
    },
    {
      "cell_type": "markdown",
      "metadata": {
        "id": "FGM7sVWHjUNi"
      },
      "source": [
        "Start training"
      ]
    },
    {
      "cell_type": "code",
      "metadata": {
        "colab": {
          "base_uri": "https://localhost:8080/"
        },
        "id": "l9IXotWijUNi",
        "outputId": "5cedd256-1c67-4897-fa69-19f35d9ee6b5"
      },
      "source": [
        "# Start training\n",
        "history = model.fit(X_train, y_train,\n",
        "\t\tbatch_size=BATCH_SIZE, epochs=NB_EPOCH,\n",
        "\t\tverbose=VERBOSE, validation_data=(X_valid, y_valid))\n",
        "\n",
        "# Start evaluating model with testing data\n",
        "score_test = model.evaluate(X_test, y_test, verbose=VERBOSE)\n",
        "print((\"Testing accuracy:\", score_test[1]))"
      ],
      "execution_count": 50,
      "outputs": [
        {
          "output_type": "stream",
          "text": [
            "Epoch 1/40\n",
            "594/594 - 68s - loss: 3.4046 - accuracy: 0.1407 - val_loss: 3.2222 - val_accuracy: 0.1488\n",
            "Epoch 2/40\n",
            "594/594 - 60s - loss: 2.0594 - accuracy: 0.4164 - val_loss: 1.2882 - val_accuracy: 0.6360\n",
            "Epoch 3/40\n",
            "594/594 - 60s - loss: 1.4433 - accuracy: 0.5968 - val_loss: 1.0485 - val_accuracy: 0.7189\n",
            "Epoch 4/40\n",
            "594/594 - 60s - loss: 1.1129 - accuracy: 0.6948 - val_loss: 0.9906 - val_accuracy: 0.7373\n",
            "Epoch 5/40\n",
            "594/594 - 60s - loss: 0.9027 - accuracy: 0.7575 - val_loss: 0.9112 - val_accuracy: 0.7551\n",
            "Epoch 6/40\n",
            "594/594 - 60s - loss: 0.7574 - accuracy: 0.7962 - val_loss: 0.5654 - val_accuracy: 0.8519\n",
            "Epoch 7/40\n",
            "594/594 - 60s - loss: 0.6664 - accuracy: 0.8232 - val_loss: 0.6746 - val_accuracy: 0.8247\n",
            "Epoch 8/40\n",
            "594/594 - 60s - loss: 0.5904 - accuracy: 0.8439 - val_loss: 0.5619 - val_accuracy: 0.8477\n",
            "Epoch 9/40\n",
            "594/594 - 60s - loss: 0.5361 - accuracy: 0.8591 - val_loss: 0.6872 - val_accuracy: 0.8252\n",
            "Epoch 10/40\n",
            "594/594 - 60s - loss: 0.4804 - accuracy: 0.8721 - val_loss: 0.5257 - val_accuracy: 0.8616\n",
            "Epoch 11/40\n",
            "594/594 - 60s - loss: 0.4483 - accuracy: 0.8805 - val_loss: 0.4488 - val_accuracy: 0.8797\n",
            "Epoch 12/40\n",
            "594/594 - 60s - loss: 0.4118 - accuracy: 0.8903 - val_loss: 0.4507 - val_accuracy: 0.8809\n",
            "Epoch 13/40\n",
            "594/594 - 60s - loss: 0.3848 - accuracy: 0.8975 - val_loss: 0.4231 - val_accuracy: 0.8925\n",
            "Epoch 14/40\n",
            "594/594 - 60s - loss: 0.3539 - accuracy: 0.9056 - val_loss: 0.4283 - val_accuracy: 0.8894\n",
            "Epoch 15/40\n",
            "594/594 - 60s - loss: 0.3320 - accuracy: 0.9103 - val_loss: 0.4330 - val_accuracy: 0.8944\n",
            "Epoch 16/40\n",
            "594/594 - 60s - loss: 0.3157 - accuracy: 0.9146 - val_loss: 0.4214 - val_accuracy: 0.8974\n",
            "Epoch 17/40\n",
            "594/594 - 60s - loss: 0.2898 - accuracy: 0.9220 - val_loss: 0.4900 - val_accuracy: 0.8834\n",
            "Epoch 18/40\n",
            "594/594 - 60s - loss: 0.2786 - accuracy: 0.9244 - val_loss: 0.4256 - val_accuracy: 0.8957\n",
            "Epoch 19/40\n",
            "594/594 - 60s - loss: 0.2566 - accuracy: 0.9310 - val_loss: 0.3835 - val_accuracy: 0.9074\n",
            "Epoch 20/40\n",
            "594/594 - 60s - loss: 0.2464 - accuracy: 0.9326 - val_loss: 0.4677 - val_accuracy: 0.8907\n",
            "Epoch 21/40\n",
            "594/594 - 60s - loss: 0.2363 - accuracy: 0.9359 - val_loss: 0.3965 - val_accuracy: 0.9063\n",
            "Epoch 22/40\n",
            "594/594 - 60s - loss: 0.2198 - accuracy: 0.9401 - val_loss: 0.4254 - val_accuracy: 0.9031\n",
            "Epoch 23/40\n",
            "594/594 - 60s - loss: 0.2140 - accuracy: 0.9413 - val_loss: 0.4072 - val_accuracy: 0.9068\n",
            "Epoch 24/40\n",
            "594/594 - 60s - loss: 0.2006 - accuracy: 0.9453 - val_loss: 0.4213 - val_accuracy: 0.9032\n",
            "Epoch 25/40\n",
            "594/594 - 60s - loss: 0.1924 - accuracy: 0.9473 - val_loss: 0.3932 - val_accuracy: 0.9098\n",
            "Epoch 26/40\n",
            "594/594 - 60s - loss: 0.1836 - accuracy: 0.9501 - val_loss: 0.4150 - val_accuracy: 0.9084\n",
            "Epoch 27/40\n",
            "594/594 - 60s - loss: 0.1759 - accuracy: 0.9523 - val_loss: 0.4379 - val_accuracy: 0.9048\n",
            "Epoch 28/40\n",
            "594/594 - 60s - loss: 0.1694 - accuracy: 0.9535 - val_loss: 0.4173 - val_accuracy: 0.9081\n",
            "Epoch 29/40\n",
            "594/594 - 60s - loss: 0.1595 - accuracy: 0.9559 - val_loss: 0.4083 - val_accuracy: 0.9115\n",
            "Epoch 30/40\n",
            "594/594 - 60s - loss: 0.1572 - accuracy: 0.9574 - val_loss: 0.4155 - val_accuracy: 0.9086\n",
            "Epoch 31/40\n",
            "594/594 - 60s - loss: 0.1470 - accuracy: 0.9590 - val_loss: 0.4229 - val_accuracy: 0.9085\n",
            "Epoch 32/40\n",
            "594/594 - 60s - loss: 0.1408 - accuracy: 0.9618 - val_loss: 0.4184 - val_accuracy: 0.9102\n",
            "Epoch 33/40\n",
            "594/594 - 60s - loss: 0.1397 - accuracy: 0.9617 - val_loss: 0.4364 - val_accuracy: 0.9099\n",
            "Epoch 34/40\n",
            "594/594 - 60s - loss: 0.1292 - accuracy: 0.9646 - val_loss: 0.4358 - val_accuracy: 0.9099\n",
            "Epoch 35/40\n",
            "594/594 - 60s - loss: 0.1285 - accuracy: 0.9654 - val_loss: 0.4250 - val_accuracy: 0.9114\n",
            "Epoch 36/40\n",
            "594/594 - 60s - loss: 0.1196 - accuracy: 0.9673 - val_loss: 0.4456 - val_accuracy: 0.9107\n",
            "Epoch 37/40\n",
            "594/594 - 60s - loss: 0.1179 - accuracy: 0.9674 - val_loss: 0.4477 - val_accuracy: 0.9101\n",
            "Epoch 38/40\n",
            "594/594 - 60s - loss: 0.1133 - accuracy: 0.9685 - val_loss: 0.4580 - val_accuracy: 0.9124\n",
            "Epoch 39/40\n",
            "594/594 - 60s - loss: 0.1100 - accuracy: 0.9699 - val_loss: 0.4290 - val_accuracy: 0.9165\n",
            "Epoch 40/40\n",
            "594/594 - 60s - loss: 0.1067 - accuracy: 0.9707 - val_loss: 0.4312 - val_accuracy: 0.9147\n",
            "297/297 - 3s - loss: 0.4312 - accuracy: 0.9147\n",
            "('Testing accuracy:', 0.9147368669509888)\n"
          ],
          "name": "stdout"
        }
      ]
    },
    {
      "cell_type": "markdown",
      "metadata": {
        "id": "ZKnRTqLejUNi"
      },
      "source": [
        "save model"
      ]
    },
    {
      "cell_type": "code",
      "metadata": {
        "id": "aCcG35kwjUNj",
        "colab": {
          "base_uri": "https://localhost:8080/"
        },
        "outputId": "611ce25c-f8f2-4555-879b-72e9993e2b44"
      },
      "source": [
        "# !mkdir -p saved_model\n",
        "model.save('saved_model/WTFPAD_model_up')"
      ],
      "execution_count": 51,
      "outputs": [
        {
          "output_type": "stream",
          "text": [
            "WARNING:absl:Found untraced functions such as conv1d_104_layer_call_and_return_conditional_losses, conv1d_104_layer_call_fn, conv1d_105_layer_call_and_return_conditional_losses, conv1d_105_layer_call_fn, conv1d_106_layer_call_and_return_conditional_losses while saving (showing 5 of 45). These functions will not be directly callable after loading.\n"
          ],
          "name": "stderr"
        },
        {
          "output_type": "stream",
          "text": [
            "INFO:tensorflow:Assets written to: saved_model/WTFPAD_model_up/assets\n"
          ],
          "name": "stdout"
        },
        {
          "output_type": "stream",
          "text": [
            "INFO:tensorflow:Assets written to: saved_model/WTFPAD_model_up/assets\n"
          ],
          "name": "stderr"
        }
      ]
    },
    {
      "cell_type": "markdown",
      "metadata": {
        "id": "Zz_pqQfDjUNj"
      },
      "source": [
        "## Model Evaluation"
      ]
    },
    {
      "cell_type": "code",
      "metadata": {
        "colab": {
          "base_uri": "https://localhost:8080/"
        },
        "id": "zJ2zcT1qm67h",
        "outputId": "1876fd16-5082-4528-a04f-cca8396c8bdb"
      },
      "source": [
        "# show GPU info\n",
        "! /opt/bin/nvidia-smi"
      ],
      "execution_count": null,
      "outputs": [
        {
          "output_type": "stream",
          "text": [
            "Thu Jun 17 04:45:26 2021       \n",
            "+-----------------------------------------------------------------------------+\n",
            "| NVIDIA-SMI 460.32.03    Driver Version: 460.32.03    CUDA Version: 11.2     |\n",
            "|-------------------------------+----------------------+----------------------+\n",
            "| GPU  Name        Persistence-M| Bus-Id        Disp.A | Volatile Uncorr. ECC |\n",
            "| Fan  Temp  Perf  Pwr:Usage/Cap|         Memory-Usage | GPU-Util  Compute M. |\n",
            "|                               |                      |               MIG M. |\n",
            "|===============================+======================+======================|\n",
            "|   0  Tesla V100-SXM2...  Off  | 00000000:00:04.0 Off |                    0 |\n",
            "| N/A   46C    P0    53W / 300W |   6967MiB / 16160MiB |      0%      Default |\n",
            "|                               |                      |                  N/A |\n",
            "+-------------------------------+----------------------+----------------------+\n",
            "                                                                               \n",
            "+-----------------------------------------------------------------------------+\n",
            "| Processes:                                                                  |\n",
            "|  GPU   GI   CI        PID   Type   Process name                  GPU Memory |\n",
            "|        ID   ID                                                   Usage      |\n",
            "|=============================================================================|\n",
            "+-----------------------------------------------------------------------------+\n"
          ],
          "name": "stdout"
        }
      ]
    },
    {
      "cell_type": "code",
      "metadata": {
        "id": "4Q5eMQECjUNj",
        "colab": {
          "base_uri": "https://localhost:8080/",
          "height": 1000
        },
        "outputId": "a043cec4-0af9-46e8-ed98-676775a96538"
      },
      "source": [
        "from IPython.display import SVG\n",
        "from keras.utils.vis_utils import model_to_dot\n",
        "\n",
        "SVG(model_to_dot(model, show_shapes= True, show_layer_names=True, dpi=65).create(prog='dot', format='svg'))\n"
      ],
      "execution_count": 52,
      "outputs": [
        {
          "output_type": "execute_result",
          "data": {
            "text/plain": [
              "<IPython.core.display.SVG object>"
            ],
            "image/svg+xml": "<svg height=\"3646pt\" viewBox=\"0.00 0.00 520.00 4039.00\" width=\"469pt\" xmlns=\"http://www.w3.org/2000/svg\" xmlns:xlink=\"http://www.w3.org/1999/xlink\">\n<g class=\"graph\" id=\"graph0\" transform=\"scale(.9028 .9028) rotate(0) translate(4 4035)\">\n<title>G</title>\n<polygon fill=\"#ffffff\" points=\"-4,4 -4,-4035 516,-4035 516,4 -4,4\" stroke=\"transparent\"/>\n<!-- 139829708356880 -->\n<g class=\"node\" id=\"node1\">\n<title>139829708356880</title>\n<polygon fill=\"none\" points=\"63,-3984.5 63,-4030.5 449,-4030.5 449,-3984.5 63,-3984.5\" stroke=\"#000000\"/>\n<text fill=\"#000000\" font-family=\"Times,serif\" font-size=\"14.00\" text-anchor=\"middle\" x=\"167.5\" y=\"-4003.8\">block1_conv1_input: InputLayer</text>\n<polyline fill=\"none\" points=\"272,-3984.5 272,-4030.5 \" stroke=\"#000000\"/>\n<text fill=\"#000000\" font-family=\"Times,serif\" font-size=\"14.00\" text-anchor=\"middle\" x=\"301\" y=\"-4015.3\">input:</text>\n<polyline fill=\"none\" points=\"272,-4007.5 330,-4007.5 \" stroke=\"#000000\"/>\n<text fill=\"#000000\" font-family=\"Times,serif\" font-size=\"14.00\" text-anchor=\"middle\" x=\"301\" y=\"-3992.3\">output:</text>\n<polyline fill=\"none\" points=\"330,-3984.5 330,-4030.5 \" stroke=\"#000000\"/>\n<text fill=\"#000000\" font-family=\"Times,serif\" font-size=\"14.00\" text-anchor=\"middle\" x=\"389.5\" y=\"-4015.3\">[(None, 5000, 1)]</text>\n<polyline fill=\"none\" points=\"330,-4007.5 449,-4007.5 \" stroke=\"#000000\"/>\n<text fill=\"#000000\" font-family=\"Times,serif\" font-size=\"14.00\" text-anchor=\"middle\" x=\"389.5\" y=\"-3992.3\">[(None, 5000, 1)]</text>\n</g>\n<!-- 139829706100240 -->\n<g class=\"node\" id=\"node2\">\n<title>139829706100240</title>\n<polygon fill=\"none\" points=\"89.5,-3901.5 89.5,-3947.5 422.5,-3947.5 422.5,-3901.5 89.5,-3901.5\" stroke=\"#000000\"/>\n<text fill=\"#000000\" font-family=\"Times,serif\" font-size=\"14.00\" text-anchor=\"middle\" x=\"168.5\" y=\"-3920.8\">block1_conv1: Conv1D</text>\n<polyline fill=\"none\" points=\"247.5,-3901.5 247.5,-3947.5 \" stroke=\"#000000\"/>\n<text fill=\"#000000\" font-family=\"Times,serif\" font-size=\"14.00\" text-anchor=\"middle\" x=\"276.5\" y=\"-3932.3\">input:</text>\n<polyline fill=\"none\" points=\"247.5,-3924.5 305.5,-3924.5 \" stroke=\"#000000\"/>\n<text fill=\"#000000\" font-family=\"Times,serif\" font-size=\"14.00\" text-anchor=\"middle\" x=\"276.5\" y=\"-3909.3\">output:</text>\n<polyline fill=\"none\" points=\"305.5,-3901.5 305.5,-3947.5 \" stroke=\"#000000\"/>\n<text fill=\"#000000\" font-family=\"Times,serif\" font-size=\"14.00\" text-anchor=\"middle\" x=\"364\" y=\"-3932.3\">(None, 5000, 1)</text>\n<polyline fill=\"none\" points=\"305.5,-3924.5 422.5,-3924.5 \" stroke=\"#000000\"/>\n<text fill=\"#000000\" font-family=\"Times,serif\" font-size=\"14.00\" text-anchor=\"middle\" x=\"364\" y=\"-3909.3\">(None, 5000, 32)</text>\n</g>\n<!-- 139829708356880&#45;&gt;139829706100240 -->\n<g class=\"edge\" id=\"edge1\">\n<title>139829708356880-&gt;139829706100240</title>\n<path d=\"M256,-3984.3799C256,-3976.1745 256,-3966.7679 256,-3957.8786\" fill=\"none\" stroke=\"#000000\"/>\n<polygon fill=\"#000000\" points=\"259.5001,-3957.784 256,-3947.784 252.5001,-3957.784 259.5001,-3957.784\" stroke=\"#000000\"/>\n</g>\n<!-- 139829708357072 -->\n<g class=\"node\" id=\"node3\">\n<title>139829708357072</title>\n<polygon fill=\"none\" points=\"25.5,-3818.5 25.5,-3864.5 486.5,-3864.5 486.5,-3818.5 25.5,-3818.5\" stroke=\"#000000\"/>\n<text fill=\"#000000\" font-family=\"Times,serif\" font-size=\"14.00\" text-anchor=\"middle\" x=\"168.5\" y=\"-3837.8\">batch_normalization_154: BatchNormalization</text>\n<polyline fill=\"none\" points=\"311.5,-3818.5 311.5,-3864.5 \" stroke=\"#000000\"/>\n<text fill=\"#000000\" font-family=\"Times,serif\" font-size=\"14.00\" text-anchor=\"middle\" x=\"340.5\" y=\"-3849.3\">input:</text>\n<polyline fill=\"none\" points=\"311.5,-3841.5 369.5,-3841.5 \" stroke=\"#000000\"/>\n<text fill=\"#000000\" font-family=\"Times,serif\" font-size=\"14.00\" text-anchor=\"middle\" x=\"340.5\" y=\"-3826.3\">output:</text>\n<polyline fill=\"none\" points=\"369.5,-3818.5 369.5,-3864.5 \" stroke=\"#000000\"/>\n<text fill=\"#000000\" font-family=\"Times,serif\" font-size=\"14.00\" text-anchor=\"middle\" x=\"428\" y=\"-3849.3\">(None, 5000, 32)</text>\n<polyline fill=\"none\" points=\"369.5,-3841.5 486.5,-3841.5 \" stroke=\"#000000\"/>\n<text fill=\"#000000\" font-family=\"Times,serif\" font-size=\"14.00\" text-anchor=\"middle\" x=\"428\" y=\"-3826.3\">(None, 5000, 32)</text>\n</g>\n<!-- 139829706100240&#45;&gt;139829708357072 -->\n<g class=\"edge\" id=\"edge2\">\n<title>139829706100240-&gt;139829708357072</title>\n<path d=\"M256,-3901.3799C256,-3893.1745 256,-3883.7679 256,-3874.8786\" fill=\"none\" stroke=\"#000000\"/>\n<polygon fill=\"#000000\" points=\"259.5001,-3874.784 256,-3864.784 252.5001,-3874.784 259.5001,-3874.784\" stroke=\"#000000\"/>\n</g>\n<!-- 139829708354768 -->\n<g class=\"node\" id=\"node4\">\n<title>139829708354768</title>\n<polygon fill=\"none\" points=\"92.5,-3735.5 92.5,-3781.5 419.5,-3781.5 419.5,-3735.5 92.5,-3735.5\" stroke=\"#000000\"/>\n<text fill=\"#000000\" font-family=\"Times,serif\" font-size=\"14.00\" text-anchor=\"middle\" x=\"168.5\" y=\"-3754.8\">block1_adv_act1: ELU</text>\n<polyline fill=\"none\" points=\"244.5,-3735.5 244.5,-3781.5 \" stroke=\"#000000\"/>\n<text fill=\"#000000\" font-family=\"Times,serif\" font-size=\"14.00\" text-anchor=\"middle\" x=\"273.5\" y=\"-3766.3\">input:</text>\n<polyline fill=\"none\" points=\"244.5,-3758.5 302.5,-3758.5 \" stroke=\"#000000\"/>\n<text fill=\"#000000\" font-family=\"Times,serif\" font-size=\"14.00\" text-anchor=\"middle\" x=\"273.5\" y=\"-3743.3\">output:</text>\n<polyline fill=\"none\" points=\"302.5,-3735.5 302.5,-3781.5 \" stroke=\"#000000\"/>\n<text fill=\"#000000\" font-family=\"Times,serif\" font-size=\"14.00\" text-anchor=\"middle\" x=\"361\" y=\"-3766.3\">(None, 5000, 32)</text>\n<polyline fill=\"none\" points=\"302.5,-3758.5 419.5,-3758.5 \" stroke=\"#000000\"/>\n<text fill=\"#000000\" font-family=\"Times,serif\" font-size=\"14.00\" text-anchor=\"middle\" x=\"361\" y=\"-3743.3\">(None, 5000, 32)</text>\n</g>\n<!-- 139829708357072&#45;&gt;139829708354768 -->\n<g class=\"edge\" id=\"edge3\">\n<title>139829708357072-&gt;139829708354768</title>\n<path d=\"M256,-3818.3799C256,-3810.1745 256,-3800.7679 256,-3791.8786\" fill=\"none\" stroke=\"#000000\"/>\n<polygon fill=\"#000000\" points=\"259.5001,-3791.784 256,-3781.784 252.5001,-3791.784 259.5001,-3791.784\" stroke=\"#000000\"/>\n</g>\n<!-- 139829709094800 -->\n<g class=\"node\" id=\"node5\">\n<title>139829709094800</title>\n<polygon fill=\"none\" points=\"89.5,-3652.5 89.5,-3698.5 422.5,-3698.5 422.5,-3652.5 89.5,-3652.5\" stroke=\"#000000\"/>\n<text fill=\"#000000\" font-family=\"Times,serif\" font-size=\"14.00\" text-anchor=\"middle\" x=\"168.5\" y=\"-3671.8\">block1_conv2: Conv1D</text>\n<polyline fill=\"none\" points=\"247.5,-3652.5 247.5,-3698.5 \" stroke=\"#000000\"/>\n<text fill=\"#000000\" font-family=\"Times,serif\" font-size=\"14.00\" text-anchor=\"middle\" x=\"276.5\" y=\"-3683.3\">input:</text>\n<polyline fill=\"none\" points=\"247.5,-3675.5 305.5,-3675.5 \" stroke=\"#000000\"/>\n<text fill=\"#000000\" font-family=\"Times,serif\" font-size=\"14.00\" text-anchor=\"middle\" x=\"276.5\" y=\"-3660.3\">output:</text>\n<polyline fill=\"none\" points=\"305.5,-3652.5 305.5,-3698.5 \" stroke=\"#000000\"/>\n<text fill=\"#000000\" font-family=\"Times,serif\" font-size=\"14.00\" text-anchor=\"middle\" x=\"364\" y=\"-3683.3\">(None, 5000, 32)</text>\n<polyline fill=\"none\" points=\"305.5,-3675.5 422.5,-3675.5 \" stroke=\"#000000\"/>\n<text fill=\"#000000\" font-family=\"Times,serif\" font-size=\"14.00\" text-anchor=\"middle\" x=\"364\" y=\"-3660.3\">(None, 5000, 32)</text>\n</g>\n<!-- 139829708354768&#45;&gt;139829709094800 -->\n<g class=\"edge\" id=\"edge4\">\n<title>139829708354768-&gt;139829709094800</title>\n<path d=\"M256,-3735.3799C256,-3727.1745 256,-3717.7679 256,-3708.8786\" fill=\"none\" stroke=\"#000000\"/>\n<polygon fill=\"#000000\" points=\"259.5001,-3708.784 256,-3698.784 252.5001,-3708.784 259.5001,-3708.784\" stroke=\"#000000\"/>\n</g>\n<!-- 139829714765648 -->\n<g class=\"node\" id=\"node6\">\n<title>139829714765648</title>\n<polygon fill=\"none\" points=\"25.5,-3569.5 25.5,-3615.5 486.5,-3615.5 486.5,-3569.5 25.5,-3569.5\" stroke=\"#000000\"/>\n<text fill=\"#000000\" font-family=\"Times,serif\" font-size=\"14.00\" text-anchor=\"middle\" x=\"168.5\" y=\"-3588.8\">batch_normalization_155: BatchNormalization</text>\n<polyline fill=\"none\" points=\"311.5,-3569.5 311.5,-3615.5 \" stroke=\"#000000\"/>\n<text fill=\"#000000\" font-family=\"Times,serif\" font-size=\"14.00\" text-anchor=\"middle\" x=\"340.5\" y=\"-3600.3\">input:</text>\n<polyline fill=\"none\" points=\"311.5,-3592.5 369.5,-3592.5 \" stroke=\"#000000\"/>\n<text fill=\"#000000\" font-family=\"Times,serif\" font-size=\"14.00\" text-anchor=\"middle\" x=\"340.5\" y=\"-3577.3\">output:</text>\n<polyline fill=\"none\" points=\"369.5,-3569.5 369.5,-3615.5 \" stroke=\"#000000\"/>\n<text fill=\"#000000\" font-family=\"Times,serif\" font-size=\"14.00\" text-anchor=\"middle\" x=\"428\" y=\"-3600.3\">(None, 5000, 32)</text>\n<polyline fill=\"none\" points=\"369.5,-3592.5 486.5,-3592.5 \" stroke=\"#000000\"/>\n<text fill=\"#000000\" font-family=\"Times,serif\" font-size=\"14.00\" text-anchor=\"middle\" x=\"428\" y=\"-3577.3\">(None, 5000, 32)</text>\n</g>\n<!-- 139829709094800&#45;&gt;139829714765648 -->\n<g class=\"edge\" id=\"edge5\">\n<title>139829709094800-&gt;139829714765648</title>\n<path d=\"M256,-3652.3799C256,-3644.1745 256,-3634.7679 256,-3625.8786\" fill=\"none\" stroke=\"#000000\"/>\n<polygon fill=\"#000000\" points=\"259.5001,-3625.784 256,-3615.784 252.5001,-3625.784 259.5001,-3625.784\" stroke=\"#000000\"/>\n</g>\n<!-- 139829705246480 -->\n<g class=\"node\" id=\"node7\">\n<title>139829705246480</title>\n<polygon fill=\"none\" points=\"92.5,-3486.5 92.5,-3532.5 419.5,-3532.5 419.5,-3486.5 92.5,-3486.5\" stroke=\"#000000\"/>\n<text fill=\"#000000\" font-family=\"Times,serif\" font-size=\"14.00\" text-anchor=\"middle\" x=\"168.5\" y=\"-3505.8\">block1_adv_act2: ELU</text>\n<polyline fill=\"none\" points=\"244.5,-3486.5 244.5,-3532.5 \" stroke=\"#000000\"/>\n<text fill=\"#000000\" font-family=\"Times,serif\" font-size=\"14.00\" text-anchor=\"middle\" x=\"273.5\" y=\"-3517.3\">input:</text>\n<polyline fill=\"none\" points=\"244.5,-3509.5 302.5,-3509.5 \" stroke=\"#000000\"/>\n<text fill=\"#000000\" font-family=\"Times,serif\" font-size=\"14.00\" text-anchor=\"middle\" x=\"273.5\" y=\"-3494.3\">output:</text>\n<polyline fill=\"none\" points=\"302.5,-3486.5 302.5,-3532.5 \" stroke=\"#000000\"/>\n<text fill=\"#000000\" font-family=\"Times,serif\" font-size=\"14.00\" text-anchor=\"middle\" x=\"361\" y=\"-3517.3\">(None, 5000, 32)</text>\n<polyline fill=\"none\" points=\"302.5,-3509.5 419.5,-3509.5 \" stroke=\"#000000\"/>\n<text fill=\"#000000\" font-family=\"Times,serif\" font-size=\"14.00\" text-anchor=\"middle\" x=\"361\" y=\"-3494.3\">(None, 5000, 32)</text>\n</g>\n<!-- 139829714765648&#45;&gt;139829705246480 -->\n<g class=\"edge\" id=\"edge6\">\n<title>139829714765648-&gt;139829705246480</title>\n<path d=\"M256,-3569.3799C256,-3561.1745 256,-3551.7679 256,-3542.8786\" fill=\"none\" stroke=\"#000000\"/>\n<polygon fill=\"#000000\" points=\"259.5001,-3542.784 256,-3532.784 252.5001,-3542.784 259.5001,-3542.784\" stroke=\"#000000\"/>\n</g>\n<!-- 139830110454032 -->\n<g class=\"node\" id=\"node8\">\n<title>139830110454032</title>\n<polygon fill=\"none\" points=\"74.5,-3403.5 74.5,-3449.5 437.5,-3449.5 437.5,-3403.5 74.5,-3403.5\" stroke=\"#000000\"/>\n<text fill=\"#000000\" font-family=\"Times,serif\" font-size=\"14.00\" text-anchor=\"middle\" x=\"168.5\" y=\"-3422.8\">block1_pool: MaxPooling1D</text>\n<polyline fill=\"none\" points=\"262.5,-3403.5 262.5,-3449.5 \" stroke=\"#000000\"/>\n<text fill=\"#000000\" font-family=\"Times,serif\" font-size=\"14.00\" text-anchor=\"middle\" x=\"291.5\" y=\"-3434.3\">input:</text>\n<polyline fill=\"none\" points=\"262.5,-3426.5 320.5,-3426.5 \" stroke=\"#000000\"/>\n<text fill=\"#000000\" font-family=\"Times,serif\" font-size=\"14.00\" text-anchor=\"middle\" x=\"291.5\" y=\"-3411.3\">output:</text>\n<polyline fill=\"none\" points=\"320.5,-3403.5 320.5,-3449.5 \" stroke=\"#000000\"/>\n<text fill=\"#000000\" font-family=\"Times,serif\" font-size=\"14.00\" text-anchor=\"middle\" x=\"379\" y=\"-3434.3\">(None, 5000, 32)</text>\n<polyline fill=\"none\" points=\"320.5,-3426.5 437.5,-3426.5 \" stroke=\"#000000\"/>\n<text fill=\"#000000\" font-family=\"Times,serif\" font-size=\"14.00\" text-anchor=\"middle\" x=\"379\" y=\"-3411.3\">(None, 1250, 32)</text>\n</g>\n<!-- 139829705246480&#45;&gt;139830110454032 -->\n<g class=\"edge\" id=\"edge7\">\n<title>139829705246480-&gt;139830110454032</title>\n<path d=\"M256,-3486.3799C256,-3478.1745 256,-3468.7679 256,-3459.8786\" fill=\"none\" stroke=\"#000000\"/>\n<polygon fill=\"#000000\" points=\"259.5001,-3459.784 256,-3449.784 252.5001,-3459.784 259.5001,-3459.784\" stroke=\"#000000\"/>\n</g>\n<!-- 139829705176336 -->\n<g class=\"node\" id=\"node9\">\n<title>139829705176336</title>\n<polygon fill=\"none\" points=\"85.5,-3320.5 85.5,-3366.5 426.5,-3366.5 426.5,-3320.5 85.5,-3320.5\" stroke=\"#000000\"/>\n<text fill=\"#000000\" font-family=\"Times,serif\" font-size=\"14.00\" text-anchor=\"middle\" x=\"168.5\" y=\"-3339.8\">block1_dropout: Dropout</text>\n<polyline fill=\"none\" points=\"251.5,-3320.5 251.5,-3366.5 \" stroke=\"#000000\"/>\n<text fill=\"#000000\" font-family=\"Times,serif\" font-size=\"14.00\" text-anchor=\"middle\" x=\"280.5\" y=\"-3351.3\">input:</text>\n<polyline fill=\"none\" points=\"251.5,-3343.5 309.5,-3343.5 \" stroke=\"#000000\"/>\n<text fill=\"#000000\" font-family=\"Times,serif\" font-size=\"14.00\" text-anchor=\"middle\" x=\"280.5\" y=\"-3328.3\">output:</text>\n<polyline fill=\"none\" points=\"309.5,-3320.5 309.5,-3366.5 \" stroke=\"#000000\"/>\n<text fill=\"#000000\" font-family=\"Times,serif\" font-size=\"14.00\" text-anchor=\"middle\" x=\"368\" y=\"-3351.3\">(None, 1250, 32)</text>\n<polyline fill=\"none\" points=\"309.5,-3343.5 426.5,-3343.5 \" stroke=\"#000000\"/>\n<text fill=\"#000000\" font-family=\"Times,serif\" font-size=\"14.00\" text-anchor=\"middle\" x=\"368\" y=\"-3328.3\">(None, 1250, 32)</text>\n</g>\n<!-- 139830110454032&#45;&gt;139829705176336 -->\n<g class=\"edge\" id=\"edge8\">\n<title>139830110454032-&gt;139829705176336</title>\n<path d=\"M256,-3403.3799C256,-3395.1745 256,-3385.7679 256,-3376.8786\" fill=\"none\" stroke=\"#000000\"/>\n<polygon fill=\"#000000\" points=\"259.5001,-3376.784 256,-3366.784 252.5001,-3376.784 259.5001,-3376.784\" stroke=\"#000000\"/>\n</g>\n<!-- 139829709260496 -->\n<g class=\"node\" id=\"node10\">\n<title>139829709260496</title>\n<polygon fill=\"none\" points=\"89.5,-3237.5 89.5,-3283.5 422.5,-3283.5 422.5,-3237.5 89.5,-3237.5\" stroke=\"#000000\"/>\n<text fill=\"#000000\" font-family=\"Times,serif\" font-size=\"14.00\" text-anchor=\"middle\" x=\"168.5\" y=\"-3256.8\">block2_conv1: Conv1D</text>\n<polyline fill=\"none\" points=\"247.5,-3237.5 247.5,-3283.5 \" stroke=\"#000000\"/>\n<text fill=\"#000000\" font-family=\"Times,serif\" font-size=\"14.00\" text-anchor=\"middle\" x=\"276.5\" y=\"-3268.3\">input:</text>\n<polyline fill=\"none\" points=\"247.5,-3260.5 305.5,-3260.5 \" stroke=\"#000000\"/>\n<text fill=\"#000000\" font-family=\"Times,serif\" font-size=\"14.00\" text-anchor=\"middle\" x=\"276.5\" y=\"-3245.3\">output:</text>\n<polyline fill=\"none\" points=\"305.5,-3237.5 305.5,-3283.5 \" stroke=\"#000000\"/>\n<text fill=\"#000000\" font-family=\"Times,serif\" font-size=\"14.00\" text-anchor=\"middle\" x=\"364\" y=\"-3268.3\">(None, 1250, 32)</text>\n<polyline fill=\"none\" points=\"305.5,-3260.5 422.5,-3260.5 \" stroke=\"#000000\"/>\n<text fill=\"#000000\" font-family=\"Times,serif\" font-size=\"14.00\" text-anchor=\"middle\" x=\"364\" y=\"-3245.3\">(None, 1250, 64)</text>\n</g>\n<!-- 139829705176336&#45;&gt;139829709260496 -->\n<g class=\"edge\" id=\"edge9\">\n<title>139829705176336-&gt;139829709260496</title>\n<path d=\"M256,-3320.3799C256,-3312.1745 256,-3302.7679 256,-3293.8786\" fill=\"none\" stroke=\"#000000\"/>\n<polygon fill=\"#000000\" points=\"259.5001,-3293.784 256,-3283.784 252.5001,-3293.784 259.5001,-3293.784\" stroke=\"#000000\"/>\n</g>\n<!-- 139829709260944 -->\n<g class=\"node\" id=\"node11\">\n<title>139829709260944</title>\n<polygon fill=\"none\" points=\"25.5,-3154.5 25.5,-3200.5 486.5,-3200.5 486.5,-3154.5 25.5,-3154.5\" stroke=\"#000000\"/>\n<text fill=\"#000000\" font-family=\"Times,serif\" font-size=\"14.00\" text-anchor=\"middle\" x=\"168.5\" y=\"-3173.8\">batch_normalization_156: BatchNormalization</text>\n<polyline fill=\"none\" points=\"311.5,-3154.5 311.5,-3200.5 \" stroke=\"#000000\"/>\n<text fill=\"#000000\" font-family=\"Times,serif\" font-size=\"14.00\" text-anchor=\"middle\" x=\"340.5\" y=\"-3185.3\">input:</text>\n<polyline fill=\"none\" points=\"311.5,-3177.5 369.5,-3177.5 \" stroke=\"#000000\"/>\n<text fill=\"#000000\" font-family=\"Times,serif\" font-size=\"14.00\" text-anchor=\"middle\" x=\"340.5\" y=\"-3162.3\">output:</text>\n<polyline fill=\"none\" points=\"369.5,-3154.5 369.5,-3200.5 \" stroke=\"#000000\"/>\n<text fill=\"#000000\" font-family=\"Times,serif\" font-size=\"14.00\" text-anchor=\"middle\" x=\"428\" y=\"-3185.3\">(None, 1250, 64)</text>\n<polyline fill=\"none\" points=\"369.5,-3177.5 486.5,-3177.5 \" stroke=\"#000000\"/>\n<text fill=\"#000000\" font-family=\"Times,serif\" font-size=\"14.00\" text-anchor=\"middle\" x=\"428\" y=\"-3162.3\">(None, 1250, 64)</text>\n</g>\n<!-- 139829709260496&#45;&gt;139829709260944 -->\n<g class=\"edge\" id=\"edge10\">\n<title>139829709260496-&gt;139829709260944</title>\n<path d=\"M256,-3237.3799C256,-3229.1745 256,-3219.7679 256,-3210.8786\" fill=\"none\" stroke=\"#000000\"/>\n<polygon fill=\"#000000\" points=\"259.5001,-3210.784 256,-3200.784 252.5001,-3210.784 259.5001,-3210.784\" stroke=\"#000000\"/>\n</g>\n<!-- 139829714412432 -->\n<g class=\"node\" id=\"node12\">\n<title>139829714412432</title>\n<polygon fill=\"none\" points=\"91.5,-3071.5 91.5,-3117.5 420.5,-3117.5 420.5,-3071.5 91.5,-3071.5\" stroke=\"#000000\"/>\n<text fill=\"#000000\" font-family=\"Times,serif\" font-size=\"14.00\" text-anchor=\"middle\" x=\"168.5\" y=\"-3090.8\">block2_act1: Activation</text>\n<polyline fill=\"none\" points=\"245.5,-3071.5 245.5,-3117.5 \" stroke=\"#000000\"/>\n<text fill=\"#000000\" font-family=\"Times,serif\" font-size=\"14.00\" text-anchor=\"middle\" x=\"274.5\" y=\"-3102.3\">input:</text>\n<polyline fill=\"none\" points=\"245.5,-3094.5 303.5,-3094.5 \" stroke=\"#000000\"/>\n<text fill=\"#000000\" font-family=\"Times,serif\" font-size=\"14.00\" text-anchor=\"middle\" x=\"274.5\" y=\"-3079.3\">output:</text>\n<polyline fill=\"none\" points=\"303.5,-3071.5 303.5,-3117.5 \" stroke=\"#000000\"/>\n<text fill=\"#000000\" font-family=\"Times,serif\" font-size=\"14.00\" text-anchor=\"middle\" x=\"362\" y=\"-3102.3\">(None, 1250, 64)</text>\n<polyline fill=\"none\" points=\"303.5,-3094.5 420.5,-3094.5 \" stroke=\"#000000\"/>\n<text fill=\"#000000\" font-family=\"Times,serif\" font-size=\"14.00\" text-anchor=\"middle\" x=\"362\" y=\"-3079.3\">(None, 1250, 64)</text>\n</g>\n<!-- 139829709260944&#45;&gt;139829714412432 -->\n<g class=\"edge\" id=\"edge11\">\n<title>139829709260944-&gt;139829714412432</title>\n<path d=\"M256,-3154.3799C256,-3146.1745 256,-3136.7679 256,-3127.8786\" fill=\"none\" stroke=\"#000000\"/>\n<polygon fill=\"#000000\" points=\"259.5001,-3127.784 256,-3117.784 252.5001,-3127.784 259.5001,-3127.784\" stroke=\"#000000\"/>\n</g>\n<!-- 139830110939728 -->\n<g class=\"node\" id=\"node13\">\n<title>139830110939728</title>\n<polygon fill=\"none\" points=\"89.5,-2988.5 89.5,-3034.5 422.5,-3034.5 422.5,-2988.5 89.5,-2988.5\" stroke=\"#000000\"/>\n<text fill=\"#000000\" font-family=\"Times,serif\" font-size=\"14.00\" text-anchor=\"middle\" x=\"168.5\" y=\"-3007.8\">block2_conv2: Conv1D</text>\n<polyline fill=\"none\" points=\"247.5,-2988.5 247.5,-3034.5 \" stroke=\"#000000\"/>\n<text fill=\"#000000\" font-family=\"Times,serif\" font-size=\"14.00\" text-anchor=\"middle\" x=\"276.5\" y=\"-3019.3\">input:</text>\n<polyline fill=\"none\" points=\"247.5,-3011.5 305.5,-3011.5 \" stroke=\"#000000\"/>\n<text fill=\"#000000\" font-family=\"Times,serif\" font-size=\"14.00\" text-anchor=\"middle\" x=\"276.5\" y=\"-2996.3\">output:</text>\n<polyline fill=\"none\" points=\"305.5,-2988.5 305.5,-3034.5 \" stroke=\"#000000\"/>\n<text fill=\"#000000\" font-family=\"Times,serif\" font-size=\"14.00\" text-anchor=\"middle\" x=\"364\" y=\"-3019.3\">(None, 1250, 64)</text>\n<polyline fill=\"none\" points=\"305.5,-3011.5 422.5,-3011.5 \" stroke=\"#000000\"/>\n<text fill=\"#000000\" font-family=\"Times,serif\" font-size=\"14.00\" text-anchor=\"middle\" x=\"364\" y=\"-2996.3\">(None, 1250, 64)</text>\n</g>\n<!-- 139829714412432&#45;&gt;139830110939728 -->\n<g class=\"edge\" id=\"edge12\">\n<title>139829714412432-&gt;139830110939728</title>\n<path d=\"M256,-3071.3799C256,-3063.1745 256,-3053.7679 256,-3044.8786\" fill=\"none\" stroke=\"#000000\"/>\n<polygon fill=\"#000000\" points=\"259.5001,-3044.784 256,-3034.784 252.5001,-3044.784 259.5001,-3044.784\" stroke=\"#000000\"/>\n</g>\n<!-- 139829696203856 -->\n<g class=\"node\" id=\"node14\">\n<title>139829696203856</title>\n<polygon fill=\"none\" points=\"25.5,-2905.5 25.5,-2951.5 486.5,-2951.5 486.5,-2905.5 25.5,-2905.5\" stroke=\"#000000\"/>\n<text fill=\"#000000\" font-family=\"Times,serif\" font-size=\"14.00\" text-anchor=\"middle\" x=\"168.5\" y=\"-2924.8\">batch_normalization_157: BatchNormalization</text>\n<polyline fill=\"none\" points=\"311.5,-2905.5 311.5,-2951.5 \" stroke=\"#000000\"/>\n<text fill=\"#000000\" font-family=\"Times,serif\" font-size=\"14.00\" text-anchor=\"middle\" x=\"340.5\" y=\"-2936.3\">input:</text>\n<polyline fill=\"none\" points=\"311.5,-2928.5 369.5,-2928.5 \" stroke=\"#000000\"/>\n<text fill=\"#000000\" font-family=\"Times,serif\" font-size=\"14.00\" text-anchor=\"middle\" x=\"340.5\" y=\"-2913.3\">output:</text>\n<polyline fill=\"none\" points=\"369.5,-2905.5 369.5,-2951.5 \" stroke=\"#000000\"/>\n<text fill=\"#000000\" font-family=\"Times,serif\" font-size=\"14.00\" text-anchor=\"middle\" x=\"428\" y=\"-2936.3\">(None, 1250, 64)</text>\n<polyline fill=\"none\" points=\"369.5,-2928.5 486.5,-2928.5 \" stroke=\"#000000\"/>\n<text fill=\"#000000\" font-family=\"Times,serif\" font-size=\"14.00\" text-anchor=\"middle\" x=\"428\" y=\"-2913.3\">(None, 1250, 64)</text>\n</g>\n<!-- 139830110939728&#45;&gt;139829696203856 -->\n<g class=\"edge\" id=\"edge13\">\n<title>139830110939728-&gt;139829696203856</title>\n<path d=\"M256,-2988.3799C256,-2980.1745 256,-2970.7679 256,-2961.8786\" fill=\"none\" stroke=\"#000000\"/>\n<polygon fill=\"#000000\" points=\"259.5001,-2961.784 256,-2951.784 252.5001,-2961.784 259.5001,-2961.784\" stroke=\"#000000\"/>\n</g>\n<!-- 139829713787216 -->\n<g class=\"node\" id=\"node15\">\n<title>139829713787216</title>\n<polygon fill=\"none\" points=\"91.5,-2822.5 91.5,-2868.5 420.5,-2868.5 420.5,-2822.5 91.5,-2822.5\" stroke=\"#000000\"/>\n<text fill=\"#000000\" font-family=\"Times,serif\" font-size=\"14.00\" text-anchor=\"middle\" x=\"168.5\" y=\"-2841.8\">block2_act2: Activation</text>\n<polyline fill=\"none\" points=\"245.5,-2822.5 245.5,-2868.5 \" stroke=\"#000000\"/>\n<text fill=\"#000000\" font-family=\"Times,serif\" font-size=\"14.00\" text-anchor=\"middle\" x=\"274.5\" y=\"-2853.3\">input:</text>\n<polyline fill=\"none\" points=\"245.5,-2845.5 303.5,-2845.5 \" stroke=\"#000000\"/>\n<text fill=\"#000000\" font-family=\"Times,serif\" font-size=\"14.00\" text-anchor=\"middle\" x=\"274.5\" y=\"-2830.3\">output:</text>\n<polyline fill=\"none\" points=\"303.5,-2822.5 303.5,-2868.5 \" stroke=\"#000000\"/>\n<text fill=\"#000000\" font-family=\"Times,serif\" font-size=\"14.00\" text-anchor=\"middle\" x=\"362\" y=\"-2853.3\">(None, 1250, 64)</text>\n<polyline fill=\"none\" points=\"303.5,-2845.5 420.5,-2845.5 \" stroke=\"#000000\"/>\n<text fill=\"#000000\" font-family=\"Times,serif\" font-size=\"14.00\" text-anchor=\"middle\" x=\"362\" y=\"-2830.3\">(None, 1250, 64)</text>\n</g>\n<!-- 139829696203856&#45;&gt;139829713787216 -->\n<g class=\"edge\" id=\"edge14\">\n<title>139829696203856-&gt;139829713787216</title>\n<path d=\"M256,-2905.3799C256,-2897.1745 256,-2887.7679 256,-2878.8786\" fill=\"none\" stroke=\"#000000\"/>\n<polygon fill=\"#000000\" points=\"259.5001,-2878.784 256,-2868.784 252.5001,-2878.784 259.5001,-2878.784\" stroke=\"#000000\"/>\n</g>\n<!-- 139830112469712 -->\n<g class=\"node\" id=\"node16\">\n<title>139830112469712</title>\n<polygon fill=\"none\" points=\"74.5,-2739.5 74.5,-2785.5 437.5,-2785.5 437.5,-2739.5 74.5,-2739.5\" stroke=\"#000000\"/>\n<text fill=\"#000000\" font-family=\"Times,serif\" font-size=\"14.00\" text-anchor=\"middle\" x=\"168.5\" y=\"-2758.8\">block2_pool: MaxPooling1D</text>\n<polyline fill=\"none\" points=\"262.5,-2739.5 262.5,-2785.5 \" stroke=\"#000000\"/>\n<text fill=\"#000000\" font-family=\"Times,serif\" font-size=\"14.00\" text-anchor=\"middle\" x=\"291.5\" y=\"-2770.3\">input:</text>\n<polyline fill=\"none\" points=\"262.5,-2762.5 320.5,-2762.5 \" stroke=\"#000000\"/>\n<text fill=\"#000000\" font-family=\"Times,serif\" font-size=\"14.00\" text-anchor=\"middle\" x=\"291.5\" y=\"-2747.3\">output:</text>\n<polyline fill=\"none\" points=\"320.5,-2739.5 320.5,-2785.5 \" stroke=\"#000000\"/>\n<text fill=\"#000000\" font-family=\"Times,serif\" font-size=\"14.00\" text-anchor=\"middle\" x=\"379\" y=\"-2770.3\">(None, 1250, 64)</text>\n<polyline fill=\"none\" points=\"320.5,-2762.5 437.5,-2762.5 \" stroke=\"#000000\"/>\n<text fill=\"#000000\" font-family=\"Times,serif\" font-size=\"14.00\" text-anchor=\"middle\" x=\"379\" y=\"-2747.3\">(None, 313, 64)</text>\n</g>\n<!-- 139829713787216&#45;&gt;139830112469712 -->\n<g class=\"edge\" id=\"edge15\">\n<title>139829713787216-&gt;139830112469712</title>\n<path d=\"M256,-2822.3799C256,-2814.1745 256,-2804.7679 256,-2795.8786\" fill=\"none\" stroke=\"#000000\"/>\n<polygon fill=\"#000000\" points=\"259.5001,-2795.784 256,-2785.784 252.5001,-2795.784 259.5001,-2795.784\" stroke=\"#000000\"/>\n</g>\n<!-- 139829708098704 -->\n<g class=\"node\" id=\"node17\">\n<title>139829708098704</title>\n<polygon fill=\"none\" points=\"89,-2656.5 89,-2702.5 423,-2702.5 423,-2656.5 89,-2656.5\" stroke=\"#000000\"/>\n<text fill=\"#000000\" font-family=\"Times,serif\" font-size=\"14.00\" text-anchor=\"middle\" x=\"172\" y=\"-2675.8\">block2_dropout: Dropout</text>\n<polyline fill=\"none\" points=\"255,-2656.5 255,-2702.5 \" stroke=\"#000000\"/>\n<text fill=\"#000000\" font-family=\"Times,serif\" font-size=\"14.00\" text-anchor=\"middle\" x=\"284\" y=\"-2687.3\">input:</text>\n<polyline fill=\"none\" points=\"255,-2679.5 313,-2679.5 \" stroke=\"#000000\"/>\n<text fill=\"#000000\" font-family=\"Times,serif\" font-size=\"14.00\" text-anchor=\"middle\" x=\"284\" y=\"-2664.3\">output:</text>\n<polyline fill=\"none\" points=\"313,-2656.5 313,-2702.5 \" stroke=\"#000000\"/>\n<text fill=\"#000000\" font-family=\"Times,serif\" font-size=\"14.00\" text-anchor=\"middle\" x=\"368\" y=\"-2687.3\">(None, 313, 64)</text>\n<polyline fill=\"none\" points=\"313,-2679.5 423,-2679.5 \" stroke=\"#000000\"/>\n<text fill=\"#000000\" font-family=\"Times,serif\" font-size=\"14.00\" text-anchor=\"middle\" x=\"368\" y=\"-2664.3\">(None, 313, 64)</text>\n</g>\n<!-- 139830112469712&#45;&gt;139829708098704 -->\n<g class=\"edge\" id=\"edge16\">\n<title>139830112469712-&gt;139829708098704</title>\n<path d=\"M256,-2739.3799C256,-2731.1745 256,-2721.7679 256,-2712.8786\" fill=\"none\" stroke=\"#000000\"/>\n<polygon fill=\"#000000\" points=\"259.5001,-2712.784 256,-2702.784 252.5001,-2712.784 259.5001,-2712.784\" stroke=\"#000000\"/>\n</g>\n<!-- 139829713922128 -->\n<g class=\"node\" id=\"node18\">\n<title>139829713922128</title>\n<polygon fill=\"none\" points=\"89.5,-2573.5 89.5,-2619.5 422.5,-2619.5 422.5,-2573.5 89.5,-2573.5\" stroke=\"#000000\"/>\n<text fill=\"#000000\" font-family=\"Times,serif\" font-size=\"14.00\" text-anchor=\"middle\" x=\"168.5\" y=\"-2592.8\">block3_conv1: Conv1D</text>\n<polyline fill=\"none\" points=\"247.5,-2573.5 247.5,-2619.5 \" stroke=\"#000000\"/>\n<text fill=\"#000000\" font-family=\"Times,serif\" font-size=\"14.00\" text-anchor=\"middle\" x=\"276.5\" y=\"-2604.3\">input:</text>\n<polyline fill=\"none\" points=\"247.5,-2596.5 305.5,-2596.5 \" stroke=\"#000000\"/>\n<text fill=\"#000000\" font-family=\"Times,serif\" font-size=\"14.00\" text-anchor=\"middle\" x=\"276.5\" y=\"-2581.3\">output:</text>\n<polyline fill=\"none\" points=\"305.5,-2573.5 305.5,-2619.5 \" stroke=\"#000000\"/>\n<text fill=\"#000000\" font-family=\"Times,serif\" font-size=\"14.00\" text-anchor=\"middle\" x=\"364\" y=\"-2604.3\">(None, 313, 64)</text>\n<polyline fill=\"none\" points=\"305.5,-2596.5 422.5,-2596.5 \" stroke=\"#000000\"/>\n<text fill=\"#000000\" font-family=\"Times,serif\" font-size=\"14.00\" text-anchor=\"middle\" x=\"364\" y=\"-2581.3\">(None, 313, 128)</text>\n</g>\n<!-- 139829708098704&#45;&gt;139829713922128 -->\n<g class=\"edge\" id=\"edge17\">\n<title>139829708098704-&gt;139829713922128</title>\n<path d=\"M256,-2656.3799C256,-2648.1745 256,-2638.7679 256,-2629.8786\" fill=\"none\" stroke=\"#000000\"/>\n<polygon fill=\"#000000\" points=\"259.5001,-2629.784 256,-2619.784 252.5001,-2629.784 259.5001,-2629.784\" stroke=\"#000000\"/>\n</g>\n<!-- 139831250746768 -->\n<g class=\"node\" id=\"node19\">\n<title>139831250746768</title>\n<polygon fill=\"none\" points=\"25.5,-2490.5 25.5,-2536.5 486.5,-2536.5 486.5,-2490.5 25.5,-2490.5\" stroke=\"#000000\"/>\n<text fill=\"#000000\" font-family=\"Times,serif\" font-size=\"14.00\" text-anchor=\"middle\" x=\"168.5\" y=\"-2509.8\">batch_normalization_158: BatchNormalization</text>\n<polyline fill=\"none\" points=\"311.5,-2490.5 311.5,-2536.5 \" stroke=\"#000000\"/>\n<text fill=\"#000000\" font-family=\"Times,serif\" font-size=\"14.00\" text-anchor=\"middle\" x=\"340.5\" y=\"-2521.3\">input:</text>\n<polyline fill=\"none\" points=\"311.5,-2513.5 369.5,-2513.5 \" stroke=\"#000000\"/>\n<text fill=\"#000000\" font-family=\"Times,serif\" font-size=\"14.00\" text-anchor=\"middle\" x=\"340.5\" y=\"-2498.3\">output:</text>\n<polyline fill=\"none\" points=\"369.5,-2490.5 369.5,-2536.5 \" stroke=\"#000000\"/>\n<text fill=\"#000000\" font-family=\"Times,serif\" font-size=\"14.00\" text-anchor=\"middle\" x=\"428\" y=\"-2521.3\">(None, 313, 128)</text>\n<polyline fill=\"none\" points=\"369.5,-2513.5 486.5,-2513.5 \" stroke=\"#000000\"/>\n<text fill=\"#000000\" font-family=\"Times,serif\" font-size=\"14.00\" text-anchor=\"middle\" x=\"428\" y=\"-2498.3\">(None, 313, 128)</text>\n</g>\n<!-- 139829713922128&#45;&gt;139831250746768 -->\n<g class=\"edge\" id=\"edge18\">\n<title>139829713922128-&gt;139831250746768</title>\n<path d=\"M256,-2573.3799C256,-2565.1745 256,-2555.7679 256,-2546.8786\" fill=\"none\" stroke=\"#000000\"/>\n<polygon fill=\"#000000\" points=\"259.5001,-2546.784 256,-2536.784 252.5001,-2546.784 259.5001,-2546.784\" stroke=\"#000000\"/>\n</g>\n<!-- 139829713922640 -->\n<g class=\"node\" id=\"node20\">\n<title>139829713922640</title>\n<polygon fill=\"none\" points=\"91.5,-2407.5 91.5,-2453.5 420.5,-2453.5 420.5,-2407.5 91.5,-2407.5\" stroke=\"#000000\"/>\n<text fill=\"#000000\" font-family=\"Times,serif\" font-size=\"14.00\" text-anchor=\"middle\" x=\"168.5\" y=\"-2426.8\">block3_act1: Activation</text>\n<polyline fill=\"none\" points=\"245.5,-2407.5 245.5,-2453.5 \" stroke=\"#000000\"/>\n<text fill=\"#000000\" font-family=\"Times,serif\" font-size=\"14.00\" text-anchor=\"middle\" x=\"274.5\" y=\"-2438.3\">input:</text>\n<polyline fill=\"none\" points=\"245.5,-2430.5 303.5,-2430.5 \" stroke=\"#000000\"/>\n<text fill=\"#000000\" font-family=\"Times,serif\" font-size=\"14.00\" text-anchor=\"middle\" x=\"274.5\" y=\"-2415.3\">output:</text>\n<polyline fill=\"none\" points=\"303.5,-2407.5 303.5,-2453.5 \" stroke=\"#000000\"/>\n<text fill=\"#000000\" font-family=\"Times,serif\" font-size=\"14.00\" text-anchor=\"middle\" x=\"362\" y=\"-2438.3\">(None, 313, 128)</text>\n<polyline fill=\"none\" points=\"303.5,-2430.5 420.5,-2430.5 \" stroke=\"#000000\"/>\n<text fill=\"#000000\" font-family=\"Times,serif\" font-size=\"14.00\" text-anchor=\"middle\" x=\"362\" y=\"-2415.3\">(None, 313, 128)</text>\n</g>\n<!-- 139831250746768&#45;&gt;139829713922640 -->\n<g class=\"edge\" id=\"edge19\">\n<title>139831250746768-&gt;139829713922640</title>\n<path d=\"M256,-2490.3799C256,-2482.1745 256,-2472.7679 256,-2463.8786\" fill=\"none\" stroke=\"#000000\"/>\n<polygon fill=\"#000000\" points=\"259.5001,-2463.784 256,-2453.784 252.5001,-2463.784 259.5001,-2463.784\" stroke=\"#000000\"/>\n</g>\n<!-- 139829708098000 -->\n<g class=\"node\" id=\"node21\">\n<title>139829708098000</title>\n<polygon fill=\"none\" points=\"89.5,-2324.5 89.5,-2370.5 422.5,-2370.5 422.5,-2324.5 89.5,-2324.5\" stroke=\"#000000\"/>\n<text fill=\"#000000\" font-family=\"Times,serif\" font-size=\"14.00\" text-anchor=\"middle\" x=\"168.5\" y=\"-2343.8\">block3_conv2: Conv1D</text>\n<polyline fill=\"none\" points=\"247.5,-2324.5 247.5,-2370.5 \" stroke=\"#000000\"/>\n<text fill=\"#000000\" font-family=\"Times,serif\" font-size=\"14.00\" text-anchor=\"middle\" x=\"276.5\" y=\"-2355.3\">input:</text>\n<polyline fill=\"none\" points=\"247.5,-2347.5 305.5,-2347.5 \" stroke=\"#000000\"/>\n<text fill=\"#000000\" font-family=\"Times,serif\" font-size=\"14.00\" text-anchor=\"middle\" x=\"276.5\" y=\"-2332.3\">output:</text>\n<polyline fill=\"none\" points=\"305.5,-2324.5 305.5,-2370.5 \" stroke=\"#000000\"/>\n<text fill=\"#000000\" font-family=\"Times,serif\" font-size=\"14.00\" text-anchor=\"middle\" x=\"364\" y=\"-2355.3\">(None, 313, 128)</text>\n<polyline fill=\"none\" points=\"305.5,-2347.5 422.5,-2347.5 \" stroke=\"#000000\"/>\n<text fill=\"#000000\" font-family=\"Times,serif\" font-size=\"14.00\" text-anchor=\"middle\" x=\"364\" y=\"-2332.3\">(None, 313, 128)</text>\n</g>\n<!-- 139829713922640&#45;&gt;139829708098000 -->\n<g class=\"edge\" id=\"edge20\">\n<title>139829713922640-&gt;139829708098000</title>\n<path d=\"M256,-2407.3799C256,-2399.1745 256,-2389.7679 256,-2380.8786\" fill=\"none\" stroke=\"#000000\"/>\n<polygon fill=\"#000000\" points=\"259.5001,-2380.784 256,-2370.784 252.5001,-2380.784 259.5001,-2380.784\" stroke=\"#000000\"/>\n</g>\n<!-- 139829714822800 -->\n<g class=\"node\" id=\"node22\">\n<title>139829714822800</title>\n<polygon fill=\"none\" points=\"25.5,-2241.5 25.5,-2287.5 486.5,-2287.5 486.5,-2241.5 25.5,-2241.5\" stroke=\"#000000\"/>\n<text fill=\"#000000\" font-family=\"Times,serif\" font-size=\"14.00\" text-anchor=\"middle\" x=\"168.5\" y=\"-2260.8\">batch_normalization_159: BatchNormalization</text>\n<polyline fill=\"none\" points=\"311.5,-2241.5 311.5,-2287.5 \" stroke=\"#000000\"/>\n<text fill=\"#000000\" font-family=\"Times,serif\" font-size=\"14.00\" text-anchor=\"middle\" x=\"340.5\" y=\"-2272.3\">input:</text>\n<polyline fill=\"none\" points=\"311.5,-2264.5 369.5,-2264.5 \" stroke=\"#000000\"/>\n<text fill=\"#000000\" font-family=\"Times,serif\" font-size=\"14.00\" text-anchor=\"middle\" x=\"340.5\" y=\"-2249.3\">output:</text>\n<polyline fill=\"none\" points=\"369.5,-2241.5 369.5,-2287.5 \" stroke=\"#000000\"/>\n<text fill=\"#000000\" font-family=\"Times,serif\" font-size=\"14.00\" text-anchor=\"middle\" x=\"428\" y=\"-2272.3\">(None, 313, 128)</text>\n<polyline fill=\"none\" points=\"369.5,-2264.5 486.5,-2264.5 \" stroke=\"#000000\"/>\n<text fill=\"#000000\" font-family=\"Times,serif\" font-size=\"14.00\" text-anchor=\"middle\" x=\"428\" y=\"-2249.3\">(None, 313, 128)</text>\n</g>\n<!-- 139829708098000&#45;&gt;139829714822800 -->\n<g class=\"edge\" id=\"edge21\">\n<title>139829708098000-&gt;139829714822800</title>\n<path d=\"M256,-2324.3799C256,-2316.1745 256,-2306.7679 256,-2297.8786\" fill=\"none\" stroke=\"#000000\"/>\n<polygon fill=\"#000000\" points=\"259.5001,-2297.784 256,-2287.784 252.5001,-2297.784 259.5001,-2297.784\" stroke=\"#000000\"/>\n</g>\n<!-- 139829714767760 -->\n<g class=\"node\" id=\"node23\">\n<title>139829714767760</title>\n<polygon fill=\"none\" points=\"91.5,-2158.5 91.5,-2204.5 420.5,-2204.5 420.5,-2158.5 91.5,-2158.5\" stroke=\"#000000\"/>\n<text fill=\"#000000\" font-family=\"Times,serif\" font-size=\"14.00\" text-anchor=\"middle\" x=\"168.5\" y=\"-2177.8\">block3_act2: Activation</text>\n<polyline fill=\"none\" points=\"245.5,-2158.5 245.5,-2204.5 \" stroke=\"#000000\"/>\n<text fill=\"#000000\" font-family=\"Times,serif\" font-size=\"14.00\" text-anchor=\"middle\" x=\"274.5\" y=\"-2189.3\">input:</text>\n<polyline fill=\"none\" points=\"245.5,-2181.5 303.5,-2181.5 \" stroke=\"#000000\"/>\n<text fill=\"#000000\" font-family=\"Times,serif\" font-size=\"14.00\" text-anchor=\"middle\" x=\"274.5\" y=\"-2166.3\">output:</text>\n<polyline fill=\"none\" points=\"303.5,-2158.5 303.5,-2204.5 \" stroke=\"#000000\"/>\n<text fill=\"#000000\" font-family=\"Times,serif\" font-size=\"14.00\" text-anchor=\"middle\" x=\"362\" y=\"-2189.3\">(None, 313, 128)</text>\n<polyline fill=\"none\" points=\"303.5,-2181.5 420.5,-2181.5 \" stroke=\"#000000\"/>\n<text fill=\"#000000\" font-family=\"Times,serif\" font-size=\"14.00\" text-anchor=\"middle\" x=\"362\" y=\"-2166.3\">(None, 313, 128)</text>\n</g>\n<!-- 139829714822800&#45;&gt;139829714767760 -->\n<g class=\"edge\" id=\"edge22\">\n<title>139829714822800-&gt;139829714767760</title>\n<path d=\"M256,-2241.3799C256,-2233.1745 256,-2223.7679 256,-2214.8786\" fill=\"none\" stroke=\"#000000\"/>\n<polygon fill=\"#000000\" points=\"259.5001,-2214.784 256,-2204.784 252.5001,-2214.784 259.5001,-2214.784\" stroke=\"#000000\"/>\n</g>\n<!-- 139829707738640 -->\n<g class=\"node\" id=\"node24\">\n<title>139829707738640</title>\n<polygon fill=\"none\" points=\"74.5,-2075.5 74.5,-2121.5 437.5,-2121.5 437.5,-2075.5 74.5,-2075.5\" stroke=\"#000000\"/>\n<text fill=\"#000000\" font-family=\"Times,serif\" font-size=\"14.00\" text-anchor=\"middle\" x=\"168.5\" y=\"-2094.8\">block3_pool: MaxPooling1D</text>\n<polyline fill=\"none\" points=\"262.5,-2075.5 262.5,-2121.5 \" stroke=\"#000000\"/>\n<text fill=\"#000000\" font-family=\"Times,serif\" font-size=\"14.00\" text-anchor=\"middle\" x=\"291.5\" y=\"-2106.3\">input:</text>\n<polyline fill=\"none\" points=\"262.5,-2098.5 320.5,-2098.5 \" stroke=\"#000000\"/>\n<text fill=\"#000000\" font-family=\"Times,serif\" font-size=\"14.00\" text-anchor=\"middle\" x=\"291.5\" y=\"-2083.3\">output:</text>\n<polyline fill=\"none\" points=\"320.5,-2075.5 320.5,-2121.5 \" stroke=\"#000000\"/>\n<text fill=\"#000000\" font-family=\"Times,serif\" font-size=\"14.00\" text-anchor=\"middle\" x=\"379\" y=\"-2106.3\">(None, 313, 128)</text>\n<polyline fill=\"none\" points=\"320.5,-2098.5 437.5,-2098.5 \" stroke=\"#000000\"/>\n<text fill=\"#000000\" font-family=\"Times,serif\" font-size=\"14.00\" text-anchor=\"middle\" x=\"379\" y=\"-2083.3\">(None, 79, 128)</text>\n</g>\n<!-- 139829714767760&#45;&gt;139829707738640 -->\n<g class=\"edge\" id=\"edge23\">\n<title>139829714767760-&gt;139829707738640</title>\n<path d=\"M256,-2158.3799C256,-2150.1745 256,-2140.7679 256,-2131.8786\" fill=\"none\" stroke=\"#000000\"/>\n<polygon fill=\"#000000\" points=\"259.5001,-2131.784 256,-2121.784 252.5001,-2131.784 259.5001,-2131.784\" stroke=\"#000000\"/>\n</g>\n<!-- 139829708801488 -->\n<g class=\"node\" id=\"node25\">\n<title>139829708801488</title>\n<polygon fill=\"none\" points=\"89,-1992.5 89,-2038.5 423,-2038.5 423,-1992.5 89,-1992.5\" stroke=\"#000000\"/>\n<text fill=\"#000000\" font-family=\"Times,serif\" font-size=\"14.00\" text-anchor=\"middle\" x=\"172\" y=\"-2011.8\">block3_dropout: Dropout</text>\n<polyline fill=\"none\" points=\"255,-1992.5 255,-2038.5 \" stroke=\"#000000\"/>\n<text fill=\"#000000\" font-family=\"Times,serif\" font-size=\"14.00\" text-anchor=\"middle\" x=\"284\" y=\"-2023.3\">input:</text>\n<polyline fill=\"none\" points=\"255,-2015.5 313,-2015.5 \" stroke=\"#000000\"/>\n<text fill=\"#000000\" font-family=\"Times,serif\" font-size=\"14.00\" text-anchor=\"middle\" x=\"284\" y=\"-2000.3\">output:</text>\n<polyline fill=\"none\" points=\"313,-1992.5 313,-2038.5 \" stroke=\"#000000\"/>\n<text fill=\"#000000\" font-family=\"Times,serif\" font-size=\"14.00\" text-anchor=\"middle\" x=\"368\" y=\"-2023.3\">(None, 79, 128)</text>\n<polyline fill=\"none\" points=\"313,-2015.5 423,-2015.5 \" stroke=\"#000000\"/>\n<text fill=\"#000000\" font-family=\"Times,serif\" font-size=\"14.00\" text-anchor=\"middle\" x=\"368\" y=\"-2000.3\">(None, 79, 128)</text>\n</g>\n<!-- 139829707738640&#45;&gt;139829708801488 -->\n<g class=\"edge\" id=\"edge24\">\n<title>139829707738640-&gt;139829708801488</title>\n<path d=\"M256,-2075.3799C256,-2067.1745 256,-2057.7679 256,-2048.8786\" fill=\"none\" stroke=\"#000000\"/>\n<polygon fill=\"#000000\" points=\"259.5001,-2048.784 256,-2038.784 252.5001,-2048.784 259.5001,-2048.784\" stroke=\"#000000\"/>\n</g>\n<!-- 139829713965712 -->\n<g class=\"node\" id=\"node26\">\n<title>139829713965712</title>\n<polygon fill=\"none\" points=\"93,-1909.5 93,-1955.5 419,-1955.5 419,-1909.5 93,-1909.5\" stroke=\"#000000\"/>\n<text fill=\"#000000\" font-family=\"Times,serif\" font-size=\"14.00\" text-anchor=\"middle\" x=\"172\" y=\"-1928.8\">block4_conv1: Conv1D</text>\n<polyline fill=\"none\" points=\"251,-1909.5 251,-1955.5 \" stroke=\"#000000\"/>\n<text fill=\"#000000\" font-family=\"Times,serif\" font-size=\"14.00\" text-anchor=\"middle\" x=\"280\" y=\"-1940.3\">input:</text>\n<polyline fill=\"none\" points=\"251,-1932.5 309,-1932.5 \" stroke=\"#000000\"/>\n<text fill=\"#000000\" font-family=\"Times,serif\" font-size=\"14.00\" text-anchor=\"middle\" x=\"280\" y=\"-1917.3\">output:</text>\n<polyline fill=\"none\" points=\"309,-1909.5 309,-1955.5 \" stroke=\"#000000\"/>\n<text fill=\"#000000\" font-family=\"Times,serif\" font-size=\"14.00\" text-anchor=\"middle\" x=\"364\" y=\"-1940.3\">(None, 79, 128)</text>\n<polyline fill=\"none\" points=\"309,-1932.5 419,-1932.5 \" stroke=\"#000000\"/>\n<text fill=\"#000000\" font-family=\"Times,serif\" font-size=\"14.00\" text-anchor=\"middle\" x=\"364\" y=\"-1917.3\">(None, 79, 256)</text>\n</g>\n<!-- 139829708801488&#45;&gt;139829713965712 -->\n<g class=\"edge\" id=\"edge25\">\n<title>139829708801488-&gt;139829713965712</title>\n<path d=\"M256,-1992.3799C256,-1984.1745 256,-1974.7679 256,-1965.8786\" fill=\"none\" stroke=\"#000000\"/>\n<polygon fill=\"#000000\" points=\"259.5001,-1965.784 256,-1955.784 252.5001,-1965.784 259.5001,-1965.784\" stroke=\"#000000\"/>\n</g>\n<!-- 139829696201936 -->\n<g class=\"node\" id=\"node27\">\n<title>139829696201936</title>\n<polygon fill=\"none\" points=\"29,-1826.5 29,-1872.5 483,-1872.5 483,-1826.5 29,-1826.5\" stroke=\"#000000\"/>\n<text fill=\"#000000\" font-family=\"Times,serif\" font-size=\"14.00\" text-anchor=\"middle\" x=\"172\" y=\"-1845.8\">batch_normalization_160: BatchNormalization</text>\n<polyline fill=\"none\" points=\"315,-1826.5 315,-1872.5 \" stroke=\"#000000\"/>\n<text fill=\"#000000\" font-family=\"Times,serif\" font-size=\"14.00\" text-anchor=\"middle\" x=\"344\" y=\"-1857.3\">input:</text>\n<polyline fill=\"none\" points=\"315,-1849.5 373,-1849.5 \" stroke=\"#000000\"/>\n<text fill=\"#000000\" font-family=\"Times,serif\" font-size=\"14.00\" text-anchor=\"middle\" x=\"344\" y=\"-1834.3\">output:</text>\n<polyline fill=\"none\" points=\"373,-1826.5 373,-1872.5 \" stroke=\"#000000\"/>\n<text fill=\"#000000\" font-family=\"Times,serif\" font-size=\"14.00\" text-anchor=\"middle\" x=\"428\" y=\"-1857.3\">(None, 79, 256)</text>\n<polyline fill=\"none\" points=\"373,-1849.5 483,-1849.5 \" stroke=\"#000000\"/>\n<text fill=\"#000000\" font-family=\"Times,serif\" font-size=\"14.00\" text-anchor=\"middle\" x=\"428\" y=\"-1834.3\">(None, 79, 256)</text>\n</g>\n<!-- 139829713965712&#45;&gt;139829696201936 -->\n<g class=\"edge\" id=\"edge26\">\n<title>139829713965712-&gt;139829696201936</title>\n<path d=\"M256,-1909.3799C256,-1901.1745 256,-1891.7679 256,-1882.8786\" fill=\"none\" stroke=\"#000000\"/>\n<polygon fill=\"#000000\" points=\"259.5001,-1882.784 256,-1872.784 252.5001,-1882.784 259.5001,-1882.784\" stroke=\"#000000\"/>\n</g>\n<!-- 139829712789200 -->\n<g class=\"node\" id=\"node28\">\n<title>139829712789200</title>\n<polygon fill=\"none\" points=\"95,-1743.5 95,-1789.5 417,-1789.5 417,-1743.5 95,-1743.5\" stroke=\"#000000\"/>\n<text fill=\"#000000\" font-family=\"Times,serif\" font-size=\"14.00\" text-anchor=\"middle\" x=\"172\" y=\"-1762.8\">block4_act1: Activation</text>\n<polyline fill=\"none\" points=\"249,-1743.5 249,-1789.5 \" stroke=\"#000000\"/>\n<text fill=\"#000000\" font-family=\"Times,serif\" font-size=\"14.00\" text-anchor=\"middle\" x=\"278\" y=\"-1774.3\">input:</text>\n<polyline fill=\"none\" points=\"249,-1766.5 307,-1766.5 \" stroke=\"#000000\"/>\n<text fill=\"#000000\" font-family=\"Times,serif\" font-size=\"14.00\" text-anchor=\"middle\" x=\"278\" y=\"-1751.3\">output:</text>\n<polyline fill=\"none\" points=\"307,-1743.5 307,-1789.5 \" stroke=\"#000000\"/>\n<text fill=\"#000000\" font-family=\"Times,serif\" font-size=\"14.00\" text-anchor=\"middle\" x=\"362\" y=\"-1774.3\">(None, 79, 256)</text>\n<polyline fill=\"none\" points=\"307,-1766.5 417,-1766.5 \" stroke=\"#000000\"/>\n<text fill=\"#000000\" font-family=\"Times,serif\" font-size=\"14.00\" text-anchor=\"middle\" x=\"362\" y=\"-1751.3\">(None, 79, 256)</text>\n</g>\n<!-- 139829696201936&#45;&gt;139829712789200 -->\n<g class=\"edge\" id=\"edge27\">\n<title>139829696201936-&gt;139829712789200</title>\n<path d=\"M256,-1826.3799C256,-1818.1745 256,-1808.7679 256,-1799.8786\" fill=\"none\" stroke=\"#000000\"/>\n<polygon fill=\"#000000\" points=\"259.5001,-1799.784 256,-1789.784 252.5001,-1799.784 259.5001,-1799.784\" stroke=\"#000000\"/>\n</g>\n<!-- 139829707176784 -->\n<g class=\"node\" id=\"node29\">\n<title>139829707176784</title>\n<polygon fill=\"none\" points=\"93,-1660.5 93,-1706.5 419,-1706.5 419,-1660.5 93,-1660.5\" stroke=\"#000000\"/>\n<text fill=\"#000000\" font-family=\"Times,serif\" font-size=\"14.00\" text-anchor=\"middle\" x=\"172\" y=\"-1679.8\">block4_conv2: Conv1D</text>\n<polyline fill=\"none\" points=\"251,-1660.5 251,-1706.5 \" stroke=\"#000000\"/>\n<text fill=\"#000000\" font-family=\"Times,serif\" font-size=\"14.00\" text-anchor=\"middle\" x=\"280\" y=\"-1691.3\">input:</text>\n<polyline fill=\"none\" points=\"251,-1683.5 309,-1683.5 \" stroke=\"#000000\"/>\n<text fill=\"#000000\" font-family=\"Times,serif\" font-size=\"14.00\" text-anchor=\"middle\" x=\"280\" y=\"-1668.3\">output:</text>\n<polyline fill=\"none\" points=\"309,-1660.5 309,-1706.5 \" stroke=\"#000000\"/>\n<text fill=\"#000000\" font-family=\"Times,serif\" font-size=\"14.00\" text-anchor=\"middle\" x=\"364\" y=\"-1691.3\">(None, 79, 256)</text>\n<polyline fill=\"none\" points=\"309,-1683.5 419,-1683.5 \" stroke=\"#000000\"/>\n<text fill=\"#000000\" font-family=\"Times,serif\" font-size=\"14.00\" text-anchor=\"middle\" x=\"364\" y=\"-1668.3\">(None, 79, 256)</text>\n</g>\n<!-- 139829712789200&#45;&gt;139829707176784 -->\n<g class=\"edge\" id=\"edge28\">\n<title>139829712789200-&gt;139829707176784</title>\n<path d=\"M256,-1743.3799C256,-1735.1745 256,-1725.7679 256,-1716.8786\" fill=\"none\" stroke=\"#000000\"/>\n<polygon fill=\"#000000\" points=\"259.5001,-1716.784 256,-1706.784 252.5001,-1716.784 259.5001,-1716.784\" stroke=\"#000000\"/>\n</g>\n<!-- 139830112471248 -->\n<g class=\"node\" id=\"node30\">\n<title>139830112471248</title>\n<polygon fill=\"none\" points=\"29,-1577.5 29,-1623.5 483,-1623.5 483,-1577.5 29,-1577.5\" stroke=\"#000000\"/>\n<text fill=\"#000000\" font-family=\"Times,serif\" font-size=\"14.00\" text-anchor=\"middle\" x=\"172\" y=\"-1596.8\">batch_normalization_161: BatchNormalization</text>\n<polyline fill=\"none\" points=\"315,-1577.5 315,-1623.5 \" stroke=\"#000000\"/>\n<text fill=\"#000000\" font-family=\"Times,serif\" font-size=\"14.00\" text-anchor=\"middle\" x=\"344\" y=\"-1608.3\">input:</text>\n<polyline fill=\"none\" points=\"315,-1600.5 373,-1600.5 \" stroke=\"#000000\"/>\n<text fill=\"#000000\" font-family=\"Times,serif\" font-size=\"14.00\" text-anchor=\"middle\" x=\"344\" y=\"-1585.3\">output:</text>\n<polyline fill=\"none\" points=\"373,-1577.5 373,-1623.5 \" stroke=\"#000000\"/>\n<text fill=\"#000000\" font-family=\"Times,serif\" font-size=\"14.00\" text-anchor=\"middle\" x=\"428\" y=\"-1608.3\">(None, 79, 256)</text>\n<polyline fill=\"none\" points=\"373,-1600.5 483,-1600.5 \" stroke=\"#000000\"/>\n<text fill=\"#000000\" font-family=\"Times,serif\" font-size=\"14.00\" text-anchor=\"middle\" x=\"428\" y=\"-1585.3\">(None, 79, 256)</text>\n</g>\n<!-- 139829707176784&#45;&gt;139830112471248 -->\n<g class=\"edge\" id=\"edge29\">\n<title>139829707176784-&gt;139830112471248</title>\n<path d=\"M256,-1660.3799C256,-1652.1745 256,-1642.7679 256,-1633.8786\" fill=\"none\" stroke=\"#000000\"/>\n<polygon fill=\"#000000\" points=\"259.5001,-1633.784 256,-1623.784 252.5001,-1633.784 259.5001,-1633.784\" stroke=\"#000000\"/>\n</g>\n<!-- 139829714737680 -->\n<g class=\"node\" id=\"node31\">\n<title>139829714737680</title>\n<polygon fill=\"none\" points=\"95,-1494.5 95,-1540.5 417,-1540.5 417,-1494.5 95,-1494.5\" stroke=\"#000000\"/>\n<text fill=\"#000000\" font-family=\"Times,serif\" font-size=\"14.00\" text-anchor=\"middle\" x=\"172\" y=\"-1513.8\">block4_act2: Activation</text>\n<polyline fill=\"none\" points=\"249,-1494.5 249,-1540.5 \" stroke=\"#000000\"/>\n<text fill=\"#000000\" font-family=\"Times,serif\" font-size=\"14.00\" text-anchor=\"middle\" x=\"278\" y=\"-1525.3\">input:</text>\n<polyline fill=\"none\" points=\"249,-1517.5 307,-1517.5 \" stroke=\"#000000\"/>\n<text fill=\"#000000\" font-family=\"Times,serif\" font-size=\"14.00\" text-anchor=\"middle\" x=\"278\" y=\"-1502.3\">output:</text>\n<polyline fill=\"none\" points=\"307,-1494.5 307,-1540.5 \" stroke=\"#000000\"/>\n<text fill=\"#000000\" font-family=\"Times,serif\" font-size=\"14.00\" text-anchor=\"middle\" x=\"362\" y=\"-1525.3\">(None, 79, 256)</text>\n<polyline fill=\"none\" points=\"307,-1517.5 417,-1517.5 \" stroke=\"#000000\"/>\n<text fill=\"#000000\" font-family=\"Times,serif\" font-size=\"14.00\" text-anchor=\"middle\" x=\"362\" y=\"-1502.3\">(None, 79, 256)</text>\n</g>\n<!-- 139830112471248&#45;&gt;139829714737680 -->\n<g class=\"edge\" id=\"edge30\">\n<title>139830112471248-&gt;139829714737680</title>\n<path d=\"M256,-1577.3799C256,-1569.1745 256,-1559.7679 256,-1550.8786\" fill=\"none\" stroke=\"#000000\"/>\n<polygon fill=\"#000000\" points=\"259.5001,-1550.784 256,-1540.784 252.5001,-1550.784 259.5001,-1550.784\" stroke=\"#000000\"/>\n</g>\n<!-- 139829712785744 -->\n<g class=\"node\" id=\"node32\">\n<title>139829712785744</title>\n<polygon fill=\"none\" points=\"78,-1411.5 78,-1457.5 434,-1457.5 434,-1411.5 78,-1411.5\" stroke=\"#000000\"/>\n<text fill=\"#000000\" font-family=\"Times,serif\" font-size=\"14.00\" text-anchor=\"middle\" x=\"172\" y=\"-1430.8\">block4_pool: MaxPooling1D</text>\n<polyline fill=\"none\" points=\"266,-1411.5 266,-1457.5 \" stroke=\"#000000\"/>\n<text fill=\"#000000\" font-family=\"Times,serif\" font-size=\"14.00\" text-anchor=\"middle\" x=\"295\" y=\"-1442.3\">input:</text>\n<polyline fill=\"none\" points=\"266,-1434.5 324,-1434.5 \" stroke=\"#000000\"/>\n<text fill=\"#000000\" font-family=\"Times,serif\" font-size=\"14.00\" text-anchor=\"middle\" x=\"295\" y=\"-1419.3\">output:</text>\n<polyline fill=\"none\" points=\"324,-1411.5 324,-1457.5 \" stroke=\"#000000\"/>\n<text fill=\"#000000\" font-family=\"Times,serif\" font-size=\"14.00\" text-anchor=\"middle\" x=\"379\" y=\"-1442.3\">(None, 79, 256)</text>\n<polyline fill=\"none\" points=\"324,-1434.5 434,-1434.5 \" stroke=\"#000000\"/>\n<text fill=\"#000000\" font-family=\"Times,serif\" font-size=\"14.00\" text-anchor=\"middle\" x=\"379\" y=\"-1419.3\">(None, 20, 256)</text>\n</g>\n<!-- 139829714737680&#45;&gt;139829712785744 -->\n<g class=\"edge\" id=\"edge31\">\n<title>139829714737680-&gt;139829712785744</title>\n<path d=\"M256,-1494.3799C256,-1486.1745 256,-1476.7679 256,-1467.8786\" fill=\"none\" stroke=\"#000000\"/>\n<polygon fill=\"#000000\" points=\"259.5001,-1467.784 256,-1457.784 252.5001,-1467.784 259.5001,-1467.784\" stroke=\"#000000\"/>\n</g>\n<!-- 139831253314896 -->\n<g class=\"node\" id=\"node33\">\n<title>139831253314896</title>\n<polygon fill=\"none\" points=\"89,-1328.5 89,-1374.5 423,-1374.5 423,-1328.5 89,-1328.5\" stroke=\"#000000\"/>\n<text fill=\"#000000\" font-family=\"Times,serif\" font-size=\"14.00\" text-anchor=\"middle\" x=\"172\" y=\"-1347.8\">block4_dropout: Dropout</text>\n<polyline fill=\"none\" points=\"255,-1328.5 255,-1374.5 \" stroke=\"#000000\"/>\n<text fill=\"#000000\" font-family=\"Times,serif\" font-size=\"14.00\" text-anchor=\"middle\" x=\"284\" y=\"-1359.3\">input:</text>\n<polyline fill=\"none\" points=\"255,-1351.5 313,-1351.5 \" stroke=\"#000000\"/>\n<text fill=\"#000000\" font-family=\"Times,serif\" font-size=\"14.00\" text-anchor=\"middle\" x=\"284\" y=\"-1336.3\">output:</text>\n<polyline fill=\"none\" points=\"313,-1328.5 313,-1374.5 \" stroke=\"#000000\"/>\n<text fill=\"#000000\" font-family=\"Times,serif\" font-size=\"14.00\" text-anchor=\"middle\" x=\"368\" y=\"-1359.3\">(None, 20, 256)</text>\n<polyline fill=\"none\" points=\"313,-1351.5 423,-1351.5 \" stroke=\"#000000\"/>\n<text fill=\"#000000\" font-family=\"Times,serif\" font-size=\"14.00\" text-anchor=\"middle\" x=\"368\" y=\"-1336.3\">(None, 20, 256)</text>\n</g>\n<!-- 139829712785744&#45;&gt;139831253314896 -->\n<g class=\"edge\" id=\"edge32\">\n<title>139829712785744-&gt;139831253314896</title>\n<path d=\"M256,-1411.3799C256,-1403.1745 256,-1393.7679 256,-1384.8786\" fill=\"none\" stroke=\"#000000\"/>\n<polygon fill=\"#000000\" points=\"259.5001,-1384.784 256,-1374.784 252.5001,-1384.784 259.5001,-1384.784\" stroke=\"#000000\"/>\n</g>\n<!-- 139829708569360 -->\n<g class=\"node\" id=\"node34\">\n<title>139829708569360</title>\n<polygon fill=\"none\" points=\"76,-1245.5 76,-1291.5 436,-1291.5 436,-1245.5 76,-1245.5\" stroke=\"#000000\"/>\n<text fill=\"#000000\" font-family=\"Times,serif\" font-size=\"14.00\" text-anchor=\"middle\" x=\"172\" y=\"-1264.8\">resnet_block_22: ResnetBlock</text>\n<polyline fill=\"none\" points=\"268,-1245.5 268,-1291.5 \" stroke=\"#000000\"/>\n<text fill=\"#000000\" font-family=\"Times,serif\" font-size=\"14.00\" text-anchor=\"middle\" x=\"297\" y=\"-1276.3\">input:</text>\n<polyline fill=\"none\" points=\"268,-1268.5 326,-1268.5 \" stroke=\"#000000\"/>\n<text fill=\"#000000\" font-family=\"Times,serif\" font-size=\"14.00\" text-anchor=\"middle\" x=\"297\" y=\"-1253.3\">output:</text>\n<polyline fill=\"none\" points=\"326,-1245.5 326,-1291.5 \" stroke=\"#000000\"/>\n<text fill=\"#000000\" font-family=\"Times,serif\" font-size=\"14.00\" text-anchor=\"middle\" x=\"381\" y=\"-1276.3\">(None, 20, 256)</text>\n<polyline fill=\"none\" points=\"326,-1268.5 436,-1268.5 \" stroke=\"#000000\"/>\n<text fill=\"#000000\" font-family=\"Times,serif\" font-size=\"14.00\" text-anchor=\"middle\" x=\"381\" y=\"-1253.3\">(None, 20, 256)</text>\n</g>\n<!-- 139831253314896&#45;&gt;139829708569360 -->\n<g class=\"edge\" id=\"edge33\">\n<title>139831253314896-&gt;139829708569360</title>\n<path d=\"M256,-1328.3799C256,-1320.1745 256,-1310.7679 256,-1301.8786\" fill=\"none\" stroke=\"#000000\"/>\n<polygon fill=\"#000000\" points=\"259.5001,-1301.784 256,-1291.784 252.5001,-1301.784 259.5001,-1301.784\" stroke=\"#000000\"/>\n</g>\n<!-- 139831253235472 -->\n<g class=\"node\" id=\"node35\">\n<title>139831253235472</title>\n<polygon fill=\"none\" points=\"97.5,-1162.5 97.5,-1208.5 414.5,-1208.5 414.5,-1162.5 97.5,-1162.5\" stroke=\"#000000\"/>\n<text fill=\"#000000\" font-family=\"Times,serif\" font-size=\"14.00\" text-anchor=\"middle\" x=\"172\" y=\"-1181.8\">res1_dropout: Dropout</text>\n<polyline fill=\"none\" points=\"246.5,-1162.5 246.5,-1208.5 \" stroke=\"#000000\"/>\n<text fill=\"#000000\" font-family=\"Times,serif\" font-size=\"14.00\" text-anchor=\"middle\" x=\"275.5\" y=\"-1193.3\">input:</text>\n<polyline fill=\"none\" points=\"246.5,-1185.5 304.5,-1185.5 \" stroke=\"#000000\"/>\n<text fill=\"#000000\" font-family=\"Times,serif\" font-size=\"14.00\" text-anchor=\"middle\" x=\"275.5\" y=\"-1170.3\">output:</text>\n<polyline fill=\"none\" points=\"304.5,-1162.5 304.5,-1208.5 \" stroke=\"#000000\"/>\n<text fill=\"#000000\" font-family=\"Times,serif\" font-size=\"14.00\" text-anchor=\"middle\" x=\"359.5\" y=\"-1193.3\">(None, 20, 256)</text>\n<polyline fill=\"none\" points=\"304.5,-1185.5 414.5,-1185.5 \" stroke=\"#000000\"/>\n<text fill=\"#000000\" font-family=\"Times,serif\" font-size=\"14.00\" text-anchor=\"middle\" x=\"359.5\" y=\"-1170.3\">(None, 20, 256)</text>\n</g>\n<!-- 139829708569360&#45;&gt;139831253235472 -->\n<g class=\"edge\" id=\"edge34\">\n<title>139829708569360-&gt;139831253235472</title>\n<path d=\"M256,-1245.3799C256,-1237.1745 256,-1227.7679 256,-1218.8786\" fill=\"none\" stroke=\"#000000\"/>\n<polygon fill=\"#000000\" points=\"259.5001,-1218.784 256,-1208.784 252.5001,-1218.784 259.5001,-1218.784\" stroke=\"#000000\"/>\n</g>\n<!-- 139829713975632 -->\n<g class=\"node\" id=\"node36\">\n<title>139829713975632</title>\n<polygon fill=\"none\" points=\"76,-1079.5 76,-1125.5 436,-1125.5 436,-1079.5 76,-1079.5\" stroke=\"#000000\"/>\n<text fill=\"#000000\" font-family=\"Times,serif\" font-size=\"14.00\" text-anchor=\"middle\" x=\"172\" y=\"-1098.8\">resnet_block_23: ResnetBlock</text>\n<polyline fill=\"none\" points=\"268,-1079.5 268,-1125.5 \" stroke=\"#000000\"/>\n<text fill=\"#000000\" font-family=\"Times,serif\" font-size=\"14.00\" text-anchor=\"middle\" x=\"297\" y=\"-1110.3\">input:</text>\n<polyline fill=\"none\" points=\"268,-1102.5 326,-1102.5 \" stroke=\"#000000\"/>\n<text fill=\"#000000\" font-family=\"Times,serif\" font-size=\"14.00\" text-anchor=\"middle\" x=\"297\" y=\"-1087.3\">output:</text>\n<polyline fill=\"none\" points=\"326,-1079.5 326,-1125.5 \" stroke=\"#000000\"/>\n<text fill=\"#000000\" font-family=\"Times,serif\" font-size=\"14.00\" text-anchor=\"middle\" x=\"381\" y=\"-1110.3\">(None, 20, 256)</text>\n<polyline fill=\"none\" points=\"326,-1102.5 436,-1102.5 \" stroke=\"#000000\"/>\n<text fill=\"#000000\" font-family=\"Times,serif\" font-size=\"14.00\" text-anchor=\"middle\" x=\"381\" y=\"-1087.3\">(None, 10, 512)</text>\n</g>\n<!-- 139831253235472&#45;&gt;139829713975632 -->\n<g class=\"edge\" id=\"edge35\">\n<title>139831253235472-&gt;139829713975632</title>\n<path d=\"M256,-1162.3799C256,-1154.1745 256,-1144.7679 256,-1135.8786\" fill=\"none\" stroke=\"#000000\"/>\n<polygon fill=\"#000000\" points=\"259.5001,-1135.784 256,-1125.784 252.5001,-1135.784 259.5001,-1135.784\" stroke=\"#000000\"/>\n</g>\n<!-- 139830112308816 -->\n<g class=\"node\" id=\"node37\">\n<title>139830112308816</title>\n<polygon fill=\"none\" points=\"97.5,-996.5 97.5,-1042.5 414.5,-1042.5 414.5,-996.5 97.5,-996.5\" stroke=\"#000000\"/>\n<text fill=\"#000000\" font-family=\"Times,serif\" font-size=\"14.00\" text-anchor=\"middle\" x=\"172\" y=\"-1015.8\">res2_dropout: Dropout</text>\n<polyline fill=\"none\" points=\"246.5,-996.5 246.5,-1042.5 \" stroke=\"#000000\"/>\n<text fill=\"#000000\" font-family=\"Times,serif\" font-size=\"14.00\" text-anchor=\"middle\" x=\"275.5\" y=\"-1027.3\">input:</text>\n<polyline fill=\"none\" points=\"246.5,-1019.5 304.5,-1019.5 \" stroke=\"#000000\"/>\n<text fill=\"#000000\" font-family=\"Times,serif\" font-size=\"14.00\" text-anchor=\"middle\" x=\"275.5\" y=\"-1004.3\">output:</text>\n<polyline fill=\"none\" points=\"304.5,-996.5 304.5,-1042.5 \" stroke=\"#000000\"/>\n<text fill=\"#000000\" font-family=\"Times,serif\" font-size=\"14.00\" text-anchor=\"middle\" x=\"359.5\" y=\"-1027.3\">(None, 10, 512)</text>\n<polyline fill=\"none\" points=\"304.5,-1019.5 414.5,-1019.5 \" stroke=\"#000000\"/>\n<text fill=\"#000000\" font-family=\"Times,serif\" font-size=\"14.00\" text-anchor=\"middle\" x=\"359.5\" y=\"-1004.3\">(None, 10, 512)</text>\n</g>\n<!-- 139829713975632&#45;&gt;139830112308816 -->\n<g class=\"edge\" id=\"edge36\">\n<title>139829713975632-&gt;139830112308816</title>\n<path d=\"M256,-1079.3799C256,-1071.1745 256,-1061.7679 256,-1052.8786\" fill=\"none\" stroke=\"#000000\"/>\n<polygon fill=\"#000000\" points=\"259.5001,-1052.784 256,-1042.784 252.5001,-1052.784 259.5001,-1052.784\" stroke=\"#000000\"/>\n</g>\n<!-- 139829710555792 -->\n<g class=\"node\" id=\"node38\">\n<title>139829710555792</title>\n<polygon fill=\"none\" points=\"0,-913.5 0,-959.5 512,-959.5 512,-913.5 0,-913.5\" stroke=\"#000000\"/>\n<text fill=\"#000000\" font-family=\"Times,serif\" font-size=\"14.00\" text-anchor=\"middle\" x=\"172\" y=\"-932.8\">global_average_pooling1d_4: GlobalAveragePooling1D</text>\n<polyline fill=\"none\" points=\"344,-913.5 344,-959.5 \" stroke=\"#000000\"/>\n<text fill=\"#000000\" font-family=\"Times,serif\" font-size=\"14.00\" text-anchor=\"middle\" x=\"373\" y=\"-944.3\">input:</text>\n<polyline fill=\"none\" points=\"344,-936.5 402,-936.5 \" stroke=\"#000000\"/>\n<text fill=\"#000000\" font-family=\"Times,serif\" font-size=\"14.00\" text-anchor=\"middle\" x=\"373\" y=\"-921.3\">output:</text>\n<polyline fill=\"none\" points=\"402,-913.5 402,-959.5 \" stroke=\"#000000\"/>\n<text fill=\"#000000\" font-family=\"Times,serif\" font-size=\"14.00\" text-anchor=\"middle\" x=\"457\" y=\"-944.3\">(None, 10, 512)</text>\n<polyline fill=\"none\" points=\"402,-936.5 512,-936.5 \" stroke=\"#000000\"/>\n<text fill=\"#000000\" font-family=\"Times,serif\" font-size=\"14.00\" text-anchor=\"middle\" x=\"457\" y=\"-921.3\">(None, 512)</text>\n</g>\n<!-- 139830112308816&#45;&gt;139829710555792 -->\n<g class=\"edge\" id=\"edge37\">\n<title>139830112308816-&gt;139829710555792</title>\n<path d=\"M256,-996.3799C256,-988.1745 256,-978.7679 256,-969.8786\" fill=\"none\" stroke=\"#000000\"/>\n<polygon fill=\"#000000\" points=\"259.5001,-969.784 256,-959.784 252.5001,-969.784 259.5001,-969.784\" stroke=\"#000000\"/>\n</g>\n<!-- 139830111025360 -->\n<g class=\"node\" id=\"node39\">\n<title>139830111025360</title>\n<polygon fill=\"none\" points=\"134.5,-830.5 134.5,-876.5 377.5,-876.5 377.5,-830.5 134.5,-830.5\" stroke=\"#000000\"/>\n<text fill=\"#000000\" font-family=\"Times,serif\" font-size=\"14.00\" text-anchor=\"middle\" x=\"183.5\" y=\"-849.8\">flatten: Flatten</text>\n<polyline fill=\"none\" points=\"232.5,-830.5 232.5,-876.5 \" stroke=\"#000000\"/>\n<text fill=\"#000000\" font-family=\"Times,serif\" font-size=\"14.00\" text-anchor=\"middle\" x=\"261.5\" y=\"-861.3\">input:</text>\n<polyline fill=\"none\" points=\"232.5,-853.5 290.5,-853.5 \" stroke=\"#000000\"/>\n<text fill=\"#000000\" font-family=\"Times,serif\" font-size=\"14.00\" text-anchor=\"middle\" x=\"261.5\" y=\"-838.3\">output:</text>\n<polyline fill=\"none\" points=\"290.5,-830.5 290.5,-876.5 \" stroke=\"#000000\"/>\n<text fill=\"#000000\" font-family=\"Times,serif\" font-size=\"14.00\" text-anchor=\"middle\" x=\"334\" y=\"-861.3\">(None, 512)</text>\n<polyline fill=\"none\" points=\"290.5,-853.5 377.5,-853.5 \" stroke=\"#000000\"/>\n<text fill=\"#000000\" font-family=\"Times,serif\" font-size=\"14.00\" text-anchor=\"middle\" x=\"334\" y=\"-838.3\">(None, 512)</text>\n</g>\n<!-- 139829710555792&#45;&gt;139830111025360 -->\n<g class=\"edge\" id=\"edge38\">\n<title>139829710555792-&gt;139830111025360</title>\n<path d=\"M256,-913.3799C256,-905.1745 256,-895.7679 256,-886.8786\" fill=\"none\" stroke=\"#000000\"/>\n<polygon fill=\"#000000\" points=\"259.5001,-886.784 256,-876.784 252.5001,-886.784 259.5001,-886.784\" stroke=\"#000000\"/>\n</g>\n<!-- 139831252084816 -->\n<g class=\"node\" id=\"node40\">\n<title>139831252084816</title>\n<polygon fill=\"none\" points=\"145,-747.5 145,-793.5 367,-793.5 367,-747.5 145,-747.5\" stroke=\"#000000\"/>\n<text fill=\"#000000\" font-family=\"Times,serif\" font-size=\"14.00\" text-anchor=\"middle\" x=\"183.5\" y=\"-766.8\">fc1: Dense</text>\n<polyline fill=\"none\" points=\"222,-747.5 222,-793.5 \" stroke=\"#000000\"/>\n<text fill=\"#000000\" font-family=\"Times,serif\" font-size=\"14.00\" text-anchor=\"middle\" x=\"251\" y=\"-778.3\">input:</text>\n<polyline fill=\"none\" points=\"222,-770.5 280,-770.5 \" stroke=\"#000000\"/>\n<text fill=\"#000000\" font-family=\"Times,serif\" font-size=\"14.00\" text-anchor=\"middle\" x=\"251\" y=\"-755.3\">output:</text>\n<polyline fill=\"none\" points=\"280,-747.5 280,-793.5 \" stroke=\"#000000\"/>\n<text fill=\"#000000\" font-family=\"Times,serif\" font-size=\"14.00\" text-anchor=\"middle\" x=\"323.5\" y=\"-778.3\">(None, 512)</text>\n<polyline fill=\"none\" points=\"280,-770.5 367,-770.5 \" stroke=\"#000000\"/>\n<text fill=\"#000000\" font-family=\"Times,serif\" font-size=\"14.00\" text-anchor=\"middle\" x=\"323.5\" y=\"-755.3\">(None, 512)</text>\n</g>\n<!-- 139830111025360&#45;&gt;139831252084816 -->\n<g class=\"edge\" id=\"edge39\">\n<title>139830111025360-&gt;139831252084816</title>\n<path d=\"M256,-830.3799C256,-822.1745 256,-812.7679 256,-803.8786\" fill=\"none\" stroke=\"#000000\"/>\n<polygon fill=\"#000000\" points=\"259.5001,-803.784 256,-793.784 252.5001,-803.784 259.5001,-803.784\" stroke=\"#000000\"/>\n</g>\n<!-- 139829714421456 -->\n<g class=\"node\" id=\"node41\">\n<title>139829714421456</title>\n<polygon fill=\"none\" points=\"40.5,-664.5 40.5,-710.5 471.5,-710.5 471.5,-664.5 40.5,-664.5\" stroke=\"#000000\"/>\n<text fill=\"#000000\" font-family=\"Times,serif\" font-size=\"14.00\" text-anchor=\"middle\" x=\"183.5\" y=\"-683.8\">batch_normalization_170: BatchNormalization</text>\n<polyline fill=\"none\" points=\"326.5,-664.5 326.5,-710.5 \" stroke=\"#000000\"/>\n<text fill=\"#000000\" font-family=\"Times,serif\" font-size=\"14.00\" text-anchor=\"middle\" x=\"355.5\" y=\"-695.3\">input:</text>\n<polyline fill=\"none\" points=\"326.5,-687.5 384.5,-687.5 \" stroke=\"#000000\"/>\n<text fill=\"#000000\" font-family=\"Times,serif\" font-size=\"14.00\" text-anchor=\"middle\" x=\"355.5\" y=\"-672.3\">output:</text>\n<polyline fill=\"none\" points=\"384.5,-664.5 384.5,-710.5 \" stroke=\"#000000\"/>\n<text fill=\"#000000\" font-family=\"Times,serif\" font-size=\"14.00\" text-anchor=\"middle\" x=\"428\" y=\"-695.3\">(None, 512)</text>\n<polyline fill=\"none\" points=\"384.5,-687.5 471.5,-687.5 \" stroke=\"#000000\"/>\n<text fill=\"#000000\" font-family=\"Times,serif\" font-size=\"14.00\" text-anchor=\"middle\" x=\"428\" y=\"-672.3\">(None, 512)</text>\n</g>\n<!-- 139831252084816&#45;&gt;139829714421456 -->\n<g class=\"edge\" id=\"edge40\">\n<title>139831252084816-&gt;139829714421456</title>\n<path d=\"M256,-747.3799C256,-739.1745 256,-729.7679 256,-720.8786\" fill=\"none\" stroke=\"#000000\"/>\n<polygon fill=\"#000000\" points=\"259.5001,-720.784 256,-710.784 252.5001,-720.784 259.5001,-720.784\" stroke=\"#000000\"/>\n</g>\n<!-- 139829706136144 -->\n<g class=\"node\" id=\"node42\">\n<title>139829706136144</title>\n<polygon fill=\"none\" points=\"121,-581.5 121,-627.5 391,-627.5 391,-581.5 121,-581.5\" stroke=\"#000000\"/>\n<text fill=\"#000000\" font-family=\"Times,serif\" font-size=\"14.00\" text-anchor=\"middle\" x=\"183.5\" y=\"-600.8\">fc1_act: Activation</text>\n<polyline fill=\"none\" points=\"246,-581.5 246,-627.5 \" stroke=\"#000000\"/>\n<text fill=\"#000000\" font-family=\"Times,serif\" font-size=\"14.00\" text-anchor=\"middle\" x=\"275\" y=\"-612.3\">input:</text>\n<polyline fill=\"none\" points=\"246,-604.5 304,-604.5 \" stroke=\"#000000\"/>\n<text fill=\"#000000\" font-family=\"Times,serif\" font-size=\"14.00\" text-anchor=\"middle\" x=\"275\" y=\"-589.3\">output:</text>\n<polyline fill=\"none\" points=\"304,-581.5 304,-627.5 \" stroke=\"#000000\"/>\n<text fill=\"#000000\" font-family=\"Times,serif\" font-size=\"14.00\" text-anchor=\"middle\" x=\"347.5\" y=\"-612.3\">(None, 512)</text>\n<polyline fill=\"none\" points=\"304,-604.5 391,-604.5 \" stroke=\"#000000\"/>\n<text fill=\"#000000\" font-family=\"Times,serif\" font-size=\"14.00\" text-anchor=\"middle\" x=\"347.5\" y=\"-589.3\">(None, 512)</text>\n</g>\n<!-- 139829714421456&#45;&gt;139829706136144 -->\n<g class=\"edge\" id=\"edge41\">\n<title>139829714421456-&gt;139829706136144</title>\n<path d=\"M256,-664.3799C256,-656.1745 256,-646.7679 256,-637.8786\" fill=\"none\" stroke=\"#000000\"/>\n<polygon fill=\"#000000\" points=\"259.5001,-637.784 256,-627.784 252.5001,-637.784 259.5001,-637.784\" stroke=\"#000000\"/>\n</g>\n<!-- 139829695869136 -->\n<g class=\"node\" id=\"node43\">\n<title>139829695869136</title>\n<polygon fill=\"none\" points=\"111.5,-498.5 111.5,-544.5 400.5,-544.5 400.5,-498.5 111.5,-498.5\" stroke=\"#000000\"/>\n<text fill=\"#000000\" font-family=\"Times,serif\" font-size=\"14.00\" text-anchor=\"middle\" x=\"183.5\" y=\"-517.8\">fc1_dropout: Dropout</text>\n<polyline fill=\"none\" points=\"255.5,-498.5 255.5,-544.5 \" stroke=\"#000000\"/>\n<text fill=\"#000000\" font-family=\"Times,serif\" font-size=\"14.00\" text-anchor=\"middle\" x=\"284.5\" y=\"-529.3\">input:</text>\n<polyline fill=\"none\" points=\"255.5,-521.5 313.5,-521.5 \" stroke=\"#000000\"/>\n<text fill=\"#000000\" font-family=\"Times,serif\" font-size=\"14.00\" text-anchor=\"middle\" x=\"284.5\" y=\"-506.3\">output:</text>\n<polyline fill=\"none\" points=\"313.5,-498.5 313.5,-544.5 \" stroke=\"#000000\"/>\n<text fill=\"#000000\" font-family=\"Times,serif\" font-size=\"14.00\" text-anchor=\"middle\" x=\"357\" y=\"-529.3\">(None, 512)</text>\n<polyline fill=\"none\" points=\"313.5,-521.5 400.5,-521.5 \" stroke=\"#000000\"/>\n<text fill=\"#000000\" font-family=\"Times,serif\" font-size=\"14.00\" text-anchor=\"middle\" x=\"357\" y=\"-506.3\">(None, 512)</text>\n</g>\n<!-- 139829706136144&#45;&gt;139829695869136 -->\n<g class=\"edge\" id=\"edge42\">\n<title>139829706136144-&gt;139829695869136</title>\n<path d=\"M256,-581.3799C256,-573.1745 256,-563.7679 256,-554.8786\" fill=\"none\" stroke=\"#000000\"/>\n<polygon fill=\"#000000\" points=\"259.5001,-554.784 256,-544.784 252.5001,-554.784 259.5001,-554.784\" stroke=\"#000000\"/>\n</g>\n<!-- 139830112303632 -->\n<g class=\"node\" id=\"node44\">\n<title>139830112303632</title>\n<polygon fill=\"none\" points=\"145,-415.5 145,-461.5 367,-461.5 367,-415.5 145,-415.5\" stroke=\"#000000\"/>\n<text fill=\"#000000\" font-family=\"Times,serif\" font-size=\"14.00\" text-anchor=\"middle\" x=\"183.5\" y=\"-434.8\">fc2: Dense</text>\n<polyline fill=\"none\" points=\"222,-415.5 222,-461.5 \" stroke=\"#000000\"/>\n<text fill=\"#000000\" font-family=\"Times,serif\" font-size=\"14.00\" text-anchor=\"middle\" x=\"251\" y=\"-446.3\">input:</text>\n<polyline fill=\"none\" points=\"222,-438.5 280,-438.5 \" stroke=\"#000000\"/>\n<text fill=\"#000000\" font-family=\"Times,serif\" font-size=\"14.00\" text-anchor=\"middle\" x=\"251\" y=\"-423.3\">output:</text>\n<polyline fill=\"none\" points=\"280,-415.5 280,-461.5 \" stroke=\"#000000\"/>\n<text fill=\"#000000\" font-family=\"Times,serif\" font-size=\"14.00\" text-anchor=\"middle\" x=\"323.5\" y=\"-446.3\">(None, 512)</text>\n<polyline fill=\"none\" points=\"280,-438.5 367,-438.5 \" stroke=\"#000000\"/>\n<text fill=\"#000000\" font-family=\"Times,serif\" font-size=\"14.00\" text-anchor=\"middle\" x=\"323.5\" y=\"-423.3\">(None, 512)</text>\n</g>\n<!-- 139829695869136&#45;&gt;139830112303632 -->\n<g class=\"edge\" id=\"edge43\">\n<title>139829695869136-&gt;139830112303632</title>\n<path d=\"M256,-498.3799C256,-490.1745 256,-480.7679 256,-471.8786\" fill=\"none\" stroke=\"#000000\"/>\n<polygon fill=\"#000000\" points=\"259.5001,-471.784 256,-461.784 252.5001,-471.784 259.5001,-471.784\" stroke=\"#000000\"/>\n</g>\n<!-- 139829706137168 -->\n<g class=\"node\" id=\"node45\">\n<title>139829706137168</title>\n<polygon fill=\"none\" points=\"40.5,-332.5 40.5,-378.5 471.5,-378.5 471.5,-332.5 40.5,-332.5\" stroke=\"#000000\"/>\n<text fill=\"#000000\" font-family=\"Times,serif\" font-size=\"14.00\" text-anchor=\"middle\" x=\"183.5\" y=\"-351.8\">batch_normalization_171: BatchNormalization</text>\n<polyline fill=\"none\" points=\"326.5,-332.5 326.5,-378.5 \" stroke=\"#000000\"/>\n<text fill=\"#000000\" font-family=\"Times,serif\" font-size=\"14.00\" text-anchor=\"middle\" x=\"355.5\" y=\"-363.3\">input:</text>\n<polyline fill=\"none\" points=\"326.5,-355.5 384.5,-355.5 \" stroke=\"#000000\"/>\n<text fill=\"#000000\" font-family=\"Times,serif\" font-size=\"14.00\" text-anchor=\"middle\" x=\"355.5\" y=\"-340.3\">output:</text>\n<polyline fill=\"none\" points=\"384.5,-332.5 384.5,-378.5 \" stroke=\"#000000\"/>\n<text fill=\"#000000\" font-family=\"Times,serif\" font-size=\"14.00\" text-anchor=\"middle\" x=\"428\" y=\"-363.3\">(None, 512)</text>\n<polyline fill=\"none\" points=\"384.5,-355.5 471.5,-355.5 \" stroke=\"#000000\"/>\n<text fill=\"#000000\" font-family=\"Times,serif\" font-size=\"14.00\" text-anchor=\"middle\" x=\"428\" y=\"-340.3\">(None, 512)</text>\n</g>\n<!-- 139830112303632&#45;&gt;139829706137168 -->\n<g class=\"edge\" id=\"edge44\">\n<title>139830112303632-&gt;139829706137168</title>\n<path d=\"M256,-415.3799C256,-407.1745 256,-397.7679 256,-388.8786\" fill=\"none\" stroke=\"#000000\"/>\n<polygon fill=\"#000000\" points=\"259.5001,-388.784 256,-378.784 252.5001,-388.784 259.5001,-388.784\" stroke=\"#000000\"/>\n</g>\n<!-- 139829712871696 -->\n<g class=\"node\" id=\"node46\">\n<title>139829712871696</title>\n<polygon fill=\"none\" points=\"121,-249.5 121,-295.5 391,-295.5 391,-249.5 121,-249.5\" stroke=\"#000000\"/>\n<text fill=\"#000000\" font-family=\"Times,serif\" font-size=\"14.00\" text-anchor=\"middle\" x=\"183.5\" y=\"-268.8\">fc2_act: Activation</text>\n<polyline fill=\"none\" points=\"246,-249.5 246,-295.5 \" stroke=\"#000000\"/>\n<text fill=\"#000000\" font-family=\"Times,serif\" font-size=\"14.00\" text-anchor=\"middle\" x=\"275\" y=\"-280.3\">input:</text>\n<polyline fill=\"none\" points=\"246,-272.5 304,-272.5 \" stroke=\"#000000\"/>\n<text fill=\"#000000\" font-family=\"Times,serif\" font-size=\"14.00\" text-anchor=\"middle\" x=\"275\" y=\"-257.3\">output:</text>\n<polyline fill=\"none\" points=\"304,-249.5 304,-295.5 \" stroke=\"#000000\"/>\n<text fill=\"#000000\" font-family=\"Times,serif\" font-size=\"14.00\" text-anchor=\"middle\" x=\"347.5\" y=\"-280.3\">(None, 512)</text>\n<polyline fill=\"none\" points=\"304,-272.5 391,-272.5 \" stroke=\"#000000\"/>\n<text fill=\"#000000\" font-family=\"Times,serif\" font-size=\"14.00\" text-anchor=\"middle\" x=\"347.5\" y=\"-257.3\">(None, 512)</text>\n</g>\n<!-- 139829706137168&#45;&gt;139829712871696 -->\n<g class=\"edge\" id=\"edge45\">\n<title>139829706137168-&gt;139829712871696</title>\n<path d=\"M256,-332.3799C256,-324.1745 256,-314.7679 256,-305.8786\" fill=\"none\" stroke=\"#000000\"/>\n<polygon fill=\"#000000\" points=\"259.5001,-305.784 256,-295.784 252.5001,-305.784 259.5001,-305.784\" stroke=\"#000000\"/>\n</g>\n<!-- 139829712962384 -->\n<g class=\"node\" id=\"node47\">\n<title>139829712962384</title>\n<polygon fill=\"none\" points=\"111.5,-166.5 111.5,-212.5 400.5,-212.5 400.5,-166.5 111.5,-166.5\" stroke=\"#000000\"/>\n<text fill=\"#000000\" font-family=\"Times,serif\" font-size=\"14.00\" text-anchor=\"middle\" x=\"183.5\" y=\"-185.8\">fc2_dropout: Dropout</text>\n<polyline fill=\"none\" points=\"255.5,-166.5 255.5,-212.5 \" stroke=\"#000000\"/>\n<text fill=\"#000000\" font-family=\"Times,serif\" font-size=\"14.00\" text-anchor=\"middle\" x=\"284.5\" y=\"-197.3\">input:</text>\n<polyline fill=\"none\" points=\"255.5,-189.5 313.5,-189.5 \" stroke=\"#000000\"/>\n<text fill=\"#000000\" font-family=\"Times,serif\" font-size=\"14.00\" text-anchor=\"middle\" x=\"284.5\" y=\"-174.3\">output:</text>\n<polyline fill=\"none\" points=\"313.5,-166.5 313.5,-212.5 \" stroke=\"#000000\"/>\n<text fill=\"#000000\" font-family=\"Times,serif\" font-size=\"14.00\" text-anchor=\"middle\" x=\"357\" y=\"-197.3\">(None, 512)</text>\n<polyline fill=\"none\" points=\"313.5,-189.5 400.5,-189.5 \" stroke=\"#000000\"/>\n<text fill=\"#000000\" font-family=\"Times,serif\" font-size=\"14.00\" text-anchor=\"middle\" x=\"357\" y=\"-174.3\">(None, 512)</text>\n</g>\n<!-- 139829712871696&#45;&gt;139829712962384 -->\n<g class=\"edge\" id=\"edge46\">\n<title>139829712871696-&gt;139829712962384</title>\n<path d=\"M256,-249.3799C256,-241.1745 256,-231.7679 256,-222.8786\" fill=\"none\" stroke=\"#000000\"/>\n<polygon fill=\"#000000\" points=\"259.5001,-222.784 256,-212.784 252.5001,-222.784 259.5001,-222.784\" stroke=\"#000000\"/>\n</g>\n<!-- 139831253237072 -->\n<g class=\"node\" id=\"node48\">\n<title>139831253237072</title>\n<polygon fill=\"none\" points=\"145,-83.5 145,-129.5 367,-129.5 367,-83.5 145,-83.5\" stroke=\"#000000\"/>\n<text fill=\"#000000\" font-family=\"Times,serif\" font-size=\"14.00\" text-anchor=\"middle\" x=\"183.5\" y=\"-102.8\">fc3: Dense</text>\n<polyline fill=\"none\" points=\"222,-83.5 222,-129.5 \" stroke=\"#000000\"/>\n<text fill=\"#000000\" font-family=\"Times,serif\" font-size=\"14.00\" text-anchor=\"middle\" x=\"251\" y=\"-114.3\">input:</text>\n<polyline fill=\"none\" points=\"222,-106.5 280,-106.5 \" stroke=\"#000000\"/>\n<text fill=\"#000000\" font-family=\"Times,serif\" font-size=\"14.00\" text-anchor=\"middle\" x=\"251\" y=\"-91.3\">output:</text>\n<polyline fill=\"none\" points=\"280,-83.5 280,-129.5 \" stroke=\"#000000\"/>\n<text fill=\"#000000\" font-family=\"Times,serif\" font-size=\"14.00\" text-anchor=\"middle\" x=\"323.5\" y=\"-114.3\">(None, 512)</text>\n<polyline fill=\"none\" points=\"280,-106.5 367,-106.5 \" stroke=\"#000000\"/>\n<text fill=\"#000000\" font-family=\"Times,serif\" font-size=\"14.00\" text-anchor=\"middle\" x=\"323.5\" y=\"-91.3\">(None, 95)</text>\n</g>\n<!-- 139829712962384&#45;&gt;139831253237072 -->\n<g class=\"edge\" id=\"edge47\">\n<title>139829712962384-&gt;139831253237072</title>\n<path d=\"M256,-166.3799C256,-158.1745 256,-148.7679 256,-139.8786\" fill=\"none\" stroke=\"#000000\"/>\n<polygon fill=\"#000000\" points=\"259.5001,-139.784 256,-129.784 252.5001,-139.784 259.5001,-139.784\" stroke=\"#000000\"/>\n</g>\n<!-- 139830112303696 -->\n<g class=\"node\" id=\"node49\">\n<title>139830112303696</title>\n<polygon fill=\"none\" points=\"122.5,-.5 122.5,-46.5 389.5,-46.5 389.5,-.5 122.5,-.5\" stroke=\"#000000\"/>\n<text fill=\"#000000\" font-family=\"Times,serif\" font-size=\"14.00\" text-anchor=\"middle\" x=\"187\" y=\"-19.8\">softmax: Activation</text>\n<polyline fill=\"none\" points=\"251.5,-.5 251.5,-46.5 \" stroke=\"#000000\"/>\n<text fill=\"#000000\" font-family=\"Times,serif\" font-size=\"14.00\" text-anchor=\"middle\" x=\"280.5\" y=\"-31.3\">input:</text>\n<polyline fill=\"none\" points=\"251.5,-23.5 309.5,-23.5 \" stroke=\"#000000\"/>\n<text fill=\"#000000\" font-family=\"Times,serif\" font-size=\"14.00\" text-anchor=\"middle\" x=\"280.5\" y=\"-8.3\">output:</text>\n<polyline fill=\"none\" points=\"309.5,-.5 309.5,-46.5 \" stroke=\"#000000\"/>\n<text fill=\"#000000\" font-family=\"Times,serif\" font-size=\"14.00\" text-anchor=\"middle\" x=\"349.5\" y=\"-31.3\">(None, 95)</text>\n<polyline fill=\"none\" points=\"309.5,-23.5 389.5,-23.5 \" stroke=\"#000000\"/>\n<text fill=\"#000000\" font-family=\"Times,serif\" font-size=\"14.00\" text-anchor=\"middle\" x=\"349.5\" y=\"-8.3\">(None, 95)</text>\n</g>\n<!-- 139831253237072&#45;&gt;139830112303696 -->\n<g class=\"edge\" id=\"edge48\">\n<title>139831253237072-&gt;139830112303696</title>\n<path d=\"M256,-83.3799C256,-75.1745 256,-65.7679 256,-56.8786\" fill=\"none\" stroke=\"#000000\"/>\n<polygon fill=\"#000000\" points=\"259.5001,-56.784 256,-46.784 252.5001,-56.784 259.5001,-56.784\" stroke=\"#000000\"/>\n</g>\n</g>\n</svg>"
          },
          "metadata": {
            "tags": []
          },
          "execution_count": 52
        }
      ]
    },
    {
      "cell_type": "code",
      "metadata": {
        "colab": {
          "base_uri": "https://localhost:8080/",
          "height": 573
        },
        "id": "klMpJ2w1m9xm",
        "outputId": "2dc653e8-e7b4-4815-dccd-50af4d14628b"
      },
      "source": [
        "import matplotlib.pyplot as plt\n",
        "\n",
        "# history = model.fit(x, y, validation_split=0.25, epochs=50, batch_size=16, verbose=1)\n",
        "\n",
        "# 绘制训练 & 验证的准确率值\n",
        "plt.plot(history.history['accuracy'])\n",
        "plt.plot(history.history['val_accuracy'])\n",
        "plt.title('Model accuracy')\n",
        "plt.ylabel('Accuracy')\n",
        "plt.xlabel('Epoch')\n",
        "plt.legend(['Train', 'Test'], loc='upper left')\n",
        "plt.show()\n",
        "\n",
        "# 绘制训练 & 验证的损失值\n",
        "plt.plot(history.history['loss'])\n",
        "plt.plot(history.history['val_loss'])\n",
        "plt.title('Model loss')\n",
        "plt.ylabel('Loss')\n",
        "plt.xlabel('Epoch')\n",
        "plt.legend(['Train', 'Test'], loc='upper left')\n",
        "plt.show()"
      ],
      "execution_count": 53,
      "outputs": [
        {
          "output_type": "display_data",
          "data": {
            "image/png": "[encoded data removed]",
            "text/plain": [
              "<Figure size 432x288 with 1 Axes>"
            ]
          },
          "metadata": {
            "tags": [],
            "needs_background": "light"
          }
        },
        {
          "output_type": "display_data",
          "data": {
            "image/png": "[encoded data removed]",
            "text/plain": [
              "<Figure size 432x288 with 1 Axes>"
            ]
          },
          "metadata": {
            "tags": [],
            "needs_background": "light"
          }
        }
      ]
    }
  ]
}