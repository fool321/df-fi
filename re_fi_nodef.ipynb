{
  "nbformat": 4,
  "nbformat_minor": 0,
  "metadata": {
    "colab": {
      "name": "Re_Fi_Nodef.ipynb",
      "provenance": [],
      "toc_visible": true,
      "machine_shape": "hm",
      "authorship_tag": "ABX9TyPLyGbxUgpJQzgw/dcuOiBO",
      "include_colab_link": true
    },
    "kernelspec": {
      "name": "python3",
      "display_name": "Python 3"
    },
    "language_info": {
      "name": "python"
    },
    "accelerator": "GPU"
  },
  "cells": [
    {
      "cell_type": "markdown",
      "metadata": {
        "id": "view-in-github",
        "colab_type": "text"
      },
      "source": [
        "<a href=\"https://colab.research.google.com/gist/fool321/8811fe2d2c54aee21940b78a1a9e4295/re_fi_nodef.ipynb\" target=\"_parent\"><img src=\"https://colab.research.google.com/assets/colab-badge.svg\" alt=\"Open In Colab\"/></a>"
      ]
    },
    {
      "cell_type": "markdown",
      "metadata": {
        "id": "oyCrZ-0zU8Bv"
      },
      "source": [
        "# Re_Fi_Nodef\n",
        "This notebook divided into 3 part:\n",
        "1. Data Load\n",
        "2. Model Build\n",
        "3. Model Evaluation\n",
        "\n"
      ]
    },
    {
      "cell_type": "markdown",
      "metadata": {
        "id": "YQsp_NPsVL2-"
      },
      "source": [
        "## Data Load \n",
        "Load data from non-defended dataset"
      ]
    },
    {
      "cell_type": "markdown",
      "metadata": {
        "id": "9I9JLLwbX2Aq"
      },
      "source": [
        "### mount data"
      ]
    },
    {
      "cell_type": "code",
      "metadata": {
        "colab": {
          "base_uri": "https://localhost:8080/"
        },
        "id": "DASbbXtnUA8w",
        "outputId": "e5d51019-c310-41d4-defe-81bab392cc03"
      },
      "source": [
        "# mount data\n",
        "from google.colab import drive\n",
        "import os,sys\n",
        "drive.mount('/content/drive/',force_remount=\"True\")"
      ],
      "execution_count": 1,
      "outputs": [
        {
          "output_type": "stream",
          "text": [
            "Mounted at /content/drive/\n"
          ],
          "name": "stdout"
        }
      ]
    },
    {
      "cell_type": "code",
      "metadata": {
        "id": "yJydScNOXqdE"
      },
      "source": [
        "# according to the path of data file\n",
        "os.chdir('drive/MyDrive/df-fi/')\n",
        "os.chdir('df-fi/src')\n",
        "sys.path.append('/content/drive/My Drive/df-fi/df-fi/src')"
      ],
      "execution_count": 2,
      "outputs": []
    },
    {
      "cell_type": "code",
      "metadata": {
        "colab": {
          "base_uri": "https://localhost:8080/",
          "height": 35
        },
        "id": "pMcUjfrtX0Jq",
        "outputId": "8336c6c6-c1e3-41bb-af26-96a016b794ad"
      },
      "source": [
        "%pwd"
      ],
      "execution_count": 3,
      "outputs": [
        {
          "output_type": "execute_result",
          "data": {
            "application/vnd.google.colaboratory.intrinsic+json": {
              "type": "string"
            },
            "text/plain": [
              "'/content/drive/MyDrive/df-fi/df-fi/src'"
            ]
          },
          "metadata": {
            "tags": []
          },
          "execution_count": 3
        }
      ]
    },
    {
      "cell_type": "markdown",
      "metadata": {
        "id": "Flq_noUTYS5F"
      },
      "source": [
        "### Load data"
      ]
    },
    {
      "cell_type": "code",
      "metadata": {
        "id": "Au_nwtDvYcYf"
      },
      "source": [
        "from keras import backend as K\n",
        "from Model_NoDef import DFNet\n",
        "import random,os\n",
        "from keras.utils import np_utils\n",
        "from keras.optimizers import Adamax\n",
        "import numpy as np\n",
        "import pickle as pickle\n",
        "from keras.applications.resnet50 import ResNet50\n",
        "from keras.preprocessing import image\n",
        "from keras.applications.resnet50 import preprocess_input, decode_predictions"
      ],
      "execution_count": 4,
      "outputs": []
    },
    {
      "cell_type": "code",
      "metadata": {
        "id": "1eUfFhcsYl4Z"
      },
      "source": [
        "def LoadDataNoDefCW_py3():\n",
        "\n",
        "    print(\"Loading non-defended dataset for closed-world scenario\")\n",
        "\n",
        "    dataset_dir = '../../../di-fi-data/data/NoDef/'\n",
        "\n",
        "    # X represents a sequence of traffic directions\n",
        "    # y represents a sequence of corresponding label (website's label)\n",
        "\n",
        "    # Load training data\n",
        "    with open(dataset_dir + 'X_train_NoDef.pkl', 'rb') as handle:\n",
        "        X_train = np.array(pickle.load(handle,encoding='bytes'))\n",
        "    with open(dataset_dir + 'y_train_NoDef.pkl', 'rb') as handle:\n",
        "        y_train = np.array(pickle.load(handle,encoding='bytes'))\n",
        "\n",
        "    # Load validation data\n",
        "    with open(dataset_dir + 'X_valid_NoDef.pkl', 'rb') as handle:\n",
        "        X_valid = np.array(pickle.load(handle,encoding='bytes'))\n",
        "    with open(dataset_dir + 'y_valid_NoDef.pkl', 'rb') as handle:\n",
        "        y_valid = np.array(pickle.load(handle,encoding='bytes'))\n",
        "\n",
        "    # Load testing data\n",
        "    with open(dataset_dir + 'X_test_NoDef.pkl', 'rb') as handle:\n",
        "        X_test = np.array(pickle.load(handle,encoding='bytes'))\n",
        "    with open(dataset_dir + 'y_test_NoDef.pkl', 'rb') as handle:\n",
        "        y_test = np.array(pickle.load(handle,encoding='bytes'))\n",
        "\n",
        "    print(\"Data dimensions:\")\n",
        "    print(\"X: Training data's shape : \", X_train.shape)\n",
        "    print(\"y: Training data's shape : \", y_train.shape)\n",
        "    print(\"X: Validation data's shape : \", X_valid.shape)\n",
        "    print(\"y: Validation data's shape : \", y_valid.shape)\n",
        "    print(\"X: Testing data's shape : \", X_test.shape)\n",
        "    print(\"y: Testing data's shape : \", y_test.shape)\n",
        "\n",
        "    return X_train, y_train, X_valid, y_valid, X_test, y_test"
      ],
      "execution_count": 5,
      "outputs": []
    },
    {
      "cell_type": "code",
      "metadata": {
        "colab": {
          "base_uri": "https://localhost:8080/"
        },
        "id": "wj2U3Gy7Y2fh",
        "outputId": "a0097d11-30e4-4a03-d241-121485ae9ea1"
      },
      "source": [
        "random.seed(0)\n",
        "os.environ['TF_CPP_MIN_LOG_LEVEL'] = '3'\n",
        "\n",
        "description = \"Training and evaluating Re-Fi model for closed-world scenario on non-defended dataset\"\n",
        "\n",
        "print(description)\n",
        "# Training the Re-Fi model\n",
        "\n",
        "BATCH_SIZE = 128 # Batch size\n",
        "VERBOSE = 2 # Output display mode\n",
        "LENGTH = 5000 # Packet sequence length\n",
        "OPTIMIZER = Adamax(learning_rate=0.002, beta_1=0.9, beta_2=0.999, epsilon=1e-08, decay=0.0) # Optimizer\n",
        "NB_CLASSES = 95 # number of outputs = number of classes\n",
        "INPUT_SHAPE = (LENGTH,1)\n",
        "\n",
        "NB_EPOCH = 30   # Number of training epoch\n",
        "print(\"Number of Epoch: \", NB_EPOCH)\n",
        "print(\"NB_CLASSES: \",NB_CLASSES)\n"
      ],
      "execution_count": 61,
      "outputs": [
        {
          "output_type": "stream",
          "text": [
            "Training and evaluating Re-Fi model for closed-world scenario on non-defended dataset\n",
            "Number of Epoch:  30\n",
            "NB_CLASSES:  95\n"
          ],
          "name": "stdout"
        }
      ]
    },
    {
      "cell_type": "code",
      "metadata": {
        "colab": {
          "base_uri": "https://localhost:8080/"
        },
        "id": "UL--Vr5DZRX-",
        "outputId": "b26a2a5a-fae8-42fd-e00a-d49bcd97028e"
      },
      "source": [
        "# Data: shuffled and split between train and test sets\n",
        "print (\"Loading and preparing data for training, and evaluating the model\")\n",
        "X_train, y_train, X_valid, y_valid, X_test, y_test = LoadDataNoDefCW_py3()"
      ],
      "execution_count": 7,
      "outputs": [
        {
          "output_type": "stream",
          "text": [
            "Loading and preparing data for training, and evaluating the model\n",
            "Loading non-defended dataset for closed-world scenario\n",
            "Data dimensions:\n",
            "X: Training data's shape :  (76000, 5000)\n",
            "y: Training data's shape :  (76000,)\n",
            "X: Validation data's shape :  (9500, 5000)\n",
            "y: Validation data's shape :  (9500,)\n",
            "X: Testing data's shape :  (9500, 5000)\n",
            "y: Testing data's shape :  (9500,)\n"
          ],
          "name": "stdout"
        }
      ]
    },
    {
      "cell_type": "code",
      "metadata": {
        "colab": {
          "base_uri": "https://localhost:8080/"
        },
        "id": "RK1S1kFIZU01",
        "outputId": "fa82aaa0-ef2a-4ab5-f2d5-ef664f2624c5"
      },
      "source": [
        "print (\"number of training examples = \" + str(X_train.shape[0]))\n",
        "print (\"number of test examples = \" + str(X_test.shape[0]))\n",
        "print (\"X_train shape: \" + str(X_train.shape))\n",
        "print (\"Y_train shape: \" + str(y_train.shape))\n",
        "print (\"X_test shape: \" + str(X_test.shape))\n",
        "print (\"Y_test shape: \" + str(y_test.shape))"
      ],
      "execution_count": 8,
      "outputs": [
        {
          "output_type": "stream",
          "text": [
            "number of training examples = 76000\n",
            "number of test examples = 9500\n",
            "X_train shape: (76000, 5000)\n",
            "Y_train shape: (76000,)\n",
            "X_test shape: (9500, 5000)\n",
            "Y_test shape: (9500,)\n"
          ],
          "name": "stdout"
        }
      ]
    },
    {
      "cell_type": "code",
      "metadata": {
        "colab": {
          "base_uri": "https://localhost:8080/"
        },
        "id": "EggNFezeZagD",
        "outputId": "80c16088-a01c-4cdf-da4f-c4342066a2ae"
      },
      "source": [
        "# Convert data as float32 type\n",
        "X_train = X_train.astype('float32')\n",
        "X_valid = X_valid.astype('float32')\n",
        "X_test = X_test.astype('float32')\n",
        "y_train = y_train.astype('float32')\n",
        "y_valid = y_valid.astype('float32')\n",
        "y_test = y_test.astype('float32')\n",
        "\n",
        "# we need a [Length x 1] x n shape as input to the CNN (Tensorflow)\n",
        "X_train = X_train[:, :,np.newaxis]\n",
        "X_valid = X_valid[:, :,np.newaxis]\n",
        "X_test = X_test[:, :,np.newaxis]\n",
        "\n",
        "print((X_train.shape[0], 'train samples'))\n",
        "print((X_valid.shape[0], 'validation samples'))\n",
        "print((X_test.shape[0], 'test samples'))\n",
        "\n",
        "# Convert class vectors to categorical classes matrices\n",
        "y_train = np_utils.to_categorical(y_train, NB_CLASSES)\n",
        "y_valid = np_utils.to_categorical(y_valid, NB_CLASSES)\n",
        "y_test = np_utils.to_categorical(y_test, NB_CLASSES)\n",
        "\n",
        "# Building and training model\n",
        "print (\"Building and training DF model\")"
      ],
      "execution_count": 9,
      "outputs": [
        {
          "output_type": "stream",
          "text": [
            "(76000, 'train samples')\n",
            "(9500, 'validation samples')\n",
            "(9500, 'test samples')\n",
            "Building and training DF model\n"
          ],
          "name": "stdout"
        }
      ]
    },
    {
      "cell_type": "markdown",
      "metadata": {
        "id": "_ZDBpUlPVecW"
      },
      "source": [
        "## Model Build\n",
        "Re_Fi model for non-defended dataset"
      ]
    },
    {
      "cell_type": "code",
      "metadata": {
        "id": "UYQM7cUmZmiL"
      },
      "source": [
        "from keras.models import Sequential\n",
        "from keras.layers import Conv1D, MaxPooling1D, BatchNormalization,Layer,GlobalAvgPool1D\n",
        "from keras.layers.core import Activation, Flatten, Dense, Dropout\n",
        "from keras.layers.advanced_activations import ELU\n",
        "from keras.initializers import glorot_uniform\n",
        "import tensorflow as tf\n",
        "\n",
        "\n",
        "class Residual(tf.keras.Model): \n",
        "  \n",
        "    def __init__(self, num_channels, use_1x1conv=False, strides=1):\n",
        "        super().__init__()\n",
        "        kernel_size = 3\n",
        "        self.conv1 = Conv1D(num_channels, padding='same',\n",
        "                                            kernel_size=kernel_size, strides=strides)\n",
        "        self.conv2 = Conv1D(num_channels, kernel_size=kernel_size,\n",
        "                                            padding='same')\n",
        "        self.conv3 = None\n",
        "        if use_1x1conv:\n",
        "            self.conv3 = Conv1D(num_channels, kernel_size=1,\n",
        "                                                strides=strides)\n",
        "        self.bn1 = BatchNormalization(axis=-1)\n",
        "        self.bn2 = BatchNormalization(axis=-1)\n",
        "\n",
        "    def call(self, X):\n",
        "        Y = tf.keras.activations.relu(self.bn1(self.conv1(X)))\n",
        "        Y = self.bn2(self.conv2(Y))\n",
        "        if self.conv3 is not None:\n",
        "            X = self.conv3(X)\n",
        "        Y += X\n",
        "        return tf.keras.activations.relu(Y)\n",
        "\n",
        "class ResnetBlock(Layer):\n",
        "    def __init__(self, num_channels, num_residuals, first_block=False,\n",
        "                  **kwargs):\n",
        "        super(ResnetBlock, self).__init__(**kwargs)\n",
        "        self.residual_layers = []\n",
        "        for i in range(num_residuals):\n",
        "            if i == 0 and not first_block:\n",
        "                self.residual_layers.append(\n",
        "                    Residual(num_channels, use_1x1conv=True, strides=2))\n",
        "            else:\n",
        "                self.residual_layers.append(Residual(num_channels))\n",
        "\n",
        "    def call(self, X):\n",
        "        for layer in self.residual_layers.layers:\n",
        "            X = layer(X)\n",
        "        return X\n",
        "\n"
      ],
      "execution_count": 10,
      "outputs": []
    },
    {
      "cell_type": "code",
      "metadata": {
        "id": "AlTHpzXDaYP1"
      },
      "source": [
        "class resNet:\n",
        "    def build(input_shape, classes):\n",
        "        model = Sequential()\n",
        "\n",
        "        filter_num = ['None', 32, 64, 128, 256] # 输出通道\n",
        "        kernel_size = ['None', 8, 8, 8, 8] # 卷积层大小\n",
        "        conv_stride_size = ['None', 1, 1, 1, 1] # 步幅\n",
        "        pool_stride_size = ['None', 4, 4, 4, 4]\n",
        "        pool_size = ['None', 8, 8, 8, 8]\n",
        "  \n",
        "        # Block1\n",
        "        model.add(Conv1D(filters=filter_num[1], kernel_size=kernel_size[1], input_shape=input_shape,\n",
        "                         strides=conv_stride_size[1], padding='same',\n",
        "                         name='block1_conv1'))\n",
        "        model.add(BatchNormalization(axis=-1))\n",
        "        model.add(ELU(alpha=1.0, name='block1_adv_act1'))\n",
        "        model.add(Conv1D(filters=filter_num[1], kernel_size=kernel_size[1],\n",
        "                         strides=conv_stride_size[1], padding='same',\n",
        "                         name='block1_conv2'))\n",
        "        model.add(BatchNormalization(axis=-1))\n",
        "        model.add(ELU(alpha=1.0, name='block1_adv_act2'))\n",
        "        model.add(MaxPooling1D(pool_size=pool_size[1], strides=pool_stride_size[1],\n",
        "                               padding='same', name='block1_pool'))\n",
        "        model.add(Dropout(0.1, name='block1_dropout'))\n",
        "\n",
        "        # block2\n",
        "        model.add(Conv1D(filters=filter_num[2], kernel_size=kernel_size[2],\n",
        "                         strides=conv_stride_size[2], padding='same',\n",
        "                         name='block2_conv1'))\n",
        "        model.add(BatchNormalization())\n",
        "        model.add(Activation('relu', name='block2_act1'))\n",
        "\n",
        "        model.add(Conv1D(filters=filter_num[2], kernel_size=kernel_size[2],\n",
        "                         strides=conv_stride_size[2], padding='same',\n",
        "                         name='block2_conv2'))\n",
        "        model.add(BatchNormalization())\n",
        "        model.add(Activation('relu', name='block2_act2'))\n",
        "        model.add(MaxPooling1D(pool_size=pool_size[2], strides=pool_stride_size[3],\n",
        "                               padding='same', name='block2_pool'))\n",
        "        model.add(Dropout(0.1, name='block2_dropout'))\n",
        "        \n",
        "        # block3\n",
        "        model.add(Conv1D(filters=filter_num[3], kernel_size=kernel_size[2],\n",
        "                         strides=conv_stride_size[2], padding='same',\n",
        "                         name='block3_conv1'))\n",
        "        model.add(BatchNormalization())\n",
        "        model.add(Activation('relu', name='block3_act1'))\n",
        "\n",
        "        model.add(Conv1D(filters=filter_num[3], kernel_size=kernel_size[2],\n",
        "                         strides=conv_stride_size[2], padding='same',\n",
        "                         name='block3_conv2'))\n",
        "        model.add(BatchNormalization())\n",
        "        model.add(Activation('relu', name='block3_act2'))\n",
        "        model.add(MaxPooling1D(pool_size=pool_size[3], strides=pool_stride_size[3],\n",
        "                               padding='same', name='block3_pool'))\n",
        "        model.add(Dropout(0.1, name='block3_dropout'))\n",
        "\n",
        "        # Resnet\n",
        "        model.add(ResnetBlock(128, 2,first_block=True))\n",
        "        model.add(ResnetBlock(256, 2))\n",
        "\n",
        "        # time1 fully connected\n",
        "        model.add(Flatten(name='flatten'))\n",
        "\n",
        "        model.add(Dense(512, kernel_initializer=glorot_uniform(seed=0), name='fc1'))\n",
        "        model.add(BatchNormalization())\n",
        "        model.add(Activation('relu', name='fc1_act'))\n",
        "        model.add(Dropout(0.7, name='fc1_dropout'))\n",
        "\n",
        "        # time2\n",
        "        model.add(Dense(512, kernel_initializer=glorot_uniform(seed=0), name='fc2'))\n",
        "        model.add(BatchNormalization())\n",
        "        model.add(Activation('relu', name='fc2_act'))\n",
        "        model.add(Dropout(0.5, name='fc2_dropout'))\n",
        "\n",
        "        # prediction\n",
        "        model.add(Dense(classes, kernel_initializer=glorot_uniform(seed=0), name='fc3'))\n",
        "        model.add(Activation('softmax', name=\"softmax\"))\n",
        "        return model\n"
      ],
      "execution_count": 11,
      "outputs": []
    },
    {
      "cell_type": "markdown",
      "metadata": {
        "id": "MarTjZ5obGux"
      },
      "source": [
        "build model"
      ]
    },
    {
      "cell_type": "code",
      "metadata": {
        "colab": {
          "base_uri": "https://localhost:8080/"
        },
        "id": "M04zGmaea2lw",
        "outputId": "ebe6cb8d-0845-4fde-af7e-33271f67c4ce"
      },
      "source": [
        "model = resNet.build(input_shape=INPUT_SHAPE, classes=NB_CLASSES)\n",
        "model.summary()"
      ],
      "execution_count": 65,
      "outputs": [
        {
          "output_type": "stream",
          "text": [
            "Model: \"sequential_3\"\n",
            "_________________________________________________________________\n",
            "Layer (type)                 Output Shape              Param #   \n",
            "=================================================================\n",
            "block1_conv1 (Conv1D)        (None, 5000, 32)          288       \n",
            "_________________________________________________________________\n",
            "batch_normalization_48 (Batc (None, 5000, 32)          128       \n",
            "_________________________________________________________________\n",
            "block1_adv_act1 (ELU)        (None, 5000, 32)          0         \n",
            "_________________________________________________________________\n",
            "block1_conv2 (Conv1D)        (None, 5000, 32)          8224      \n",
            "_________________________________________________________________\n",
            "batch_normalization_49 (Batc (None, 5000, 32)          128       \n",
            "_________________________________________________________________\n",
            "block1_adv_act2 (ELU)        (None, 5000, 32)          0         \n",
            "_________________________________________________________________\n",
            "block1_pool (MaxPooling1D)   (None, 1250, 32)          0         \n",
            "_________________________________________________________________\n",
            "block1_dropout (Dropout)     (None, 1250, 32)          0         \n",
            "_________________________________________________________________\n",
            "block2_conv1 (Conv1D)        (None, 1250, 64)          16448     \n",
            "_________________________________________________________________\n",
            "batch_normalization_50 (Batc (None, 1250, 64)          256       \n",
            "_________________________________________________________________\n",
            "block2_act1 (Activation)     (None, 1250, 64)          0         \n",
            "_________________________________________________________________\n",
            "block2_conv2 (Conv1D)        (None, 1250, 64)          32832     \n",
            "_________________________________________________________________\n",
            "batch_normalization_51 (Batc (None, 1250, 64)          256       \n",
            "_________________________________________________________________\n",
            "block2_act2 (Activation)     (None, 1250, 64)          0         \n",
            "_________________________________________________________________\n",
            "block2_pool (MaxPooling1D)   (None, 313, 64)           0         \n",
            "_________________________________________________________________\n",
            "block2_dropout (Dropout)     (None, 313, 64)           0         \n",
            "_________________________________________________________________\n",
            "block3_conv1 (Conv1D)        (None, 313, 128)          65664     \n",
            "_________________________________________________________________\n",
            "batch_normalization_52 (Batc (None, 313, 128)          512       \n",
            "_________________________________________________________________\n",
            "block3_act1 (Activation)     (None, 313, 128)          0         \n",
            "_________________________________________________________________\n",
            "block3_conv2 (Conv1D)        (None, 313, 128)          131200    \n",
            "_________________________________________________________________\n",
            "batch_normalization_53 (Batc (None, 313, 128)          512       \n",
            "_________________________________________________________________\n",
            "block3_act2 (Activation)     (None, 313, 128)          0         \n",
            "_________________________________________________________________\n",
            "block3_pool (MaxPooling1D)   (None, 79, 128)           0         \n",
            "_________________________________________________________________\n",
            "block3_dropout (Dropout)     (None, 79, 128)           0         \n",
            "_________________________________________________________________\n",
            "resnet_block_6 (ResnetBlock) (None, 79, 128)           199168    \n",
            "_________________________________________________________________\n",
            "resnet_block_7 (ResnetBlock) (None, 40, 256)           726272    \n",
            "_________________________________________________________________\n",
            "flatten (Flatten)            (None, 10240)             0         \n",
            "_________________________________________________________________\n",
            "fc1 (Dense)                  (None, 512)               5243392   \n",
            "_________________________________________________________________\n",
            "batch_normalization_62 (Batc (None, 512)               2048      \n",
            "_________________________________________________________________\n",
            "fc1_act (Activation)         (None, 512)               0         \n",
            "_________________________________________________________________\n",
            "fc1_dropout (Dropout)        (None, 512)               0         \n",
            "_________________________________________________________________\n",
            "fc2 (Dense)                  (None, 512)               262656    \n",
            "_________________________________________________________________\n",
            "batch_normalization_63 (Batc (None, 512)               2048      \n",
            "_________________________________________________________________\n",
            "fc2_act (Activation)         (None, 512)               0         \n",
            "_________________________________________________________________\n",
            "fc2_dropout (Dropout)        (None, 512)               0         \n",
            "_________________________________________________________________\n",
            "fc3 (Dense)                  (None, 95)                48735     \n",
            "_________________________________________________________________\n",
            "softmax (Activation)         (None, 95)                0         \n",
            "=================================================================\n",
            "Total params: 6,740,767\n",
            "Trainable params: 6,734,751\n",
            "Non-trainable params: 6,016\n",
            "_________________________________________________________________\n"
          ],
          "name": "stdout"
        }
      ]
    },
    {
      "cell_type": "markdown",
      "metadata": {
        "id": "6G_wkfMXbIC1"
      },
      "source": [
        "compile model"
      ]
    },
    {
      "cell_type": "code",
      "metadata": {
        "colab": {
          "base_uri": "https://localhost:8080/"
        },
        "id": "GV04ICGba8y4",
        "outputId": "c33f477e-b8d4-4627-bddd-8919ed490e3f"
      },
      "source": [
        "model.compile(loss=\"categorical_crossentropy\", optimizer=OPTIMIZER,\n",
        "\tmetrics=[\"accuracy\"])\n",
        "print (\"Model compiled\")"
      ],
      "execution_count": 66,
      "outputs": [
        {
          "output_type": "stream",
          "text": [
            "Model compiled\n"
          ],
          "name": "stdout"
        }
      ]
    },
    {
      "cell_type": "markdown",
      "metadata": {
        "id": "jJqt4xX3bDBU"
      },
      "source": [
        "Start training"
      ]
    },
    {
      "cell_type": "code",
      "metadata": {
        "colab": {
          "base_uri": "https://localhost:8080/"
        },
        "id": "pKD_46k-bBzy",
        "outputId": "c128a06f-a12f-47bb-cf38-300553e22315"
      },
      "source": [
        "# Start training\n",
        "history = model.fit(X_train, y_train,\n",
        "\t\tbatch_size=BATCH_SIZE, epochs=NB_EPOCH,\n",
        "\t\tverbose=VERBOSE, validation_data=(X_valid, y_valid))\n",
        "\n",
        "# Start evaluating model with testing data\n",
        "score_test = model.evaluate(X_test, y_test, verbose=VERBOSE)\n",
        "print((\"Testing accuracy:\", score_test[1]))"
      ],
      "execution_count": 67,
      "outputs": [
        {
          "output_type": "stream",
          "text": [
            "Epoch 1/30\n",
            "594/594 - 64s - loss: 1.6612 - accuracy: 0.5964 - val_loss: 0.4913 - val_accuracy: 0.8791\n",
            "Epoch 2/30\n",
            "594/594 - 55s - loss: 0.5136 - accuracy: 0.8762 - val_loss: 0.2494 - val_accuracy: 0.9344\n",
            "Epoch 3/30\n",
            "594/594 - 55s - loss: 0.3393 - accuracy: 0.9183 - val_loss: 0.2032 - val_accuracy: 0.9515\n",
            "Epoch 4/30\n",
            "594/594 - 55s - loss: 0.2552 - accuracy: 0.9374 - val_loss: 0.1621 - val_accuracy: 0.9605\n",
            "Epoch 5/30\n",
            "594/594 - 55s - loss: 0.2060 - accuracy: 0.9494 - val_loss: 0.1217 - val_accuracy: 0.9707\n",
            "Epoch 6/30\n",
            "594/594 - 55s - loss: 0.1731 - accuracy: 0.9574 - val_loss: 0.1439 - val_accuracy: 0.9643\n",
            "Epoch 7/30\n",
            "594/594 - 55s - loss: 0.1483 - accuracy: 0.9637 - val_loss: 0.1046 - val_accuracy: 0.9753\n",
            "Epoch 8/30\n",
            "594/594 - 55s - loss: 0.1306 - accuracy: 0.9666 - val_loss: 0.1031 - val_accuracy: 0.9754\n",
            "Epoch 9/30\n",
            "594/594 - 55s - loss: 0.1123 - accuracy: 0.9720 - val_loss: 0.0997 - val_accuracy: 0.9764\n",
            "Epoch 10/30\n",
            "594/594 - 55s - loss: 0.1008 - accuracy: 0.9747 - val_loss: 0.0962 - val_accuracy: 0.9773\n",
            "Epoch 11/30\n",
            "594/594 - 55s - loss: 0.0912 - accuracy: 0.9768 - val_loss: 0.0920 - val_accuracy: 0.9785\n",
            "Epoch 12/30\n",
            "594/594 - 55s - loss: 0.0816 - accuracy: 0.9791 - val_loss: 0.0882 - val_accuracy: 0.9804\n",
            "Epoch 13/30\n",
            "594/594 - 55s - loss: 0.0766 - accuracy: 0.9806 - val_loss: 0.0849 - val_accuracy: 0.9803\n",
            "Epoch 14/30\n",
            "594/594 - 55s - loss: 0.0736 - accuracy: 0.9808 - val_loss: 0.0938 - val_accuracy: 0.9783\n",
            "Epoch 15/30\n",
            "594/594 - 55s - loss: 0.0694 - accuracy: 0.9823 - val_loss: 0.0916 - val_accuracy: 0.9799\n",
            "Epoch 16/30\n",
            "594/594 - 55s - loss: 0.0615 - accuracy: 0.9843 - val_loss: 0.0806 - val_accuracy: 0.9832\n",
            "Epoch 17/30\n",
            "594/594 - 55s - loss: 0.0589 - accuracy: 0.9849 - val_loss: 0.0992 - val_accuracy: 0.9760\n",
            "Epoch 18/30\n",
            "594/594 - 55s - loss: 0.0538 - accuracy: 0.9861 - val_loss: 0.1098 - val_accuracy: 0.9746\n",
            "Epoch 19/30\n",
            "594/594 - 55s - loss: 0.0527 - accuracy: 0.9865 - val_loss: 0.0860 - val_accuracy: 0.9808\n",
            "Epoch 20/30\n",
            "594/594 - 55s - loss: 0.0511 - accuracy: 0.9870 - val_loss: 0.0791 - val_accuracy: 0.9829\n",
            "Epoch 21/30\n",
            "594/594 - 55s - loss: 0.0470 - accuracy: 0.9880 - val_loss: 0.0789 - val_accuracy: 0.9821\n",
            "Epoch 22/30\n",
            "594/594 - 55s - loss: 0.0478 - accuracy: 0.9879 - val_loss: 0.0756 - val_accuracy: 0.9833\n",
            "Epoch 23/30\n",
            "594/594 - 55s - loss: 0.0427 - accuracy: 0.9892 - val_loss: 0.0813 - val_accuracy: 0.9827\n",
            "Epoch 24/30\n",
            "594/594 - 55s - loss: 0.0423 - accuracy: 0.9890 - val_loss: 0.0788 - val_accuracy: 0.9824\n",
            "Epoch 25/30\n",
            "594/594 - 55s - loss: 0.0385 - accuracy: 0.9905 - val_loss: 0.0840 - val_accuracy: 0.9824\n",
            "Epoch 26/30\n",
            "594/594 - 55s - loss: 0.0403 - accuracy: 0.9898 - val_loss: 0.0912 - val_accuracy: 0.9806\n",
            "Epoch 27/30\n",
            "594/594 - 55s - loss: 0.0383 - accuracy: 0.9903 - val_loss: 0.0804 - val_accuracy: 0.9820\n",
            "Epoch 28/30\n",
            "594/594 - 55s - loss: 0.0358 - accuracy: 0.9913 - val_loss: 0.0834 - val_accuracy: 0.9829\n",
            "Epoch 29/30\n",
            "594/594 - 55s - loss: 0.0358 - accuracy: 0.9911 - val_loss: 0.0907 - val_accuracy: 0.9819\n",
            "Epoch 30/30\n",
            "594/594 - 55s - loss: 0.0346 - accuracy: 0.9910 - val_loss: 0.0782 - val_accuracy: 0.9835\n",
            "297/297 - 3s - loss: 0.0823 - accuracy: 0.9831\n",
            "('Testing accuracy:', 0.9830526113510132)\n"
          ],
          "name": "stdout"
        }
      ]
    },
    {
      "cell_type": "markdown",
      "metadata": {
        "id": "mRA-a_lmdCQl"
      },
      "source": [
        "save model"
      ]
    },
    {
      "cell_type": "code",
      "metadata": {
        "colab": {
          "base_uri": "https://localhost:8080/"
        },
        "id": "k6LjJzoadhey",
        "outputId": "1fd47d68-2b10-4f5b-d8dc-d8ed267e7e0f"
      },
      "source": [
        "!mkdir -p saved_model\n",
        "model.save('saved_model/NoDef_model')"
      ],
      "execution_count": 20,
      "outputs": [
        {
          "output_type": "stream",
          "text": [
            "WARNING:absl:Found untraced functions such as conv1d_layer_call_fn, conv1d_layer_call_and_return_conditional_losses, conv1d_1_layer_call_fn, conv1d_1_layer_call_and_return_conditional_losses, conv1d_2_layer_call_fn while saving (showing 5 of 45). These functions will not be directly callable after loading.\n"
          ],
          "name": "stderr"
        },
        {
          "output_type": "stream",
          "text": [
            "INFO:tensorflow:Assets written to: saved_model/NoDef_model/assets\n"
          ],
          "name": "stdout"
        },
        {
          "output_type": "stream",
          "text": [
            "INFO:tensorflow:Assets written to: saved_model/NoDef_model/assets\n"
          ],
          "name": "stderr"
        }
      ]
    },
    {
      "cell_type": "markdown",
      "metadata": {
        "id": "tCNElugsVxe2"
      },
      "source": [
        "## Model Evaluation"
      ]
    },
    {
      "cell_type": "markdown",
      "metadata": {
        "id": "-nt5p_ViFdyP"
      },
      "source": [
        "show GPU info"
      ]
    },
    {
      "cell_type": "code",
      "metadata": {
        "colab": {
          "base_uri": "https://localhost:8080/"
        },
        "id": "RjDuf72gloOb",
        "outputId": "75429a46-4b87-4a32-8805-a26bc91b0287"
      },
      "source": [
        "! /opt/bin/nvidia-smi"
      ],
      "execution_count": 17,
      "outputs": [
        {
          "output_type": "stream",
          "text": [
            "Thu Jun 17 01:55:59 2021       \n",
            "+-----------------------------------------------------------------------------+\n",
            "| NVIDIA-SMI 460.32.03    Driver Version: 460.32.03    CUDA Version: 11.2     |\n",
            "|-------------------------------+----------------------+----------------------+\n",
            "| GPU  Name        Persistence-M| Bus-Id        Disp.A | Volatile Uncorr. ECC |\n",
            "| Fan  Temp  Perf  Pwr:Usage/Cap|         Memory-Usage | GPU-Util  Compute M. |\n",
            "|                               |                      |               MIG M. |\n",
            "|===============================+======================+======================|\n",
            "|   0  Tesla P100-PCIE...  Off  | 00000000:00:04.0 Off |                    0 |\n",
            "| N/A   60C    P0    38W / 250W |   6701MiB / 16280MiB |      0%      Default |\n",
            "|                               |                      |                  N/A |\n",
            "+-------------------------------+----------------------+----------------------+\n",
            "                                                                               \n",
            "+-----------------------------------------------------------------------------+\n",
            "| Processes:                                                                  |\n",
            "|  GPU   GI   CI        PID   Type   Process name                  GPU Memory |\n",
            "|        ID   ID                                                   Usage      |\n",
            "|=============================================================================|\n",
            "+-----------------------------------------------------------------------------+\n"
          ],
          "name": "stdout"
        }
      ]
    },
    {
      "cell_type": "code",
      "metadata": {
        "colab": {
          "base_uri": "https://localhost:8080/",
          "height": 1000
        },
        "id": "7pLhq2XpyQol",
        "outputId": "26eb7265-476c-4044-b277-763ab15182a1"
      },
      "source": [
        "from IPython.display import SVG\n",
        "from keras.utils.vis_utils import model_to_dot\n",
        "\n",
        "SVG(model_to_dot(model, show_shapes= True, show_layer_names=True, dpi=65).create(prog='dot', format='svg'))"
      ],
      "execution_count": 68,
      "outputs": [
        {
          "output_type": "execute_result",
          "data": {
            "text/plain": [
              "<IPython.core.display.SVG object>"
            ],
            "image/svg+xml": "<svg height=\"2822pt\" viewBox=\"0.00 0.00 461.00 3126.00\" width=\"416pt\" xmlns=\"http://www.w3.org/2000/svg\" xmlns:xlink=\"http://www.w3.org/1999/xlink\">\n<g class=\"graph\" id=\"graph0\" transform=\"scale(.9028 .9028) rotate(0) translate(4 3122)\">\n<title>G</title>\n<polygon fill=\"#ffffff\" points=\"-4,4 -4,-3122 457,-3122 457,4 -4,4\" stroke=\"transparent\"/>\n<!-- 140682709347536 -->\n<g class=\"node\" id=\"node1\">\n<title>140682709347536</title>\n<polygon fill=\"none\" points=\"33.5,-3071.5 33.5,-3117.5 419.5,-3117.5 419.5,-3071.5 33.5,-3071.5\" stroke=\"#000000\"/>\n<text fill=\"#000000\" font-family=\"Times,serif\" font-size=\"14.00\" text-anchor=\"middle\" x=\"138\" y=\"-3090.8\">block1_conv1_input: InputLayer</text>\n<polyline fill=\"none\" points=\"242.5,-3071.5 242.5,-3117.5 \" stroke=\"#000000\"/>\n<text fill=\"#000000\" font-family=\"Times,serif\" font-size=\"14.00\" text-anchor=\"middle\" x=\"271.5\" y=\"-3102.3\">input:</text>\n<polyline fill=\"none\" points=\"242.5,-3094.5 300.5,-3094.5 \" stroke=\"#000000\"/>\n<text fill=\"#000000\" font-family=\"Times,serif\" font-size=\"14.00\" text-anchor=\"middle\" x=\"271.5\" y=\"-3079.3\">output:</text>\n<polyline fill=\"none\" points=\"300.5,-3071.5 300.5,-3117.5 \" stroke=\"#000000\"/>\n<text fill=\"#000000\" font-family=\"Times,serif\" font-size=\"14.00\" text-anchor=\"middle\" x=\"360\" y=\"-3102.3\">[(None, 5000, 1)]</text>\n<polyline fill=\"none\" points=\"300.5,-3094.5 419.5,-3094.5 \" stroke=\"#000000\"/>\n<text fill=\"#000000\" font-family=\"Times,serif\" font-size=\"14.00\" text-anchor=\"middle\" x=\"360\" y=\"-3079.3\">[(None, 5000, 1)]</text>\n</g>\n<!-- 140682700361488 -->\n<g class=\"node\" id=\"node2\">\n<title>140682700361488</title>\n<polygon fill=\"none\" points=\"60,-2988.5 60,-3034.5 393,-3034.5 393,-2988.5 60,-2988.5\" stroke=\"#000000\"/>\n<text fill=\"#000000\" font-family=\"Times,serif\" font-size=\"14.00\" text-anchor=\"middle\" x=\"139\" y=\"-3007.8\">block1_conv1: Conv1D</text>\n<polyline fill=\"none\" points=\"218,-2988.5 218,-3034.5 \" stroke=\"#000000\"/>\n<text fill=\"#000000\" font-family=\"Times,serif\" font-size=\"14.00\" text-anchor=\"middle\" x=\"247\" y=\"-3019.3\">input:</text>\n<polyline fill=\"none\" points=\"218,-3011.5 276,-3011.5 \" stroke=\"#000000\"/>\n<text fill=\"#000000\" font-family=\"Times,serif\" font-size=\"14.00\" text-anchor=\"middle\" x=\"247\" y=\"-2996.3\">output:</text>\n<polyline fill=\"none\" points=\"276,-2988.5 276,-3034.5 \" stroke=\"#000000\"/>\n<text fill=\"#000000\" font-family=\"Times,serif\" font-size=\"14.00\" text-anchor=\"middle\" x=\"334.5\" y=\"-3019.3\">(None, 5000, 1)</text>\n<polyline fill=\"none\" points=\"276,-3011.5 393,-3011.5 \" stroke=\"#000000\"/>\n<text fill=\"#000000\" font-family=\"Times,serif\" font-size=\"14.00\" text-anchor=\"middle\" x=\"334.5\" y=\"-2996.3\">(None, 5000, 32)</text>\n</g>\n<!-- 140682709347536&#45;&gt;140682700361488 -->\n<g class=\"edge\" id=\"edge1\">\n<title>140682709347536-&gt;140682700361488</title>\n<path d=\"M226.5,-3071.3799C226.5,-3063.1745 226.5,-3053.7679 226.5,-3044.8786\" fill=\"none\" stroke=\"#000000\"/>\n<polygon fill=\"#000000\" points=\"230.0001,-3044.784 226.5,-3034.784 223.0001,-3044.784 230.0001,-3044.784\" stroke=\"#000000\"/>\n</g>\n<!-- 140674677120464 -->\n<g class=\"node\" id=\"node3\">\n<title>140674677120464</title>\n<polygon fill=\"none\" points=\"0,-2905.5 0,-2951.5 453,-2951.5 453,-2905.5 0,-2905.5\" stroke=\"#000000\"/>\n<text fill=\"#000000\" font-family=\"Times,serif\" font-size=\"14.00\" text-anchor=\"middle\" x=\"139\" y=\"-2924.8\">batch_normalization_48: BatchNormalization</text>\n<polyline fill=\"none\" points=\"278,-2905.5 278,-2951.5 \" stroke=\"#000000\"/>\n<text fill=\"#000000\" font-family=\"Times,serif\" font-size=\"14.00\" text-anchor=\"middle\" x=\"307\" y=\"-2936.3\">input:</text>\n<polyline fill=\"none\" points=\"278,-2928.5 336,-2928.5 \" stroke=\"#000000\"/>\n<text fill=\"#000000\" font-family=\"Times,serif\" font-size=\"14.00\" text-anchor=\"middle\" x=\"307\" y=\"-2913.3\">output:</text>\n<polyline fill=\"none\" points=\"336,-2905.5 336,-2951.5 \" stroke=\"#000000\"/>\n<text fill=\"#000000\" font-family=\"Times,serif\" font-size=\"14.00\" text-anchor=\"middle\" x=\"394.5\" y=\"-2936.3\">(None, 5000, 32)</text>\n<polyline fill=\"none\" points=\"336,-2928.5 453,-2928.5 \" stroke=\"#000000\"/>\n<text fill=\"#000000\" font-family=\"Times,serif\" font-size=\"14.00\" text-anchor=\"middle\" x=\"394.5\" y=\"-2913.3\">(None, 5000, 32)</text>\n</g>\n<!-- 140682700361488&#45;&gt;140674677120464 -->\n<g class=\"edge\" id=\"edge2\">\n<title>140682700361488-&gt;140674677120464</title>\n<path d=\"M226.5,-2988.3799C226.5,-2980.1745 226.5,-2970.7679 226.5,-2961.8786\" fill=\"none\" stroke=\"#000000\"/>\n<polygon fill=\"#000000\" points=\"230.0001,-2961.784 226.5,-2951.784 223.0001,-2961.784 230.0001,-2961.784\" stroke=\"#000000\"/>\n</g>\n<!-- 140682698743760 -->\n<g class=\"node\" id=\"node4\">\n<title>140682698743760</title>\n<polygon fill=\"none\" points=\"63,-2822.5 63,-2868.5 390,-2868.5 390,-2822.5 63,-2822.5\" stroke=\"#000000\"/>\n<text fill=\"#000000\" font-family=\"Times,serif\" font-size=\"14.00\" text-anchor=\"middle\" x=\"139\" y=\"-2841.8\">block1_adv_act1: ELU</text>\n<polyline fill=\"none\" points=\"215,-2822.5 215,-2868.5 \" stroke=\"#000000\"/>\n<text fill=\"#000000\" font-family=\"Times,serif\" font-size=\"14.00\" text-anchor=\"middle\" x=\"244\" y=\"-2853.3\">input:</text>\n<polyline fill=\"none\" points=\"215,-2845.5 273,-2845.5 \" stroke=\"#000000\"/>\n<text fill=\"#000000\" font-family=\"Times,serif\" font-size=\"14.00\" text-anchor=\"middle\" x=\"244\" y=\"-2830.3\">output:</text>\n<polyline fill=\"none\" points=\"273,-2822.5 273,-2868.5 \" stroke=\"#000000\"/>\n<text fill=\"#000000\" font-family=\"Times,serif\" font-size=\"14.00\" text-anchor=\"middle\" x=\"331.5\" y=\"-2853.3\">(None, 5000, 32)</text>\n<polyline fill=\"none\" points=\"273,-2845.5 390,-2845.5 \" stroke=\"#000000\"/>\n<text fill=\"#000000\" font-family=\"Times,serif\" font-size=\"14.00\" text-anchor=\"middle\" x=\"331.5\" y=\"-2830.3\">(None, 5000, 32)</text>\n</g>\n<!-- 140674677120464&#45;&gt;140682698743760 -->\n<g class=\"edge\" id=\"edge3\">\n<title>140674677120464-&gt;140682698743760</title>\n<path d=\"M226.5,-2905.3799C226.5,-2897.1745 226.5,-2887.7679 226.5,-2878.8786\" fill=\"none\" stroke=\"#000000\"/>\n<polygon fill=\"#000000\" points=\"230.0001,-2878.784 226.5,-2868.784 223.0001,-2878.784 230.0001,-2878.784\" stroke=\"#000000\"/>\n</g>\n<!-- 140674677031568 -->\n<g class=\"node\" id=\"node5\">\n<title>140674677031568</title>\n<polygon fill=\"none\" points=\"60,-2739.5 60,-2785.5 393,-2785.5 393,-2739.5 60,-2739.5\" stroke=\"#000000\"/>\n<text fill=\"#000000\" font-family=\"Times,serif\" font-size=\"14.00\" text-anchor=\"middle\" x=\"139\" y=\"-2758.8\">block1_conv2: Conv1D</text>\n<polyline fill=\"none\" points=\"218,-2739.5 218,-2785.5 \" stroke=\"#000000\"/>\n<text fill=\"#000000\" font-family=\"Times,serif\" font-size=\"14.00\" text-anchor=\"middle\" x=\"247\" y=\"-2770.3\">input:</text>\n<polyline fill=\"none\" points=\"218,-2762.5 276,-2762.5 \" stroke=\"#000000\"/>\n<text fill=\"#000000\" font-family=\"Times,serif\" font-size=\"14.00\" text-anchor=\"middle\" x=\"247\" y=\"-2747.3\">output:</text>\n<polyline fill=\"none\" points=\"276,-2739.5 276,-2785.5 \" stroke=\"#000000\"/>\n<text fill=\"#000000\" font-family=\"Times,serif\" font-size=\"14.00\" text-anchor=\"middle\" x=\"334.5\" y=\"-2770.3\">(None, 5000, 32)</text>\n<polyline fill=\"none\" points=\"276,-2762.5 393,-2762.5 \" stroke=\"#000000\"/>\n<text fill=\"#000000\" font-family=\"Times,serif\" font-size=\"14.00\" text-anchor=\"middle\" x=\"334.5\" y=\"-2747.3\">(None, 5000, 32)</text>\n</g>\n<!-- 140682698743760&#45;&gt;140674677031568 -->\n<g class=\"edge\" id=\"edge4\">\n<title>140682698743760-&gt;140674677031568</title>\n<path d=\"M226.5,-2822.3799C226.5,-2814.1745 226.5,-2804.7679 226.5,-2795.8786\" fill=\"none\" stroke=\"#000000\"/>\n<polygon fill=\"#000000\" points=\"230.0001,-2795.784 226.5,-2785.784 223.0001,-2795.784 230.0001,-2795.784\" stroke=\"#000000\"/>\n</g>\n<!-- 140682695797072 -->\n<g class=\"node\" id=\"node6\">\n<title>140682695797072</title>\n<polygon fill=\"none\" points=\"0,-2656.5 0,-2702.5 453,-2702.5 453,-2656.5 0,-2656.5\" stroke=\"#000000\"/>\n<text fill=\"#000000\" font-family=\"Times,serif\" font-size=\"14.00\" text-anchor=\"middle\" x=\"139\" y=\"-2675.8\">batch_normalization_49: BatchNormalization</text>\n<polyline fill=\"none\" points=\"278,-2656.5 278,-2702.5 \" stroke=\"#000000\"/>\n<text fill=\"#000000\" font-family=\"Times,serif\" font-size=\"14.00\" text-anchor=\"middle\" x=\"307\" y=\"-2687.3\">input:</text>\n<polyline fill=\"none\" points=\"278,-2679.5 336,-2679.5 \" stroke=\"#000000\"/>\n<text fill=\"#000000\" font-family=\"Times,serif\" font-size=\"14.00\" text-anchor=\"middle\" x=\"307\" y=\"-2664.3\">output:</text>\n<polyline fill=\"none\" points=\"336,-2656.5 336,-2702.5 \" stroke=\"#000000\"/>\n<text fill=\"#000000\" font-family=\"Times,serif\" font-size=\"14.00\" text-anchor=\"middle\" x=\"394.5\" y=\"-2687.3\">(None, 5000, 32)</text>\n<polyline fill=\"none\" points=\"336,-2679.5 453,-2679.5 \" stroke=\"#000000\"/>\n<text fill=\"#000000\" font-family=\"Times,serif\" font-size=\"14.00\" text-anchor=\"middle\" x=\"394.5\" y=\"-2664.3\">(None, 5000, 32)</text>\n</g>\n<!-- 140674677031568&#45;&gt;140682695797072 -->\n<g class=\"edge\" id=\"edge5\">\n<title>140674677031568-&gt;140682695797072</title>\n<path d=\"M226.5,-2739.3799C226.5,-2731.1745 226.5,-2721.7679 226.5,-2712.8786\" fill=\"none\" stroke=\"#000000\"/>\n<polygon fill=\"#000000\" points=\"230.0001,-2712.784 226.5,-2702.784 223.0001,-2712.784 230.0001,-2712.784\" stroke=\"#000000\"/>\n</g>\n<!-- 140682710324880 -->\n<g class=\"node\" id=\"node7\">\n<title>140682710324880</title>\n<polygon fill=\"none\" points=\"63,-2573.5 63,-2619.5 390,-2619.5 390,-2573.5 63,-2573.5\" stroke=\"#000000\"/>\n<text fill=\"#000000\" font-family=\"Times,serif\" font-size=\"14.00\" text-anchor=\"middle\" x=\"139\" y=\"-2592.8\">block1_adv_act2: ELU</text>\n<polyline fill=\"none\" points=\"215,-2573.5 215,-2619.5 \" stroke=\"#000000\"/>\n<text fill=\"#000000\" font-family=\"Times,serif\" font-size=\"14.00\" text-anchor=\"middle\" x=\"244\" y=\"-2604.3\">input:</text>\n<polyline fill=\"none\" points=\"215,-2596.5 273,-2596.5 \" stroke=\"#000000\"/>\n<text fill=\"#000000\" font-family=\"Times,serif\" font-size=\"14.00\" text-anchor=\"middle\" x=\"244\" y=\"-2581.3\">output:</text>\n<polyline fill=\"none\" points=\"273,-2573.5 273,-2619.5 \" stroke=\"#000000\"/>\n<text fill=\"#000000\" font-family=\"Times,serif\" font-size=\"14.00\" text-anchor=\"middle\" x=\"331.5\" y=\"-2604.3\">(None, 5000, 32)</text>\n<polyline fill=\"none\" points=\"273,-2596.5 390,-2596.5 \" stroke=\"#000000\"/>\n<text fill=\"#000000\" font-family=\"Times,serif\" font-size=\"14.00\" text-anchor=\"middle\" x=\"331.5\" y=\"-2581.3\">(None, 5000, 32)</text>\n</g>\n<!-- 140682695797072&#45;&gt;140682710324880 -->\n<g class=\"edge\" id=\"edge6\">\n<title>140682695797072-&gt;140682710324880</title>\n<path d=\"M226.5,-2656.3799C226.5,-2648.1745 226.5,-2638.7679 226.5,-2629.8786\" fill=\"none\" stroke=\"#000000\"/>\n<polygon fill=\"#000000\" points=\"230.0001,-2629.784 226.5,-2619.784 223.0001,-2629.784 230.0001,-2629.784\" stroke=\"#000000\"/>\n</g>\n<!-- 140682696789648 -->\n<g class=\"node\" id=\"node8\">\n<title>140682696789648</title>\n<polygon fill=\"none\" points=\"45,-2490.5 45,-2536.5 408,-2536.5 408,-2490.5 45,-2490.5\" stroke=\"#000000\"/>\n<text fill=\"#000000\" font-family=\"Times,serif\" font-size=\"14.00\" text-anchor=\"middle\" x=\"139\" y=\"-2509.8\">block1_pool: MaxPooling1D</text>\n<polyline fill=\"none\" points=\"233,-2490.5 233,-2536.5 \" stroke=\"#000000\"/>\n<text fill=\"#000000\" font-family=\"Times,serif\" font-size=\"14.00\" text-anchor=\"middle\" x=\"262\" y=\"-2521.3\">input:</text>\n<polyline fill=\"none\" points=\"233,-2513.5 291,-2513.5 \" stroke=\"#000000\"/>\n<text fill=\"#000000\" font-family=\"Times,serif\" font-size=\"14.00\" text-anchor=\"middle\" x=\"262\" y=\"-2498.3\">output:</text>\n<polyline fill=\"none\" points=\"291,-2490.5 291,-2536.5 \" stroke=\"#000000\"/>\n<text fill=\"#000000\" font-family=\"Times,serif\" font-size=\"14.00\" text-anchor=\"middle\" x=\"349.5\" y=\"-2521.3\">(None, 5000, 32)</text>\n<polyline fill=\"none\" points=\"291,-2513.5 408,-2513.5 \" stroke=\"#000000\"/>\n<text fill=\"#000000\" font-family=\"Times,serif\" font-size=\"14.00\" text-anchor=\"middle\" x=\"349.5\" y=\"-2498.3\">(None, 1250, 32)</text>\n</g>\n<!-- 140682710324880&#45;&gt;140682696789648 -->\n<g class=\"edge\" id=\"edge7\">\n<title>140682710324880-&gt;140682696789648</title>\n<path d=\"M226.5,-2573.3799C226.5,-2565.1745 226.5,-2555.7679 226.5,-2546.8786\" fill=\"none\" stroke=\"#000000\"/>\n<polygon fill=\"#000000\" points=\"230.0001,-2546.784 226.5,-2536.784 223.0001,-2546.784 230.0001,-2546.784\" stroke=\"#000000\"/>\n</g>\n<!-- 140682696788688 -->\n<g class=\"node\" id=\"node9\">\n<title>140682696788688</title>\n<polygon fill=\"none\" points=\"56,-2407.5 56,-2453.5 397,-2453.5 397,-2407.5 56,-2407.5\" stroke=\"#000000\"/>\n<text fill=\"#000000\" font-family=\"Times,serif\" font-size=\"14.00\" text-anchor=\"middle\" x=\"139\" y=\"-2426.8\">block1_dropout: Dropout</text>\n<polyline fill=\"none\" points=\"222,-2407.5 222,-2453.5 \" stroke=\"#000000\"/>\n<text fill=\"#000000\" font-family=\"Times,serif\" font-size=\"14.00\" text-anchor=\"middle\" x=\"251\" y=\"-2438.3\">input:</text>\n<polyline fill=\"none\" points=\"222,-2430.5 280,-2430.5 \" stroke=\"#000000\"/>\n<text fill=\"#000000\" font-family=\"Times,serif\" font-size=\"14.00\" text-anchor=\"middle\" x=\"251\" y=\"-2415.3\">output:</text>\n<polyline fill=\"none\" points=\"280,-2407.5 280,-2453.5 \" stroke=\"#000000\"/>\n<text fill=\"#000000\" font-family=\"Times,serif\" font-size=\"14.00\" text-anchor=\"middle\" x=\"338.5\" y=\"-2438.3\">(None, 1250, 32)</text>\n<polyline fill=\"none\" points=\"280,-2430.5 397,-2430.5 \" stroke=\"#000000\"/>\n<text fill=\"#000000\" font-family=\"Times,serif\" font-size=\"14.00\" text-anchor=\"middle\" x=\"338.5\" y=\"-2415.3\">(None, 1250, 32)</text>\n</g>\n<!-- 140682696789648&#45;&gt;140682696788688 -->\n<g class=\"edge\" id=\"edge8\">\n<title>140682696789648-&gt;140682696788688</title>\n<path d=\"M226.5,-2490.3799C226.5,-2482.1745 226.5,-2472.7679 226.5,-2463.8786\" fill=\"none\" stroke=\"#000000\"/>\n<polygon fill=\"#000000\" points=\"230.0001,-2463.784 226.5,-2453.784 223.0001,-2463.784 230.0001,-2463.784\" stroke=\"#000000\"/>\n</g>\n<!-- 140682695959504 -->\n<g class=\"node\" id=\"node10\">\n<title>140682695959504</title>\n<polygon fill=\"none\" points=\"60,-2324.5 60,-2370.5 393,-2370.5 393,-2324.5 60,-2324.5\" stroke=\"#000000\"/>\n<text fill=\"#000000\" font-family=\"Times,serif\" font-size=\"14.00\" text-anchor=\"middle\" x=\"139\" y=\"-2343.8\">block2_conv1: Conv1D</text>\n<polyline fill=\"none\" points=\"218,-2324.5 218,-2370.5 \" stroke=\"#000000\"/>\n<text fill=\"#000000\" font-family=\"Times,serif\" font-size=\"14.00\" text-anchor=\"middle\" x=\"247\" y=\"-2355.3\">input:</text>\n<polyline fill=\"none\" points=\"218,-2347.5 276,-2347.5 \" stroke=\"#000000\"/>\n<text fill=\"#000000\" font-family=\"Times,serif\" font-size=\"14.00\" text-anchor=\"middle\" x=\"247\" y=\"-2332.3\">output:</text>\n<polyline fill=\"none\" points=\"276,-2324.5 276,-2370.5 \" stroke=\"#000000\"/>\n<text fill=\"#000000\" font-family=\"Times,serif\" font-size=\"14.00\" text-anchor=\"middle\" x=\"334.5\" y=\"-2355.3\">(None, 1250, 32)</text>\n<polyline fill=\"none\" points=\"276,-2347.5 393,-2347.5 \" stroke=\"#000000\"/>\n<text fill=\"#000000\" font-family=\"Times,serif\" font-size=\"14.00\" text-anchor=\"middle\" x=\"334.5\" y=\"-2332.3\">(None, 1250, 64)</text>\n</g>\n<!-- 140682696788688&#45;&gt;140682695959504 -->\n<g class=\"edge\" id=\"edge9\">\n<title>140682696788688-&gt;140682695959504</title>\n<path d=\"M226.5,-2407.3799C226.5,-2399.1745 226.5,-2389.7679 226.5,-2380.8786\" fill=\"none\" stroke=\"#000000\"/>\n<polygon fill=\"#000000\" points=\"230.0001,-2380.784 226.5,-2370.784 223.0001,-2380.784 230.0001,-2380.784\" stroke=\"#000000\"/>\n</g>\n<!-- 140682709752592 -->\n<g class=\"node\" id=\"node11\">\n<title>140682709752592</title>\n<polygon fill=\"none\" points=\"0,-2241.5 0,-2287.5 453,-2287.5 453,-2241.5 0,-2241.5\" stroke=\"#000000\"/>\n<text fill=\"#000000\" font-family=\"Times,serif\" font-size=\"14.00\" text-anchor=\"middle\" x=\"139\" y=\"-2260.8\">batch_normalization_50: BatchNormalization</text>\n<polyline fill=\"none\" points=\"278,-2241.5 278,-2287.5 \" stroke=\"#000000\"/>\n<text fill=\"#000000\" font-family=\"Times,serif\" font-size=\"14.00\" text-anchor=\"middle\" x=\"307\" y=\"-2272.3\">input:</text>\n<polyline fill=\"none\" points=\"278,-2264.5 336,-2264.5 \" stroke=\"#000000\"/>\n<text fill=\"#000000\" font-family=\"Times,serif\" font-size=\"14.00\" text-anchor=\"middle\" x=\"307\" y=\"-2249.3\">output:</text>\n<polyline fill=\"none\" points=\"336,-2241.5 336,-2287.5 \" stroke=\"#000000\"/>\n<text fill=\"#000000\" font-family=\"Times,serif\" font-size=\"14.00\" text-anchor=\"middle\" x=\"394.5\" y=\"-2272.3\">(None, 1250, 64)</text>\n<polyline fill=\"none\" points=\"336,-2264.5 453,-2264.5 \" stroke=\"#000000\"/>\n<text fill=\"#000000\" font-family=\"Times,serif\" font-size=\"14.00\" text-anchor=\"middle\" x=\"394.5\" y=\"-2249.3\">(None, 1250, 64)</text>\n</g>\n<!-- 140682695959504&#45;&gt;140682709752592 -->\n<g class=\"edge\" id=\"edge10\">\n<title>140682695959504-&gt;140682709752592</title>\n<path d=\"M226.5,-2324.3799C226.5,-2316.1745 226.5,-2306.7679 226.5,-2297.8786\" fill=\"none\" stroke=\"#000000\"/>\n<polygon fill=\"#000000\" points=\"230.0001,-2297.784 226.5,-2287.784 223.0001,-2297.784 230.0001,-2297.784\" stroke=\"#000000\"/>\n</g>\n<!-- 140682699640912 -->\n<g class=\"node\" id=\"node12\">\n<title>140682699640912</title>\n<polygon fill=\"none\" points=\"62,-2158.5 62,-2204.5 391,-2204.5 391,-2158.5 62,-2158.5\" stroke=\"#000000\"/>\n<text fill=\"#000000\" font-family=\"Times,serif\" font-size=\"14.00\" text-anchor=\"middle\" x=\"139\" y=\"-2177.8\">block2_act1: Activation</text>\n<polyline fill=\"none\" points=\"216,-2158.5 216,-2204.5 \" stroke=\"#000000\"/>\n<text fill=\"#000000\" font-family=\"Times,serif\" font-size=\"14.00\" text-anchor=\"middle\" x=\"245\" y=\"-2189.3\">input:</text>\n<polyline fill=\"none\" points=\"216,-2181.5 274,-2181.5 \" stroke=\"#000000\"/>\n<text fill=\"#000000\" font-family=\"Times,serif\" font-size=\"14.00\" text-anchor=\"middle\" x=\"245\" y=\"-2166.3\">output:</text>\n<polyline fill=\"none\" points=\"274,-2158.5 274,-2204.5 \" stroke=\"#000000\"/>\n<text fill=\"#000000\" font-family=\"Times,serif\" font-size=\"14.00\" text-anchor=\"middle\" x=\"332.5\" y=\"-2189.3\">(None, 1250, 64)</text>\n<polyline fill=\"none\" points=\"274,-2181.5 391,-2181.5 \" stroke=\"#000000\"/>\n<text fill=\"#000000\" font-family=\"Times,serif\" font-size=\"14.00\" text-anchor=\"middle\" x=\"332.5\" y=\"-2166.3\">(None, 1250, 64)</text>\n</g>\n<!-- 140682709752592&#45;&gt;140682699640912 -->\n<g class=\"edge\" id=\"edge11\">\n<title>140682709752592-&gt;140682699640912</title>\n<path d=\"M226.5,-2241.3799C226.5,-2233.1745 226.5,-2223.7679 226.5,-2214.8786\" fill=\"none\" stroke=\"#000000\"/>\n<polygon fill=\"#000000\" points=\"230.0001,-2214.784 226.5,-2204.784 223.0001,-2214.784 230.0001,-2214.784\" stroke=\"#000000\"/>\n</g>\n<!-- 140682696786896 -->\n<g class=\"node\" id=\"node13\">\n<title>140682696786896</title>\n<polygon fill=\"none\" points=\"60,-2075.5 60,-2121.5 393,-2121.5 393,-2075.5 60,-2075.5\" stroke=\"#000000\"/>\n<text fill=\"#000000\" font-family=\"Times,serif\" font-size=\"14.00\" text-anchor=\"middle\" x=\"139\" y=\"-2094.8\">block2_conv2: Conv1D</text>\n<polyline fill=\"none\" points=\"218,-2075.5 218,-2121.5 \" stroke=\"#000000\"/>\n<text fill=\"#000000\" font-family=\"Times,serif\" font-size=\"14.00\" text-anchor=\"middle\" x=\"247\" y=\"-2106.3\">input:</text>\n<polyline fill=\"none\" points=\"218,-2098.5 276,-2098.5 \" stroke=\"#000000\"/>\n<text fill=\"#000000\" font-family=\"Times,serif\" font-size=\"14.00\" text-anchor=\"middle\" x=\"247\" y=\"-2083.3\">output:</text>\n<polyline fill=\"none\" points=\"276,-2075.5 276,-2121.5 \" stroke=\"#000000\"/>\n<text fill=\"#000000\" font-family=\"Times,serif\" font-size=\"14.00\" text-anchor=\"middle\" x=\"334.5\" y=\"-2106.3\">(None, 1250, 64)</text>\n<polyline fill=\"none\" points=\"276,-2098.5 393,-2098.5 \" stroke=\"#000000\"/>\n<text fill=\"#000000\" font-family=\"Times,serif\" font-size=\"14.00\" text-anchor=\"middle\" x=\"334.5\" y=\"-2083.3\">(None, 1250, 64)</text>\n</g>\n<!-- 140682699640912&#45;&gt;140682696786896 -->\n<g class=\"edge\" id=\"edge12\">\n<title>140682699640912-&gt;140682696786896</title>\n<path d=\"M226.5,-2158.3799C226.5,-2150.1745 226.5,-2140.7679 226.5,-2131.8786\" fill=\"none\" stroke=\"#000000\"/>\n<polygon fill=\"#000000\" points=\"230.0001,-2131.784 226.5,-2121.784 223.0001,-2131.784 230.0001,-2131.784\" stroke=\"#000000\"/>\n</g>\n<!-- 140682709347472 -->\n<g class=\"node\" id=\"node14\">\n<title>140682709347472</title>\n<polygon fill=\"none\" points=\"0,-1992.5 0,-2038.5 453,-2038.5 453,-1992.5 0,-1992.5\" stroke=\"#000000\"/>\n<text fill=\"#000000\" font-family=\"Times,serif\" font-size=\"14.00\" text-anchor=\"middle\" x=\"139\" y=\"-2011.8\">batch_normalization_51: BatchNormalization</text>\n<polyline fill=\"none\" points=\"278,-1992.5 278,-2038.5 \" stroke=\"#000000\"/>\n<text fill=\"#000000\" font-family=\"Times,serif\" font-size=\"14.00\" text-anchor=\"middle\" x=\"307\" y=\"-2023.3\">input:</text>\n<polyline fill=\"none\" points=\"278,-2015.5 336,-2015.5 \" stroke=\"#000000\"/>\n<text fill=\"#000000\" font-family=\"Times,serif\" font-size=\"14.00\" text-anchor=\"middle\" x=\"307\" y=\"-2000.3\">output:</text>\n<polyline fill=\"none\" points=\"336,-1992.5 336,-2038.5 \" stroke=\"#000000\"/>\n<text fill=\"#000000\" font-family=\"Times,serif\" font-size=\"14.00\" text-anchor=\"middle\" x=\"394.5\" y=\"-2023.3\">(None, 1250, 64)</text>\n<polyline fill=\"none\" points=\"336,-2015.5 453,-2015.5 \" stroke=\"#000000\"/>\n<text fill=\"#000000\" font-family=\"Times,serif\" font-size=\"14.00\" text-anchor=\"middle\" x=\"394.5\" y=\"-2000.3\">(None, 1250, 64)</text>\n</g>\n<!-- 140682696786896&#45;&gt;140682709347472 -->\n<g class=\"edge\" id=\"edge13\">\n<title>140682696786896-&gt;140682709347472</title>\n<path d=\"M226.5,-2075.3799C226.5,-2067.1745 226.5,-2057.7679 226.5,-2048.8786\" fill=\"none\" stroke=\"#000000\"/>\n<polygon fill=\"#000000\" points=\"230.0001,-2048.784 226.5,-2038.784 223.0001,-2048.784 230.0001,-2048.784\" stroke=\"#000000\"/>\n</g>\n<!-- 140682711808976 -->\n<g class=\"node\" id=\"node15\">\n<title>140682711808976</title>\n<polygon fill=\"none\" points=\"62,-1909.5 62,-1955.5 391,-1955.5 391,-1909.5 62,-1909.5\" stroke=\"#000000\"/>\n<text fill=\"#000000\" font-family=\"Times,serif\" font-size=\"14.00\" text-anchor=\"middle\" x=\"139\" y=\"-1928.8\">block2_act2: Activation</text>\n<polyline fill=\"none\" points=\"216,-1909.5 216,-1955.5 \" stroke=\"#000000\"/>\n<text fill=\"#000000\" font-family=\"Times,serif\" font-size=\"14.00\" text-anchor=\"middle\" x=\"245\" y=\"-1940.3\">input:</text>\n<polyline fill=\"none\" points=\"216,-1932.5 274,-1932.5 \" stroke=\"#000000\"/>\n<text fill=\"#000000\" font-family=\"Times,serif\" font-size=\"14.00\" text-anchor=\"middle\" x=\"245\" y=\"-1917.3\">output:</text>\n<polyline fill=\"none\" points=\"274,-1909.5 274,-1955.5 \" stroke=\"#000000\"/>\n<text fill=\"#000000\" font-family=\"Times,serif\" font-size=\"14.00\" text-anchor=\"middle\" x=\"332.5\" y=\"-1940.3\">(None, 1250, 64)</text>\n<polyline fill=\"none\" points=\"274,-1932.5 391,-1932.5 \" stroke=\"#000000\"/>\n<text fill=\"#000000\" font-family=\"Times,serif\" font-size=\"14.00\" text-anchor=\"middle\" x=\"332.5\" y=\"-1917.3\">(None, 1250, 64)</text>\n</g>\n<!-- 140682709347472&#45;&gt;140682711808976 -->\n<g class=\"edge\" id=\"edge14\">\n<title>140682709347472-&gt;140682711808976</title>\n<path d=\"M226.5,-1992.3799C226.5,-1984.1745 226.5,-1974.7679 226.5,-1965.8786\" fill=\"none\" stroke=\"#000000\"/>\n<polygon fill=\"#000000\" points=\"230.0001,-1965.784 226.5,-1955.784 223.0001,-1965.784 230.0001,-1965.784\" stroke=\"#000000\"/>\n</g>\n<!-- 140682712376528 -->\n<g class=\"node\" id=\"node16\">\n<title>140682712376528</title>\n<polygon fill=\"none\" points=\"45,-1826.5 45,-1872.5 408,-1872.5 408,-1826.5 45,-1826.5\" stroke=\"#000000\"/>\n<text fill=\"#000000\" font-family=\"Times,serif\" font-size=\"14.00\" text-anchor=\"middle\" x=\"139\" y=\"-1845.8\">block2_pool: MaxPooling1D</text>\n<polyline fill=\"none\" points=\"233,-1826.5 233,-1872.5 \" stroke=\"#000000\"/>\n<text fill=\"#000000\" font-family=\"Times,serif\" font-size=\"14.00\" text-anchor=\"middle\" x=\"262\" y=\"-1857.3\">input:</text>\n<polyline fill=\"none\" points=\"233,-1849.5 291,-1849.5 \" stroke=\"#000000\"/>\n<text fill=\"#000000\" font-family=\"Times,serif\" font-size=\"14.00\" text-anchor=\"middle\" x=\"262\" y=\"-1834.3\">output:</text>\n<polyline fill=\"none\" points=\"291,-1826.5 291,-1872.5 \" stroke=\"#000000\"/>\n<text fill=\"#000000\" font-family=\"Times,serif\" font-size=\"14.00\" text-anchor=\"middle\" x=\"349.5\" y=\"-1857.3\">(None, 1250, 64)</text>\n<polyline fill=\"none\" points=\"291,-1849.5 408,-1849.5 \" stroke=\"#000000\"/>\n<text fill=\"#000000\" font-family=\"Times,serif\" font-size=\"14.00\" text-anchor=\"middle\" x=\"349.5\" y=\"-1834.3\">(None, 313, 64)</text>\n</g>\n<!-- 140682711808976&#45;&gt;140682712376528 -->\n<g class=\"edge\" id=\"edge15\">\n<title>140682711808976-&gt;140682712376528</title>\n<path d=\"M226.5,-1909.3799C226.5,-1901.1745 226.5,-1891.7679 226.5,-1882.8786\" fill=\"none\" stroke=\"#000000\"/>\n<polygon fill=\"#000000\" points=\"230.0001,-1882.784 226.5,-1872.784 223.0001,-1882.784 230.0001,-1882.784\" stroke=\"#000000\"/>\n</g>\n<!-- 140682698740752 -->\n<g class=\"node\" id=\"node17\">\n<title>140682698740752</title>\n<polygon fill=\"none\" points=\"59.5,-1743.5 59.5,-1789.5 393.5,-1789.5 393.5,-1743.5 59.5,-1743.5\" stroke=\"#000000\"/>\n<text fill=\"#000000\" font-family=\"Times,serif\" font-size=\"14.00\" text-anchor=\"middle\" x=\"142.5\" y=\"-1762.8\">block2_dropout: Dropout</text>\n<polyline fill=\"none\" points=\"225.5,-1743.5 225.5,-1789.5 \" stroke=\"#000000\"/>\n<text fill=\"#000000\" font-family=\"Times,serif\" font-size=\"14.00\" text-anchor=\"middle\" x=\"254.5\" y=\"-1774.3\">input:</text>\n<polyline fill=\"none\" points=\"225.5,-1766.5 283.5,-1766.5 \" stroke=\"#000000\"/>\n<text fill=\"#000000\" font-family=\"Times,serif\" font-size=\"14.00\" text-anchor=\"middle\" x=\"254.5\" y=\"-1751.3\">output:</text>\n<polyline fill=\"none\" points=\"283.5,-1743.5 283.5,-1789.5 \" stroke=\"#000000\"/>\n<text fill=\"#000000\" font-family=\"Times,serif\" font-size=\"14.00\" text-anchor=\"middle\" x=\"338.5\" y=\"-1774.3\">(None, 313, 64)</text>\n<polyline fill=\"none\" points=\"283.5,-1766.5 393.5,-1766.5 \" stroke=\"#000000\"/>\n<text fill=\"#000000\" font-family=\"Times,serif\" font-size=\"14.00\" text-anchor=\"middle\" x=\"338.5\" y=\"-1751.3\">(None, 313, 64)</text>\n</g>\n<!-- 140682712376528&#45;&gt;140682698740752 -->\n<g class=\"edge\" id=\"edge16\">\n<title>140682712376528-&gt;140682698740752</title>\n<path d=\"M226.5,-1826.3799C226.5,-1818.1745 226.5,-1808.7679 226.5,-1799.8786\" fill=\"none\" stroke=\"#000000\"/>\n<polygon fill=\"#000000\" points=\"230.0001,-1799.784 226.5,-1789.784 223.0001,-1799.784 230.0001,-1799.784\" stroke=\"#000000\"/>\n</g>\n<!-- 140674677033360 -->\n<g class=\"node\" id=\"node18\">\n<title>140674677033360</title>\n<polygon fill=\"none\" points=\"60,-1660.5 60,-1706.5 393,-1706.5 393,-1660.5 60,-1660.5\" stroke=\"#000000\"/>\n<text fill=\"#000000\" font-family=\"Times,serif\" font-size=\"14.00\" text-anchor=\"middle\" x=\"139\" y=\"-1679.8\">block3_conv1: Conv1D</text>\n<polyline fill=\"none\" points=\"218,-1660.5 218,-1706.5 \" stroke=\"#000000\"/>\n<text fill=\"#000000\" font-family=\"Times,serif\" font-size=\"14.00\" text-anchor=\"middle\" x=\"247\" y=\"-1691.3\">input:</text>\n<polyline fill=\"none\" points=\"218,-1683.5 276,-1683.5 \" stroke=\"#000000\"/>\n<text fill=\"#000000\" font-family=\"Times,serif\" font-size=\"14.00\" text-anchor=\"middle\" x=\"247\" y=\"-1668.3\">output:</text>\n<polyline fill=\"none\" points=\"276,-1660.5 276,-1706.5 \" stroke=\"#000000\"/>\n<text fill=\"#000000\" font-family=\"Times,serif\" font-size=\"14.00\" text-anchor=\"middle\" x=\"334.5\" y=\"-1691.3\">(None, 313, 64)</text>\n<polyline fill=\"none\" points=\"276,-1683.5 393,-1683.5 \" stroke=\"#000000\"/>\n<text fill=\"#000000\" font-family=\"Times,serif\" font-size=\"14.00\" text-anchor=\"middle\" x=\"334.5\" y=\"-1668.3\">(None, 313, 128)</text>\n</g>\n<!-- 140682698740752&#45;&gt;140674677033360 -->\n<g class=\"edge\" id=\"edge17\">\n<title>140682698740752-&gt;140674677033360</title>\n<path d=\"M226.5,-1743.3799C226.5,-1735.1745 226.5,-1725.7679 226.5,-1716.8786\" fill=\"none\" stroke=\"#000000\"/>\n<polygon fill=\"#000000\" points=\"230.0001,-1716.784 226.5,-1706.784 223.0001,-1716.784 230.0001,-1716.784\" stroke=\"#000000\"/>\n</g>\n<!-- 140682709364368 -->\n<g class=\"node\" id=\"node19\">\n<title>140682709364368</title>\n<polygon fill=\"none\" points=\"0,-1577.5 0,-1623.5 453,-1623.5 453,-1577.5 0,-1577.5\" stroke=\"#000000\"/>\n<text fill=\"#000000\" font-family=\"Times,serif\" font-size=\"14.00\" text-anchor=\"middle\" x=\"139\" y=\"-1596.8\">batch_normalization_52: BatchNormalization</text>\n<polyline fill=\"none\" points=\"278,-1577.5 278,-1623.5 \" stroke=\"#000000\"/>\n<text fill=\"#000000\" font-family=\"Times,serif\" font-size=\"14.00\" text-anchor=\"middle\" x=\"307\" y=\"-1608.3\">input:</text>\n<polyline fill=\"none\" points=\"278,-1600.5 336,-1600.5 \" stroke=\"#000000\"/>\n<text fill=\"#000000\" font-family=\"Times,serif\" font-size=\"14.00\" text-anchor=\"middle\" x=\"307\" y=\"-1585.3\">output:</text>\n<polyline fill=\"none\" points=\"336,-1577.5 336,-1623.5 \" stroke=\"#000000\"/>\n<text fill=\"#000000\" font-family=\"Times,serif\" font-size=\"14.00\" text-anchor=\"middle\" x=\"394.5\" y=\"-1608.3\">(None, 313, 128)</text>\n<polyline fill=\"none\" points=\"336,-1600.5 453,-1600.5 \" stroke=\"#000000\"/>\n<text fill=\"#000000\" font-family=\"Times,serif\" font-size=\"14.00\" text-anchor=\"middle\" x=\"394.5\" y=\"-1585.3\">(None, 313, 128)</text>\n</g>\n<!-- 140674677033360&#45;&gt;140682709364368 -->\n<g class=\"edge\" id=\"edge18\">\n<title>140674677033360-&gt;140682709364368</title>\n<path d=\"M226.5,-1660.3799C226.5,-1652.1745 226.5,-1642.7679 226.5,-1633.8786\" fill=\"none\" stroke=\"#000000\"/>\n<polygon fill=\"#000000\" points=\"230.0001,-1633.784 226.5,-1623.784 223.0001,-1633.784 230.0001,-1633.784\" stroke=\"#000000\"/>\n</g>\n<!-- 140682695555728 -->\n<g class=\"node\" id=\"node20\">\n<title>140682695555728</title>\n<polygon fill=\"none\" points=\"62,-1494.5 62,-1540.5 391,-1540.5 391,-1494.5 62,-1494.5\" stroke=\"#000000\"/>\n<text fill=\"#000000\" font-family=\"Times,serif\" font-size=\"14.00\" text-anchor=\"middle\" x=\"139\" y=\"-1513.8\">block3_act1: Activation</text>\n<polyline fill=\"none\" points=\"216,-1494.5 216,-1540.5 \" stroke=\"#000000\"/>\n<text fill=\"#000000\" font-family=\"Times,serif\" font-size=\"14.00\" text-anchor=\"middle\" x=\"245\" y=\"-1525.3\">input:</text>\n<polyline fill=\"none\" points=\"216,-1517.5 274,-1517.5 \" stroke=\"#000000\"/>\n<text fill=\"#000000\" font-family=\"Times,serif\" font-size=\"14.00\" text-anchor=\"middle\" x=\"245\" y=\"-1502.3\">output:</text>\n<polyline fill=\"none\" points=\"274,-1494.5 274,-1540.5 \" stroke=\"#000000\"/>\n<text fill=\"#000000\" font-family=\"Times,serif\" font-size=\"14.00\" text-anchor=\"middle\" x=\"332.5\" y=\"-1525.3\">(None, 313, 128)</text>\n<polyline fill=\"none\" points=\"274,-1517.5 391,-1517.5 \" stroke=\"#000000\"/>\n<text fill=\"#000000\" font-family=\"Times,serif\" font-size=\"14.00\" text-anchor=\"middle\" x=\"332.5\" y=\"-1502.3\">(None, 313, 128)</text>\n</g>\n<!-- 140682709364368&#45;&gt;140682695555728 -->\n<g class=\"edge\" id=\"edge19\">\n<title>140682709364368-&gt;140682695555728</title>\n<path d=\"M226.5,-1577.3799C226.5,-1569.1745 226.5,-1559.7679 226.5,-1550.8786\" fill=\"none\" stroke=\"#000000\"/>\n<polygon fill=\"#000000\" points=\"230.0001,-1550.784 226.5,-1540.784 223.0001,-1550.784 230.0001,-1550.784\" stroke=\"#000000\"/>\n</g>\n<!-- 140682699527312 -->\n<g class=\"node\" id=\"node21\">\n<title>140682699527312</title>\n<polygon fill=\"none\" points=\"60,-1411.5 60,-1457.5 393,-1457.5 393,-1411.5 60,-1411.5\" stroke=\"#000000\"/>\n<text fill=\"#000000\" font-family=\"Times,serif\" font-size=\"14.00\" text-anchor=\"middle\" x=\"139\" y=\"-1430.8\">block3_conv2: Conv1D</text>\n<polyline fill=\"none\" points=\"218,-1411.5 218,-1457.5 \" stroke=\"#000000\"/>\n<text fill=\"#000000\" font-family=\"Times,serif\" font-size=\"14.00\" text-anchor=\"middle\" x=\"247\" y=\"-1442.3\">input:</text>\n<polyline fill=\"none\" points=\"218,-1434.5 276,-1434.5 \" stroke=\"#000000\"/>\n<text fill=\"#000000\" font-family=\"Times,serif\" font-size=\"14.00\" text-anchor=\"middle\" x=\"247\" y=\"-1419.3\">output:</text>\n<polyline fill=\"none\" points=\"276,-1411.5 276,-1457.5 \" stroke=\"#000000\"/>\n<text fill=\"#000000\" font-family=\"Times,serif\" font-size=\"14.00\" text-anchor=\"middle\" x=\"334.5\" y=\"-1442.3\">(None, 313, 128)</text>\n<polyline fill=\"none\" points=\"276,-1434.5 393,-1434.5 \" stroke=\"#000000\"/>\n<text fill=\"#000000\" font-family=\"Times,serif\" font-size=\"14.00\" text-anchor=\"middle\" x=\"334.5\" y=\"-1419.3\">(None, 313, 128)</text>\n</g>\n<!-- 140682695555728&#45;&gt;140682699527312 -->\n<g class=\"edge\" id=\"edge20\">\n<title>140682695555728-&gt;140682699527312</title>\n<path d=\"M226.5,-1494.3799C226.5,-1486.1745 226.5,-1476.7679 226.5,-1467.8786\" fill=\"none\" stroke=\"#000000\"/>\n<polygon fill=\"#000000\" points=\"230.0001,-1467.784 226.5,-1457.784 223.0001,-1467.784 230.0001,-1467.784\" stroke=\"#000000\"/>\n</g>\n<!-- 140682695188176 -->\n<g class=\"node\" id=\"node22\">\n<title>140682695188176</title>\n<polygon fill=\"none\" points=\"0,-1328.5 0,-1374.5 453,-1374.5 453,-1328.5 0,-1328.5\" stroke=\"#000000\"/>\n<text fill=\"#000000\" font-family=\"Times,serif\" font-size=\"14.00\" text-anchor=\"middle\" x=\"139\" y=\"-1347.8\">batch_normalization_53: BatchNormalization</text>\n<polyline fill=\"none\" points=\"278,-1328.5 278,-1374.5 \" stroke=\"#000000\"/>\n<text fill=\"#000000\" font-family=\"Times,serif\" font-size=\"14.00\" text-anchor=\"middle\" x=\"307\" y=\"-1359.3\">input:</text>\n<polyline fill=\"none\" points=\"278,-1351.5 336,-1351.5 \" stroke=\"#000000\"/>\n<text fill=\"#000000\" font-family=\"Times,serif\" font-size=\"14.00\" text-anchor=\"middle\" x=\"307\" y=\"-1336.3\">output:</text>\n<polyline fill=\"none\" points=\"336,-1328.5 336,-1374.5 \" stroke=\"#000000\"/>\n<text fill=\"#000000\" font-family=\"Times,serif\" font-size=\"14.00\" text-anchor=\"middle\" x=\"394.5\" y=\"-1359.3\">(None, 313, 128)</text>\n<polyline fill=\"none\" points=\"336,-1351.5 453,-1351.5 \" stroke=\"#000000\"/>\n<text fill=\"#000000\" font-family=\"Times,serif\" font-size=\"14.00\" text-anchor=\"middle\" x=\"394.5\" y=\"-1336.3\">(None, 313, 128)</text>\n</g>\n<!-- 140682699527312&#45;&gt;140682695188176 -->\n<g class=\"edge\" id=\"edge21\">\n<title>140682699527312-&gt;140682695188176</title>\n<path d=\"M226.5,-1411.3799C226.5,-1403.1745 226.5,-1393.7679 226.5,-1384.8786\" fill=\"none\" stroke=\"#000000\"/>\n<polygon fill=\"#000000\" points=\"230.0001,-1384.784 226.5,-1374.784 223.0001,-1384.784 230.0001,-1384.784\" stroke=\"#000000\"/>\n</g>\n<!-- 140682711854672 -->\n<g class=\"node\" id=\"node23\">\n<title>140682711854672</title>\n<polygon fill=\"none\" points=\"62,-1245.5 62,-1291.5 391,-1291.5 391,-1245.5 62,-1245.5\" stroke=\"#000000\"/>\n<text fill=\"#000000\" font-family=\"Times,serif\" font-size=\"14.00\" text-anchor=\"middle\" x=\"139\" y=\"-1264.8\">block3_act2: Activation</text>\n<polyline fill=\"none\" points=\"216,-1245.5 216,-1291.5 \" stroke=\"#000000\"/>\n<text fill=\"#000000\" font-family=\"Times,serif\" font-size=\"14.00\" text-anchor=\"middle\" x=\"245\" y=\"-1276.3\">input:</text>\n<polyline fill=\"none\" points=\"216,-1268.5 274,-1268.5 \" stroke=\"#000000\"/>\n<text fill=\"#000000\" font-family=\"Times,serif\" font-size=\"14.00\" text-anchor=\"middle\" x=\"245\" y=\"-1253.3\">output:</text>\n<polyline fill=\"none\" points=\"274,-1245.5 274,-1291.5 \" stroke=\"#000000\"/>\n<text fill=\"#000000\" font-family=\"Times,serif\" font-size=\"14.00\" text-anchor=\"middle\" x=\"332.5\" y=\"-1276.3\">(None, 313, 128)</text>\n<polyline fill=\"none\" points=\"274,-1268.5 391,-1268.5 \" stroke=\"#000000\"/>\n<text fill=\"#000000\" font-family=\"Times,serif\" font-size=\"14.00\" text-anchor=\"middle\" x=\"332.5\" y=\"-1253.3\">(None, 313, 128)</text>\n</g>\n<!-- 140682695188176&#45;&gt;140682711854672 -->\n<g class=\"edge\" id=\"edge22\">\n<title>140682695188176-&gt;140682711854672</title>\n<path d=\"M226.5,-1328.3799C226.5,-1320.1745 226.5,-1310.7679 226.5,-1301.8786\" fill=\"none\" stroke=\"#000000\"/>\n<polygon fill=\"#000000\" points=\"230.0001,-1301.784 226.5,-1291.784 223.0001,-1301.784 230.0001,-1301.784\" stroke=\"#000000\"/>\n</g>\n<!-- 140682699526480 -->\n<g class=\"node\" id=\"node24\">\n<title>140682699526480</title>\n<polygon fill=\"none\" points=\"45,-1162.5 45,-1208.5 408,-1208.5 408,-1162.5 45,-1162.5\" stroke=\"#000000\"/>\n<text fill=\"#000000\" font-family=\"Times,serif\" font-size=\"14.00\" text-anchor=\"middle\" x=\"139\" y=\"-1181.8\">block3_pool: MaxPooling1D</text>\n<polyline fill=\"none\" points=\"233,-1162.5 233,-1208.5 \" stroke=\"#000000\"/>\n<text fill=\"#000000\" font-family=\"Times,serif\" font-size=\"14.00\" text-anchor=\"middle\" x=\"262\" y=\"-1193.3\">input:</text>\n<polyline fill=\"none\" points=\"233,-1185.5 291,-1185.5 \" stroke=\"#000000\"/>\n<text fill=\"#000000\" font-family=\"Times,serif\" font-size=\"14.00\" text-anchor=\"middle\" x=\"262\" y=\"-1170.3\">output:</text>\n<polyline fill=\"none\" points=\"291,-1162.5 291,-1208.5 \" stroke=\"#000000\"/>\n<text fill=\"#000000\" font-family=\"Times,serif\" font-size=\"14.00\" text-anchor=\"middle\" x=\"349.5\" y=\"-1193.3\">(None, 313, 128)</text>\n<polyline fill=\"none\" points=\"291,-1185.5 408,-1185.5 \" stroke=\"#000000\"/>\n<text fill=\"#000000\" font-family=\"Times,serif\" font-size=\"14.00\" text-anchor=\"middle\" x=\"349.5\" y=\"-1170.3\">(None, 79, 128)</text>\n</g>\n<!-- 140682711854672&#45;&gt;140682699526480 -->\n<g class=\"edge\" id=\"edge23\">\n<title>140682711854672-&gt;140682699526480</title>\n<path d=\"M226.5,-1245.3799C226.5,-1237.1745 226.5,-1227.7679 226.5,-1218.8786\" fill=\"none\" stroke=\"#000000\"/>\n<polygon fill=\"#000000\" points=\"230.0001,-1218.784 226.5,-1208.784 223.0001,-1218.784 230.0001,-1218.784\" stroke=\"#000000\"/>\n</g>\n<!-- 140674677117584 -->\n<g class=\"node\" id=\"node25\">\n<title>140674677117584</title>\n<polygon fill=\"none\" points=\"59.5,-1079.5 59.5,-1125.5 393.5,-1125.5 393.5,-1079.5 59.5,-1079.5\" stroke=\"#000000\"/>\n<text fill=\"#000000\" font-family=\"Times,serif\" font-size=\"14.00\" text-anchor=\"middle\" x=\"142.5\" y=\"-1098.8\">block3_dropout: Dropout</text>\n<polyline fill=\"none\" points=\"225.5,-1079.5 225.5,-1125.5 \" stroke=\"#000000\"/>\n<text fill=\"#000000\" font-family=\"Times,serif\" font-size=\"14.00\" text-anchor=\"middle\" x=\"254.5\" y=\"-1110.3\">input:</text>\n<polyline fill=\"none\" points=\"225.5,-1102.5 283.5,-1102.5 \" stroke=\"#000000\"/>\n<text fill=\"#000000\" font-family=\"Times,serif\" font-size=\"14.00\" text-anchor=\"middle\" x=\"254.5\" y=\"-1087.3\">output:</text>\n<polyline fill=\"none\" points=\"283.5,-1079.5 283.5,-1125.5 \" stroke=\"#000000\"/>\n<text fill=\"#000000\" font-family=\"Times,serif\" font-size=\"14.00\" text-anchor=\"middle\" x=\"338.5\" y=\"-1110.3\">(None, 79, 128)</text>\n<polyline fill=\"none\" points=\"283.5,-1102.5 393.5,-1102.5 \" stroke=\"#000000\"/>\n<text fill=\"#000000\" font-family=\"Times,serif\" font-size=\"14.00\" text-anchor=\"middle\" x=\"338.5\" y=\"-1087.3\">(None, 79, 128)</text>\n</g>\n<!-- 140682699526480&#45;&gt;140674677117584 -->\n<g class=\"edge\" id=\"edge24\">\n<title>140682699526480-&gt;140674677117584</title>\n<path d=\"M226.5,-1162.3799C226.5,-1154.1745 226.5,-1144.7679 226.5,-1135.8786\" fill=\"none\" stroke=\"#000000\"/>\n<polygon fill=\"#000000\" points=\"230.0001,-1135.784 226.5,-1125.784 223.0001,-1135.784 230.0001,-1135.784\" stroke=\"#000000\"/>\n</g>\n<!-- 140682695184976 -->\n<g class=\"node\" id=\"node26\">\n<title>140682695184976</title>\n<polygon fill=\"none\" points=\"50,-996.5 50,-1042.5 403,-1042.5 403,-996.5 50,-996.5\" stroke=\"#000000\"/>\n<text fill=\"#000000\" font-family=\"Times,serif\" font-size=\"14.00\" text-anchor=\"middle\" x=\"142.5\" y=\"-1015.8\">resnet_block_6: ResnetBlock</text>\n<polyline fill=\"none\" points=\"235,-996.5 235,-1042.5 \" stroke=\"#000000\"/>\n<text fill=\"#000000\" font-family=\"Times,serif\" font-size=\"14.00\" text-anchor=\"middle\" x=\"264\" y=\"-1027.3\">input:</text>\n<polyline fill=\"none\" points=\"235,-1019.5 293,-1019.5 \" stroke=\"#000000\"/>\n<text fill=\"#000000\" font-family=\"Times,serif\" font-size=\"14.00\" text-anchor=\"middle\" x=\"264\" y=\"-1004.3\">output:</text>\n<polyline fill=\"none\" points=\"293,-996.5 293,-1042.5 \" stroke=\"#000000\"/>\n<text fill=\"#000000\" font-family=\"Times,serif\" font-size=\"14.00\" text-anchor=\"middle\" x=\"348\" y=\"-1027.3\">(None, 79, 128)</text>\n<polyline fill=\"none\" points=\"293,-1019.5 403,-1019.5 \" stroke=\"#000000\"/>\n<text fill=\"#000000\" font-family=\"Times,serif\" font-size=\"14.00\" text-anchor=\"middle\" x=\"348\" y=\"-1004.3\">(None, 79, 128)</text>\n</g>\n<!-- 140674677117584&#45;&gt;140682695184976 -->\n<g class=\"edge\" id=\"edge25\">\n<title>140674677117584-&gt;140682695184976</title>\n<path d=\"M226.5,-1079.3799C226.5,-1071.1745 226.5,-1061.7679 226.5,-1052.8786\" fill=\"none\" stroke=\"#000000\"/>\n<polygon fill=\"#000000\" points=\"230.0001,-1052.784 226.5,-1042.784 223.0001,-1052.784 230.0001,-1052.784\" stroke=\"#000000\"/>\n</g>\n<!-- 140682695989648 -->\n<g class=\"node\" id=\"node27\">\n<title>140682695989648</title>\n<polygon fill=\"none\" points=\"50,-913.5 50,-959.5 403,-959.5 403,-913.5 50,-913.5\" stroke=\"#000000\"/>\n<text fill=\"#000000\" font-family=\"Times,serif\" font-size=\"14.00\" text-anchor=\"middle\" x=\"142.5\" y=\"-932.8\">resnet_block_7: ResnetBlock</text>\n<polyline fill=\"none\" points=\"235,-913.5 235,-959.5 \" stroke=\"#000000\"/>\n<text fill=\"#000000\" font-family=\"Times,serif\" font-size=\"14.00\" text-anchor=\"middle\" x=\"264\" y=\"-944.3\">input:</text>\n<polyline fill=\"none\" points=\"235,-936.5 293,-936.5 \" stroke=\"#000000\"/>\n<text fill=\"#000000\" font-family=\"Times,serif\" font-size=\"14.00\" text-anchor=\"middle\" x=\"264\" y=\"-921.3\">output:</text>\n<polyline fill=\"none\" points=\"293,-913.5 293,-959.5 \" stroke=\"#000000\"/>\n<text fill=\"#000000\" font-family=\"Times,serif\" font-size=\"14.00\" text-anchor=\"middle\" x=\"348\" y=\"-944.3\">(None, 79, 128)</text>\n<polyline fill=\"none\" points=\"293,-936.5 403,-936.5 \" stroke=\"#000000\"/>\n<text fill=\"#000000\" font-family=\"Times,serif\" font-size=\"14.00\" text-anchor=\"middle\" x=\"348\" y=\"-921.3\">(None, 40, 256)</text>\n</g>\n<!-- 140682695184976&#45;&gt;140682695989648 -->\n<g class=\"edge\" id=\"edge26\">\n<title>140682695184976-&gt;140682695989648</title>\n<path d=\"M226.5,-996.3799C226.5,-988.1745 226.5,-978.7679 226.5,-969.8786\" fill=\"none\" stroke=\"#000000\"/>\n<polygon fill=\"#000000\" points=\"230.0001,-969.784 226.5,-959.784 223.0001,-969.784 230.0001,-969.784\" stroke=\"#000000\"/>\n</g>\n<!-- 140684401310096 -->\n<g class=\"node\" id=\"node28\">\n<title>140684401310096</title>\n<polygon fill=\"none\" points=\"93.5,-830.5 93.5,-876.5 359.5,-876.5 359.5,-830.5 93.5,-830.5\" stroke=\"#000000\"/>\n<text fill=\"#000000\" font-family=\"Times,serif\" font-size=\"14.00\" text-anchor=\"middle\" x=\"142.5\" y=\"-849.8\">flatten: Flatten</text>\n<polyline fill=\"none\" points=\"191.5,-830.5 191.5,-876.5 \" stroke=\"#000000\"/>\n<text fill=\"#000000\" font-family=\"Times,serif\" font-size=\"14.00\" text-anchor=\"middle\" x=\"220.5\" y=\"-861.3\">input:</text>\n<polyline fill=\"none\" points=\"191.5,-853.5 249.5,-853.5 \" stroke=\"#000000\"/>\n<text fill=\"#000000\" font-family=\"Times,serif\" font-size=\"14.00\" text-anchor=\"middle\" x=\"220.5\" y=\"-838.3\">output:</text>\n<polyline fill=\"none\" points=\"249.5,-830.5 249.5,-876.5 \" stroke=\"#000000\"/>\n<text fill=\"#000000\" font-family=\"Times,serif\" font-size=\"14.00\" text-anchor=\"middle\" x=\"304.5\" y=\"-861.3\">(None, 40, 256)</text>\n<polyline fill=\"none\" points=\"249.5,-853.5 359.5,-853.5 \" stroke=\"#000000\"/>\n<text fill=\"#000000\" font-family=\"Times,serif\" font-size=\"14.00\" text-anchor=\"middle\" x=\"304.5\" y=\"-838.3\">(None, 10240)</text>\n</g>\n<!-- 140682695989648&#45;&gt;140684401310096 -->\n<g class=\"edge\" id=\"edge27\">\n<title>140682695989648-&gt;140684401310096</title>\n<path d=\"M226.5,-913.3799C226.5,-905.1745 226.5,-895.7679 226.5,-886.8786\" fill=\"none\" stroke=\"#000000\"/>\n<polygon fill=\"#000000\" points=\"230.0001,-886.784 226.5,-876.784 223.0001,-886.784 230.0001,-886.784\" stroke=\"#000000\"/>\n</g>\n<!-- 140682528046544 -->\n<g class=\"node\" id=\"node29\">\n<title>140682528046544</title>\n<polygon fill=\"none\" points=\"108,-747.5 108,-793.5 345,-793.5 345,-747.5 108,-747.5\" stroke=\"#000000\"/>\n<text fill=\"#000000\" font-family=\"Times,serif\" font-size=\"14.00\" text-anchor=\"middle\" x=\"146.5\" y=\"-766.8\">fc1: Dense</text>\n<polyline fill=\"none\" points=\"185,-747.5 185,-793.5 \" stroke=\"#000000\"/>\n<text fill=\"#000000\" font-family=\"Times,serif\" font-size=\"14.00\" text-anchor=\"middle\" x=\"214\" y=\"-778.3\">input:</text>\n<polyline fill=\"none\" points=\"185,-770.5 243,-770.5 \" stroke=\"#000000\"/>\n<text fill=\"#000000\" font-family=\"Times,serif\" font-size=\"14.00\" text-anchor=\"middle\" x=\"214\" y=\"-755.3\">output:</text>\n<polyline fill=\"none\" points=\"243,-747.5 243,-793.5 \" stroke=\"#000000\"/>\n<text fill=\"#000000\" font-family=\"Times,serif\" font-size=\"14.00\" text-anchor=\"middle\" x=\"294\" y=\"-778.3\">(None, 10240)</text>\n<polyline fill=\"none\" points=\"243,-770.5 345,-770.5 \" stroke=\"#000000\"/>\n<text fill=\"#000000\" font-family=\"Times,serif\" font-size=\"14.00\" text-anchor=\"middle\" x=\"294\" y=\"-755.3\">(None, 512)</text>\n</g>\n<!-- 140684401310096&#45;&gt;140682528046544 -->\n<g class=\"edge\" id=\"edge28\">\n<title>140684401310096-&gt;140682528046544</title>\n<path d=\"M226.5,-830.3799C226.5,-822.1745 226.5,-812.7679 226.5,-803.8786\" fill=\"none\" stroke=\"#000000\"/>\n<polygon fill=\"#000000\" points=\"230.0001,-803.784 226.5,-793.784 223.0001,-803.784 230.0001,-803.784\" stroke=\"#000000\"/>\n</g>\n<!-- 140684404055632 -->\n<g class=\"node\" id=\"node30\">\n<title>140684404055632</title>\n<polygon fill=\"none\" points=\"15,-664.5 15,-710.5 438,-710.5 438,-664.5 15,-664.5\" stroke=\"#000000\"/>\n<text fill=\"#000000\" font-family=\"Times,serif\" font-size=\"14.00\" text-anchor=\"middle\" x=\"154\" y=\"-683.8\">batch_normalization_62: BatchNormalization</text>\n<polyline fill=\"none\" points=\"293,-664.5 293,-710.5 \" stroke=\"#000000\"/>\n<text fill=\"#000000\" font-family=\"Times,serif\" font-size=\"14.00\" text-anchor=\"middle\" x=\"322\" y=\"-695.3\">input:</text>\n<polyline fill=\"none\" points=\"293,-687.5 351,-687.5 \" stroke=\"#000000\"/>\n<text fill=\"#000000\" font-family=\"Times,serif\" font-size=\"14.00\" text-anchor=\"middle\" x=\"322\" y=\"-672.3\">output:</text>\n<polyline fill=\"none\" points=\"351,-664.5 351,-710.5 \" stroke=\"#000000\"/>\n<text fill=\"#000000\" font-family=\"Times,serif\" font-size=\"14.00\" text-anchor=\"middle\" x=\"394.5\" y=\"-695.3\">(None, 512)</text>\n<polyline fill=\"none\" points=\"351,-687.5 438,-687.5 \" stroke=\"#000000\"/>\n<text fill=\"#000000\" font-family=\"Times,serif\" font-size=\"14.00\" text-anchor=\"middle\" x=\"394.5\" y=\"-672.3\">(None, 512)</text>\n</g>\n<!-- 140682528046544&#45;&gt;140684404055632 -->\n<g class=\"edge\" id=\"edge29\">\n<title>140682528046544-&gt;140684404055632</title>\n<path d=\"M226.5,-747.3799C226.5,-739.1745 226.5,-729.7679 226.5,-720.8786\" fill=\"none\" stroke=\"#000000\"/>\n<polygon fill=\"#000000\" points=\"230.0001,-720.784 226.5,-710.784 223.0001,-720.784 230.0001,-720.784\" stroke=\"#000000\"/>\n</g>\n<!-- 140684398659664 -->\n<g class=\"node\" id=\"node31\">\n<title>140684398659664</title>\n<polygon fill=\"none\" points=\"91.5,-581.5 91.5,-627.5 361.5,-627.5 361.5,-581.5 91.5,-581.5\" stroke=\"#000000\"/>\n<text fill=\"#000000\" font-family=\"Times,serif\" font-size=\"14.00\" text-anchor=\"middle\" x=\"154\" y=\"-600.8\">fc1_act: Activation</text>\n<polyline fill=\"none\" points=\"216.5,-581.5 216.5,-627.5 \" stroke=\"#000000\"/>\n<text fill=\"#000000\" font-family=\"Times,serif\" font-size=\"14.00\" text-anchor=\"middle\" x=\"245.5\" y=\"-612.3\">input:</text>\n<polyline fill=\"none\" points=\"216.5,-604.5 274.5,-604.5 \" stroke=\"#000000\"/>\n<text fill=\"#000000\" font-family=\"Times,serif\" font-size=\"14.00\" text-anchor=\"middle\" x=\"245.5\" y=\"-589.3\">output:</text>\n<polyline fill=\"none\" points=\"274.5,-581.5 274.5,-627.5 \" stroke=\"#000000\"/>\n<text fill=\"#000000\" font-family=\"Times,serif\" font-size=\"14.00\" text-anchor=\"middle\" x=\"318\" y=\"-612.3\">(None, 512)</text>\n<polyline fill=\"none\" points=\"274.5,-604.5 361.5,-604.5 \" stroke=\"#000000\"/>\n<text fill=\"#000000\" font-family=\"Times,serif\" font-size=\"14.00\" text-anchor=\"middle\" x=\"318\" y=\"-589.3\">(None, 512)</text>\n</g>\n<!-- 140684404055632&#45;&gt;140684398659664 -->\n<g class=\"edge\" id=\"edge30\">\n<title>140684404055632-&gt;140684398659664</title>\n<path d=\"M226.5,-664.3799C226.5,-656.1745 226.5,-646.7679 226.5,-637.8786\" fill=\"none\" stroke=\"#000000\"/>\n<polygon fill=\"#000000\" points=\"230.0001,-637.784 226.5,-627.784 223.0001,-637.784 230.0001,-637.784\" stroke=\"#000000\"/>\n</g>\n<!-- 140682694572624 -->\n<g class=\"node\" id=\"node32\">\n<title>140682694572624</title>\n<polygon fill=\"none\" points=\"82,-498.5 82,-544.5 371,-544.5 371,-498.5 82,-498.5\" stroke=\"#000000\"/>\n<text fill=\"#000000\" font-family=\"Times,serif\" font-size=\"14.00\" text-anchor=\"middle\" x=\"154\" y=\"-517.8\">fc1_dropout: Dropout</text>\n<polyline fill=\"none\" points=\"226,-498.5 226,-544.5 \" stroke=\"#000000\"/>\n<text fill=\"#000000\" font-family=\"Times,serif\" font-size=\"14.00\" text-anchor=\"middle\" x=\"255\" y=\"-529.3\">input:</text>\n<polyline fill=\"none\" points=\"226,-521.5 284,-521.5 \" stroke=\"#000000\"/>\n<text fill=\"#000000\" font-family=\"Times,serif\" font-size=\"14.00\" text-anchor=\"middle\" x=\"255\" y=\"-506.3\">output:</text>\n<polyline fill=\"none\" points=\"284,-498.5 284,-544.5 \" stroke=\"#000000\"/>\n<text fill=\"#000000\" font-family=\"Times,serif\" font-size=\"14.00\" text-anchor=\"middle\" x=\"327.5\" y=\"-529.3\">(None, 512)</text>\n<polyline fill=\"none\" points=\"284,-521.5 371,-521.5 \" stroke=\"#000000\"/>\n<text fill=\"#000000\" font-family=\"Times,serif\" font-size=\"14.00\" text-anchor=\"middle\" x=\"327.5\" y=\"-506.3\">(None, 512)</text>\n</g>\n<!-- 140684398659664&#45;&gt;140682694572624 -->\n<g class=\"edge\" id=\"edge31\">\n<title>140684398659664-&gt;140682694572624</title>\n<path d=\"M226.5,-581.3799C226.5,-573.1745 226.5,-563.7679 226.5,-554.8786\" fill=\"none\" stroke=\"#000000\"/>\n<polygon fill=\"#000000\" points=\"230.0001,-554.784 226.5,-544.784 223.0001,-554.784 230.0001,-554.784\" stroke=\"#000000\"/>\n</g>\n<!-- 140682694840592 -->\n<g class=\"node\" id=\"node33\">\n<title>140682694840592</title>\n<polygon fill=\"none\" points=\"115.5,-415.5 115.5,-461.5 337.5,-461.5 337.5,-415.5 115.5,-415.5\" stroke=\"#000000\"/>\n<text fill=\"#000000\" font-family=\"Times,serif\" font-size=\"14.00\" text-anchor=\"middle\" x=\"154\" y=\"-434.8\">fc2: Dense</text>\n<polyline fill=\"none\" points=\"192.5,-415.5 192.5,-461.5 \" stroke=\"#000000\"/>\n<text fill=\"#000000\" font-family=\"Times,serif\" font-size=\"14.00\" text-anchor=\"middle\" x=\"221.5\" y=\"-446.3\">input:</text>\n<polyline fill=\"none\" points=\"192.5,-438.5 250.5,-438.5 \" stroke=\"#000000\"/>\n<text fill=\"#000000\" font-family=\"Times,serif\" font-size=\"14.00\" text-anchor=\"middle\" x=\"221.5\" y=\"-423.3\">output:</text>\n<polyline fill=\"none\" points=\"250.5,-415.5 250.5,-461.5 \" stroke=\"#000000\"/>\n<text fill=\"#000000\" font-family=\"Times,serif\" font-size=\"14.00\" text-anchor=\"middle\" x=\"294\" y=\"-446.3\">(None, 512)</text>\n<polyline fill=\"none\" points=\"250.5,-438.5 337.5,-438.5 \" stroke=\"#000000\"/>\n<text fill=\"#000000\" font-family=\"Times,serif\" font-size=\"14.00\" text-anchor=\"middle\" x=\"294\" y=\"-423.3\">(None, 512)</text>\n</g>\n<!-- 140682694572624&#45;&gt;140682694840592 -->\n<g class=\"edge\" id=\"edge32\">\n<title>140682694572624-&gt;140682694840592</title>\n<path d=\"M226.5,-498.3799C226.5,-490.1745 226.5,-480.7679 226.5,-471.8786\" fill=\"none\" stroke=\"#000000\"/>\n<polygon fill=\"#000000\" points=\"230.0001,-471.784 226.5,-461.784 223.0001,-471.784 230.0001,-471.784\" stroke=\"#000000\"/>\n</g>\n<!-- 140682695779088 -->\n<g class=\"node\" id=\"node34\">\n<title>140682695779088</title>\n<polygon fill=\"none\" points=\"15,-332.5 15,-378.5 438,-378.5 438,-332.5 15,-332.5\" stroke=\"#000000\"/>\n<text fill=\"#000000\" font-family=\"Times,serif\" font-size=\"14.00\" text-anchor=\"middle\" x=\"154\" y=\"-351.8\">batch_normalization_63: BatchNormalization</text>\n<polyline fill=\"none\" points=\"293,-332.5 293,-378.5 \" stroke=\"#000000\"/>\n<text fill=\"#000000\" font-family=\"Times,serif\" font-size=\"14.00\" text-anchor=\"middle\" x=\"322\" y=\"-363.3\">input:</text>\n<polyline fill=\"none\" points=\"293,-355.5 351,-355.5 \" stroke=\"#000000\"/>\n<text fill=\"#000000\" font-family=\"Times,serif\" font-size=\"14.00\" text-anchor=\"middle\" x=\"322\" y=\"-340.3\">output:</text>\n<polyline fill=\"none\" points=\"351,-332.5 351,-378.5 \" stroke=\"#000000\"/>\n<text fill=\"#000000\" font-family=\"Times,serif\" font-size=\"14.00\" text-anchor=\"middle\" x=\"394.5\" y=\"-363.3\">(None, 512)</text>\n<polyline fill=\"none\" points=\"351,-355.5 438,-355.5 \" stroke=\"#000000\"/>\n<text fill=\"#000000\" font-family=\"Times,serif\" font-size=\"14.00\" text-anchor=\"middle\" x=\"394.5\" y=\"-340.3\">(None, 512)</text>\n</g>\n<!-- 140682694840592&#45;&gt;140682695779088 -->\n<g class=\"edge\" id=\"edge33\">\n<title>140682694840592-&gt;140682695779088</title>\n<path d=\"M226.5,-415.3799C226.5,-407.1745 226.5,-397.7679 226.5,-388.8786\" fill=\"none\" stroke=\"#000000\"/>\n<polygon fill=\"#000000\" points=\"230.0001,-388.784 226.5,-378.784 223.0001,-388.784 230.0001,-388.784\" stroke=\"#000000\"/>\n</g>\n<!-- 140674675946896 -->\n<g class=\"node\" id=\"node35\">\n<title>140674675946896</title>\n<polygon fill=\"none\" points=\"91.5,-249.5 91.5,-295.5 361.5,-295.5 361.5,-249.5 91.5,-249.5\" stroke=\"#000000\"/>\n<text fill=\"#000000\" font-family=\"Times,serif\" font-size=\"14.00\" text-anchor=\"middle\" x=\"154\" y=\"-268.8\">fc2_act: Activation</text>\n<polyline fill=\"none\" points=\"216.5,-249.5 216.5,-295.5 \" stroke=\"#000000\"/>\n<text fill=\"#000000\" font-family=\"Times,serif\" font-size=\"14.00\" text-anchor=\"middle\" x=\"245.5\" y=\"-280.3\">input:</text>\n<polyline fill=\"none\" points=\"216.5,-272.5 274.5,-272.5 \" stroke=\"#000000\"/>\n<text fill=\"#000000\" font-family=\"Times,serif\" font-size=\"14.00\" text-anchor=\"middle\" x=\"245.5\" y=\"-257.3\">output:</text>\n<polyline fill=\"none\" points=\"274.5,-249.5 274.5,-295.5 \" stroke=\"#000000\"/>\n<text fill=\"#000000\" font-family=\"Times,serif\" font-size=\"14.00\" text-anchor=\"middle\" x=\"318\" y=\"-280.3\">(None, 512)</text>\n<polyline fill=\"none\" points=\"274.5,-272.5 361.5,-272.5 \" stroke=\"#000000\"/>\n<text fill=\"#000000\" font-family=\"Times,serif\" font-size=\"14.00\" text-anchor=\"middle\" x=\"318\" y=\"-257.3\">(None, 512)</text>\n</g>\n<!-- 140682695779088&#45;&gt;140674675946896 -->\n<g class=\"edge\" id=\"edge34\">\n<title>140682695779088-&gt;140674675946896</title>\n<path d=\"M226.5,-332.3799C226.5,-324.1745 226.5,-314.7679 226.5,-305.8786\" fill=\"none\" stroke=\"#000000\"/>\n<polygon fill=\"#000000\" points=\"230.0001,-305.784 226.5,-295.784 223.0001,-305.784 230.0001,-305.784\" stroke=\"#000000\"/>\n</g>\n<!-- 140682695394576 -->\n<g class=\"node\" id=\"node36\">\n<title>140682695394576</title>\n<polygon fill=\"none\" points=\"82,-166.5 82,-212.5 371,-212.5 371,-166.5 82,-166.5\" stroke=\"#000000\"/>\n<text fill=\"#000000\" font-family=\"Times,serif\" font-size=\"14.00\" text-anchor=\"middle\" x=\"154\" y=\"-185.8\">fc2_dropout: Dropout</text>\n<polyline fill=\"none\" points=\"226,-166.5 226,-212.5 \" stroke=\"#000000\"/>\n<text fill=\"#000000\" font-family=\"Times,serif\" font-size=\"14.00\" text-anchor=\"middle\" x=\"255\" y=\"-197.3\">input:</text>\n<polyline fill=\"none\" points=\"226,-189.5 284,-189.5 \" stroke=\"#000000\"/>\n<text fill=\"#000000\" font-family=\"Times,serif\" font-size=\"14.00\" text-anchor=\"middle\" x=\"255\" y=\"-174.3\">output:</text>\n<polyline fill=\"none\" points=\"284,-166.5 284,-212.5 \" stroke=\"#000000\"/>\n<text fill=\"#000000\" font-family=\"Times,serif\" font-size=\"14.00\" text-anchor=\"middle\" x=\"327.5\" y=\"-197.3\">(None, 512)</text>\n<polyline fill=\"none\" points=\"284,-189.5 371,-189.5 \" stroke=\"#000000\"/>\n<text fill=\"#000000\" font-family=\"Times,serif\" font-size=\"14.00\" text-anchor=\"middle\" x=\"327.5\" y=\"-174.3\">(None, 512)</text>\n</g>\n<!-- 140674675946896&#45;&gt;140682695394576 -->\n<g class=\"edge\" id=\"edge35\">\n<title>140674675946896-&gt;140682695394576</title>\n<path d=\"M226.5,-249.3799C226.5,-241.1745 226.5,-231.7679 226.5,-222.8786\" fill=\"none\" stroke=\"#000000\"/>\n<polygon fill=\"#000000\" points=\"230.0001,-222.784 226.5,-212.784 223.0001,-222.784 230.0001,-222.784\" stroke=\"#000000\"/>\n</g>\n<!-- 140682695216400 -->\n<g class=\"node\" id=\"node37\">\n<title>140682695216400</title>\n<polygon fill=\"none\" points=\"115.5,-83.5 115.5,-129.5 337.5,-129.5 337.5,-83.5 115.5,-83.5\" stroke=\"#000000\"/>\n<text fill=\"#000000\" font-family=\"Times,serif\" font-size=\"14.00\" text-anchor=\"middle\" x=\"154\" y=\"-102.8\">fc3: Dense</text>\n<polyline fill=\"none\" points=\"192.5,-83.5 192.5,-129.5 \" stroke=\"#000000\"/>\n<text fill=\"#000000\" font-family=\"Times,serif\" font-size=\"14.00\" text-anchor=\"middle\" x=\"221.5\" y=\"-114.3\">input:</text>\n<polyline fill=\"none\" points=\"192.5,-106.5 250.5,-106.5 \" stroke=\"#000000\"/>\n<text fill=\"#000000\" font-family=\"Times,serif\" font-size=\"14.00\" text-anchor=\"middle\" x=\"221.5\" y=\"-91.3\">output:</text>\n<polyline fill=\"none\" points=\"250.5,-83.5 250.5,-129.5 \" stroke=\"#000000\"/>\n<text fill=\"#000000\" font-family=\"Times,serif\" font-size=\"14.00\" text-anchor=\"middle\" x=\"294\" y=\"-114.3\">(None, 512)</text>\n<polyline fill=\"none\" points=\"250.5,-106.5 337.5,-106.5 \" stroke=\"#000000\"/>\n<text fill=\"#000000\" font-family=\"Times,serif\" font-size=\"14.00\" text-anchor=\"middle\" x=\"294\" y=\"-91.3\">(None, 95)</text>\n</g>\n<!-- 140682695394576&#45;&gt;140682695216400 -->\n<g class=\"edge\" id=\"edge36\">\n<title>140682695394576-&gt;140682695216400</title>\n<path d=\"M226.5,-166.3799C226.5,-158.1745 226.5,-148.7679 226.5,-139.8786\" fill=\"none\" stroke=\"#000000\"/>\n<polygon fill=\"#000000\" points=\"230.0001,-139.784 226.5,-129.784 223.0001,-139.784 230.0001,-139.784\" stroke=\"#000000\"/>\n</g>\n<!-- 140682695185872 -->\n<g class=\"node\" id=\"node38\">\n<title>140682695185872</title>\n<polygon fill=\"none\" points=\"93,-.5 93,-46.5 360,-46.5 360,-.5 93,-.5\" stroke=\"#000000\"/>\n<text fill=\"#000000\" font-family=\"Times,serif\" font-size=\"14.00\" text-anchor=\"middle\" x=\"157.5\" y=\"-19.8\">softmax: Activation</text>\n<polyline fill=\"none\" points=\"222,-.5 222,-46.5 \" stroke=\"#000000\"/>\n<text fill=\"#000000\" font-family=\"Times,serif\" font-size=\"14.00\" text-anchor=\"middle\" x=\"251\" y=\"-31.3\">input:</text>\n<polyline fill=\"none\" points=\"222,-23.5 280,-23.5 \" stroke=\"#000000\"/>\n<text fill=\"#000000\" font-family=\"Times,serif\" font-size=\"14.00\" text-anchor=\"middle\" x=\"251\" y=\"-8.3\">output:</text>\n<polyline fill=\"none\" points=\"280,-.5 280,-46.5 \" stroke=\"#000000\"/>\n<text fill=\"#000000\" font-family=\"Times,serif\" font-size=\"14.00\" text-anchor=\"middle\" x=\"320\" y=\"-31.3\">(None, 95)</text>\n<polyline fill=\"none\" points=\"280,-23.5 360,-23.5 \" stroke=\"#000000\"/>\n<text fill=\"#000000\" font-family=\"Times,serif\" font-size=\"14.00\" text-anchor=\"middle\" x=\"320\" y=\"-8.3\">(None, 95)</text>\n</g>\n<!-- 140682695216400&#45;&gt;140682695185872 -->\n<g class=\"edge\" id=\"edge37\">\n<title>140682695216400-&gt;140682695185872</title>\n<path d=\"M226.5,-83.3799C226.5,-75.1745 226.5,-65.7679 226.5,-56.8786\" fill=\"none\" stroke=\"#000000\"/>\n<polygon fill=\"#000000\" points=\"230.0001,-56.784 226.5,-46.784 223.0001,-56.784 230.0001,-56.784\" stroke=\"#000000\"/>\n</g>\n</g>\n</svg>"
          },
          "metadata": {
            "tags": []
          },
          "execution_count": 68
        }
      ]
    },
    {
      "cell_type": "code",
      "metadata": {
        "colab": {
          "base_uri": "https://localhost:8080/",
          "height": 573
        },
        "id": "89N0fyOsgqAF",
        "outputId": "bf6e0a0f-2e2b-4b79-ae18-be5b126f9cdb"
      },
      "source": [
        "import matplotlib.pyplot as plt\n",
        "\n",
        "# history = model.fit(x, y, validation_split=0.25, epochs=50, batch_size=16, verbose=1)\n",
        "\n",
        "# 绘制训练 & 验证的准确率值\n",
        "plt.plot(history.history['accuracy'])\n",
        "plt.plot(history.history['val_accuracy'])\n",
        "plt.title('Model accuracy')\n",
        "plt.ylabel('Accuracy')\n",
        "plt.xlabel('Epoch')\n",
        "plt.legend(['Train', 'Test'], loc='upper left')\n",
        "plt.show()\n",
        "\n",
        "# 绘制训练 & 验证的损失值\n",
        "plt.plot(history.history['loss'])\n",
        "plt.plot(history.history['val_loss'])\n",
        "plt.title('Model loss')\n",
        "plt.ylabel('Loss')\n",
        "plt.xlabel('Epoch')\n",
        "plt.legend(['Train', 'Test'], loc='upper left')\n",
        "plt.show()"
      ],
      "execution_count": 55,
      "outputs": [
        {
          "output_type": "display_data",
          "data": {
            "image/png": "[encoded data removed]",
            "text/plain": [
              "<Figure size 432x288 with 1 Axes>"
            ]
          },
          "metadata": {
            "tags": [],
            "needs_background": "light"
          }
        },
        {
          "output_type": "display_data",
          "data": {
            "image/png": "[encoded data removed]",
            "text/plain": [
              "<Figure size 432x288 with 1 Axes>"
            ]
          },
          "metadata": {
            "tags": [],
            "needs_background": "light"
          }
        }
      ]
    }
  ]
}